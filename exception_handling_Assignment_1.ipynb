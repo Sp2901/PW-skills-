{
 "cells": [
  {
   "cell_type": "markdown",
   "id": "65d7250e-eaff-4a4f-bf6b-bb707d43391e",
   "metadata": {},
   "source": [
    "# Q1. What is an Exception in python? Write the differen between Exceptions and syntx errors."
   ]
  },
  {
   "cell_type": "markdown",
   "id": "edcf5100-bdcc-4015-946b-d1b037b4363d",
   "metadata": {},
   "source": [
    "- Errors are the problems in a program due to which the program will stop the execution. On the other hand, exceptions are raised when some internal events occur which changes the normal flow of the program. \n",
    "- Two types of Error occurs in python. \n",
    " \n",
    "\n",
    "- Syntax errors\n",
    "- Logical errors (Exceptions) \n",
    " "
   ]
  },
  {
   "cell_type": "markdown",
   "id": "9d2ccd56-f519-450d-988f-84fb0780a724",
   "metadata": {},
   "source": [
    "# Q2. What happens when an excepstion is not handled? Explain with an example \n"
   ]
  },
  {
   "cell_type": "markdown",
   "id": "8c29b3ff-ab69-41be-acaf-d43d937662de",
   "metadata": {},
   "source": [
    "- When an exception is not handled, it typically leads to the termination of the program or the current execution path. The unhandled exception propagates up the call stack until it reaches a suitable exception handler or the top-level of the program, where it results in the program's termination.\n",
    "\n",
    "# Example"
   ]
  },
  {
   "cell_type": "code",
   "execution_count": 1,
   "id": "2e36e7ec-e8c8-493d-aaee-5933284cac35",
   "metadata": {},
   "outputs": [],
   "source": [
    "def divide_numbers():\n",
    "    try:\n",
    "        num1 = int(input(\"Enter the first number: \"))\n",
    "        num2 = int(input(\"Enter the second number: \"))\n",
    "        result = num1 / num2\n",
    "        print(\"Result: \", result)\n",
    "    except ValueError:\n",
    "        print(\"Invalid input. Please enter numbers.\")\n",
    "    except ZeroDivisionError:\n",
    "        print(\"Error: Division by zero.\")\n"
   ]
  },
  {
   "cell_type": "markdown",
   "id": "f41e557f-be51-4b4b-95b6-84038832a864",
   "metadata": {},
   "source": [
    "# Q3.what python statments are used to catch and handle excepstions? Explain with an example."
   ]
  },
  {
   "cell_type": "markdown",
   "id": "4652ff3b-218c-4444-8186-1cc87ae168f2",
   "metadata": {},
   "source": [
    "- In Python, the 'try-except' statement is used to catch and handle exceptions. The 'try' block contains the code that may raise an exception, and the 'except' block defines how to handle specific types of exceptions. "
   ]
  },
  {
   "cell_type": "code",
   "execution_count": 2,
   "id": "e7a030d5-9a51-4c11-935a-1792b85bfad8",
   "metadata": {},
   "outputs": [
    {
     "name": "stdin",
     "output_type": "stream",
     "text": [
      "Enter the first number:  2\n",
      "Enter the second number:  3\n"
     ]
    },
    {
     "name": "stdout",
     "output_type": "stream",
     "text": [
      "Result: 0.6666666666666666\n"
     ]
    }
   ],
   "source": [
    "def divide_numbers():\n",
    "    try:\n",
    "        num1 = int(input(\"Enter the first number: \"))\n",
    "        num2 = int(input(\"Enter the second number: \"))\n",
    "        result = num1 / num2\n",
    "        print(\"Result:\", result)\n",
    "    except ValueError:\n",
    "        print(\"Invalid input. Please enter numbers.\")\n",
    "    except ZeroDivisionError:\n",
    "        print(\"Error: Division by zero.\")\n",
    "\n",
    "divide_numbers()\n"
   ]
  },
  {
   "cell_type": "markdown",
   "id": "73a80d1f-a47d-4c70-b73e-0f12e0fb473c",
   "metadata": {},
   "source": [
    "# Q4. Explain wirh an example\n",
    "# A.Try and else\n",
    "# B.finally\n",
    "# C. raise"
   ]
  },
  {
   "cell_type": "markdown",
   "id": "6aea8690-ed95-4b3e-9869-866756364c1f",
   "metadata": {},
   "source": [
    "# A. Try and Else:\n",
    "- The try-except-else statement allows you to specify a block of code that should be executed if no exceptions are raised within the try block. The else block is optional and follows the except block(s).\n",
    "\n",
    "# Example:"
   ]
  },
  {
   "cell_type": "code",
   "execution_count": 3,
   "id": "157c7672-71a9-4c2a-8ae8-a2b20461308f",
   "metadata": {},
   "outputs": [
    {
     "name": "stdin",
     "output_type": "stream",
     "text": [
      "Enter the first number:  2\n",
      "Enter the second number:  3\n"
     ]
    },
    {
     "name": "stdout",
     "output_type": "stream",
     "text": [
      "Result: 0.6666666666666666\n"
     ]
    }
   ],
   "source": [
    "def divide_numbers():\n",
    "    try:\n",
    "        num1 = int(input(\"Enter the first number: \"))\n",
    "        num2 = int(input(\"Enter the second number: \"))\n",
    "        result = num1 / num2\n",
    "    except ValueError:\n",
    "        print(\"Invalid input. Please enter numbers.\")\n",
    "    except ZeroDivisionError:\n",
    "        print(\"Error: Division by zero.\")\n",
    "    else:\n",
    "        print(\"Result:\", result)\n",
    "\n",
    "divide_numbers()\n"
   ]
  },
  {
   "cell_type": "markdown",
   "id": "783e4be9-559a-4f17-9e77-57f563d52f72",
   "metadata": {},
   "source": [
    "# B. Finally:\n",
    "- The finally block is used to define a block of code that should be executed regardless of whether an exception occurs or not. It is typically used for cleanup actions or releasing resources. \n",
    "# Example:"
   ]
  },
  {
   "cell_type": "code",
   "execution_count": null,
   "id": "d4eec3e6-5ccb-4d32-8bc7-a6a2592efbed",
   "metadata": {},
   "outputs": [],
   "source": [
    "def open_and_read_file(file_path):\n",
    "    try:\n",
    "        file = open(file_path, 'r')\n",
    "        content = file.read()\n",
    "        print(\"File content:\", content)\n",
    "    except FileNotFoundError:\n",
    "        print(\"File not found.\")\n",
    "    finally:\n",
    "        if file:\n",
    "            file.close()\n",
    "\n",
    "open_and_read_file(\"example.txt\")\n"
   ]
  },
  {
   "cell_type": "markdown",
   "id": "5399211e-d44d-4ac4-b8dd-11bdd36e2dfb",
   "metadata": {},
   "source": [
    "# C. Raise:\n",
    "- The raise statement is used to explicitly raise an exception in Python. It allows you to create custom exceptions or raise built-in exceptions based on certain conditions. \n",
    "# Example:"
   ]
  },
  {
   "cell_type": "code",
   "execution_count": 4,
   "id": "54b92dae-c39b-4b2b-ac75-f3d514342bc0",
   "metadata": {},
   "outputs": [
    {
     "name": "stdout",
     "output_type": "stream",
     "text": [
      "You must be at least 18 years old.\n"
     ]
    }
   ],
   "source": [
    "def check_age(age):\n",
    "    if age < 0:\n",
    "        raise ValueError(\"Age cannot be negative.\")\n",
    "    elif age < 18:\n",
    "        raise ValueError(\"You must be at least 18 years old.\")\n",
    "    else:\n",
    "        print(\"Access granted.\")\n",
    "\n",
    "try:\n",
    "    check_age(15)\n",
    "except ValueError as error:\n",
    "    print(error)\n"
   ]
  },
  {
   "cell_type": "markdown",
   "id": "e4af1f8f-f78a-4619-a67e-a334818bd848",
   "metadata": {},
   "source": [
    "# Q5.what are custom excepstions in python?Why do we need custome exceptions? Explain with an example. "
   ]
  },
  {
   "cell_type": "markdown",
   "id": "2d60cb1e-7e91-416a-81c4-b2d4376e56c5",
   "metadata": {},
   "source": [
    " - Custom exceptions in Python are user-defined exceptions that allow programmers to create their own exception types tailored to specific situations or requirements. While Python provides a wide range of built-in exceptions, creating custom exceptions can enhance code readability, maintainability, and provide more specific error handling."
   ]
  },
  {
   "cell_type": "code",
   "execution_count": 6,
   "id": "9a6c0870-c11f-4a24-94ed-ffe88346b47b",
   "metadata": {},
   "outputs": [
    {
     "name": "stdout",
     "output_type": "stream",
     "text": [
      "Invalid value: cannot be negative.\n"
     ]
    }
   ],
   "source": [
    "class CustomException(Exception):\n",
    "    pass\n",
    "\n",
    "def check_value(value):\n",
    "    if value < 0:\n",
    "        raise CustomException(\"Invalid value: cannot be negative.\")\n",
    "\n",
    "try:\n",
    "    check_value(-5)\n",
    "except CustomException as error:\n",
    "    print(error)\n",
    "\n"
   ]
  },
  {
   "cell_type": "markdown",
   "id": "24baafdf-e463-4a49-91b8-ff04c5b3f6de",
   "metadata": {},
   "source": [
    "# Q6.create a custom exception class.use this class to handle an exception"
   ]
  },
  {
   "cell_type": "code",
   "execution_count": 7,
   "id": "ecbc8de9-875a-4218-917b-3ef0e9868100",
   "metadata": {},
   "outputs": [
    {
     "name": "stdout",
     "output_type": "stream",
     "text": [
      "Custom Exception: Cannot divide by zero.\n"
     ]
    }
   ],
   "source": [
    "class CustomException(Exception):\n",
    "    def __init__(self, message):\n",
    "        self.message = message\n",
    "\n",
    "    def __str__(self):\n",
    "        return f\"Custom Exception: {self.message}\"\n",
    "\n",
    "def divide_numbers(num1, num2):\n",
    "    try:\n",
    "        if num2 == 0:\n",
    "            raise CustomException(\"Cannot divide by zero.\")\n",
    "        result = num1 / num2\n",
    "        print(\"Result:\", result)\n",
    "    except CustomException as error:\n",
    "        print(error)\n",
    "\n",
    "# Example usage\n",
    "divide_numbers(10, 0)\n"
   ]
  },
  {
   "cell_type": "code",
   "execution_count": null,
   "id": "b2219814-df51-46fa-8825-e8b8be7504eb",
   "metadata": {},
   "outputs": [],
   "source": []
  }
 ],
 "metadata": {
  "kernelspec": {
   "display_name": "Python 3 (ipykernel)",
   "language": "python",
   "name": "python3"
  },
  "language_info": {
   "codemirror_mode": {
    "name": "ipython",
    "version": 3
   },
   "file_extension": ".py",
   "mimetype": "text/x-python",
   "name": "python",
   "nbconvert_exporter": "python",
   "pygments_lexer": "ipython3",
   "version": "3.10.9"
  }
 },
 "nbformat": 4,
 "nbformat_minor": 5
}
