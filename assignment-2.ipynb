{
 "cells": [
  {
   "cell_type": "markdown",
   "id": "37706baf-c718-414f-86bb-9e6efa3050d0",
   "metadata": {},
   "source": [
    "# Q1. How do you comment code in Python? What are the different types of comments?"
   ]
  },
  {
   "cell_type": "markdown",
   "id": "82091a15-6ac0-474e-9d30-cc34a55649e0",
   "metadata": {},
   "source": [
    "### Comments starts with a #, and Python will ignore them\n",
    "### Since Python will ignore string literals that are not assigned to a variable, you can add a multiline string (triple quotes) in your code, and place your comment inside it:"
   ]
  },
  {
   "cell_type": "code",
   "execution_count": 2,
   "id": "ba54beb0-2c1a-45d0-bbef-a4eb9e3b96ea",
   "metadata": {},
   "outputs": [
    {
     "name": "stdout",
     "output_type": "stream",
     "text": [
      "hello\n"
     ]
    }
   ],
   "source": [
    "# this is type of comment code\n",
    "print('hello')"
   ]
  },
  {
   "cell_type": "markdown",
   "id": "39cd64e2-65cd-467d-b917-e593b1a09b7c",
   "metadata": {},
   "source": [
    "# Q2. What are variables in Python? How do you declare and assign values to variables?"
   ]
  },
  {
   "cell_type": "code",
   "execution_count": 3,
   "id": "ae8ac12a-84cc-487a-bb15-b873e8b158a6",
   "metadata": {},
   "outputs": [],
   "source": [
    "var = 1 + 7"
   ]
  },
  {
   "cell_type": "code",
   "execution_count": 4,
   "id": "1bb74a47-e950-4cf0-a2e0-d1992d22fe00",
   "metadata": {},
   "outputs": [
    {
     "name": "stdout",
     "output_type": "stream",
     "text": [
      "8\n"
     ]
    }
   ],
   "source": [
    "print(var)"
   ]
  },
  {
   "cell_type": "markdown",
   "id": "201b8db9-7eac-42ee-a250-5f7e3d75ae30",
   "metadata": {},
   "source": [
    "# Q3. How do you convert one data type to another in Python?"
   ]
  },
  {
   "cell_type": "code",
   "execution_count": 5,
   "id": "5f54833b-fc04-4f6c-886b-acf11a80660f",
   "metadata": {},
   "outputs": [
    {
     "name": "stdout",
     "output_type": "stream",
     "text": [
      "x is of type: <class 'int'>\n",
      "y is of type: <class 'float'>\n",
      "20.6\n",
      "z is of type: <class 'float'>\n"
     ]
    }
   ],
   "source": [
    "x = 10\n",
    "\n",
    "print(\"x is of type:\",type(x))\n",
    "\n",
    "y = 10.6\n",
    "print(\"y is of type:\",type(y))\n",
    "\n",
    "z = x + y\n",
    "\n",
    "print(z)\n",
    "print(\"z is of type:\",type(z))\n"
   ]
  },
  {
   "cell_type": "markdown",
   "id": "3a064ec9-a599-46b8-9bb1-cd059175fbc4",
   "metadata": {},
   "source": [
    "# Q4. How do you write and execute a Python script from the command line"
   ]
  },
  {
   "cell_type": "markdown",
   "id": "4453894b-c9a8-4c1b-8bdc-fa415262f8ec",
   "metadata": {},
   "source": [
    "\n",
    "- Verify your terminal or command prompt can run Python\n",
    "- Create a Python script that is error-free\n",
    "- Use python your/file/name.py to run your script from the terminal"
   ]
  },
  {
   "cell_type": "markdown",
   "id": "321f3860-34e2-47b2-88b0-718295c029e0",
   "metadata": {},
   "source": [
    "# Q5. Given a list my_list = [1, 2, 3, 4, 5], write the code to slice the list and obtain the sub-list [2, 3]."
   ]
  },
  {
   "cell_type": "code",
   "execution_count": 1,
   "id": "38f16d45-3828-4c4b-bdd5-2f5190595340",
   "metadata": {},
   "outputs": [],
   "source": [
    "my_list=[1,2,3,4,5]"
   ]
  },
  {
   "cell_type": "code",
   "execution_count": 3,
   "id": "b85f791c-482d-4ec3-8587-b76ef2e753f6",
   "metadata": {},
   "outputs": [
    {
     "data": {
      "text/plain": [
       "[2, 3]"
      ]
     },
     "execution_count": 3,
     "metadata": {},
     "output_type": "execute_result"
    }
   ],
   "source": [
    "my_list[1:3]"
   ]
  },
  {
   "cell_type": "markdown",
   "id": "9c8985a1-4a20-4f28-9da5-97f9c3ba3824",
   "metadata": {},
   "source": [
    "# Q6. What is a complex number in mathematics, and how is it represented in Python"
   ]
  },
  {
   "cell_type": "code",
   "execution_count": 4,
   "id": "2f439cb1-80fd-43f3-a56c-4bc3eb515ba9",
   "metadata": {},
   "outputs": [],
   "source": [
    "complex_num = 23 + 45j"
   ]
  },
  {
   "cell_type": "code",
   "execution_count": 5,
   "id": "7237f329-d220-456f-a3d3-f9a2209cc551",
   "metadata": {},
   "outputs": [
    {
     "data": {
      "text/plain": [
       "(23+45j)"
      ]
     },
     "execution_count": 5,
     "metadata": {},
     "output_type": "execute_result"
    }
   ],
   "source": [
    "complex_num"
   ]
  },
  {
   "cell_type": "code",
   "execution_count": 7,
   "id": "d7206f18-3968-4d3c-82eb-62e25caea1cd",
   "metadata": {},
   "outputs": [
    {
     "data": {
      "text/plain": [
       "23.0"
      ]
     },
     "execution_count": 7,
     "metadata": {},
     "output_type": "execute_result"
    }
   ],
   "source": [
    "complex_num.real"
   ]
  },
  {
   "cell_type": "code",
   "execution_count": 8,
   "id": "ced028ee-4b40-4525-8cd8-7d9bf76207cb",
   "metadata": {},
   "outputs": [
    {
     "data": {
      "text/plain": [
       "45.0"
      ]
     },
     "execution_count": 8,
     "metadata": {},
     "output_type": "execute_result"
    }
   ],
   "source": [
    "complex_num.imag"
   ]
  },
  {
   "cell_type": "markdown",
   "id": "2eea27d8-a97c-40a2-be24-08046711c29a",
   "metadata": {},
   "source": [
    "# Q7. What is the correct way to declare a variable named age and assign the value 25 to it?"
   ]
  },
  {
   "cell_type": "code",
   "execution_count": 9,
   "id": "c4ac7f34-2fa2-43bc-8cb5-dabfcd93ffed",
   "metadata": {},
   "outputs": [],
   "source": [
    "age = 25"
   ]
  },
  {
   "cell_type": "code",
   "execution_count": 10,
   "id": "79958dbd-e46a-49dc-982c-f993f2234c52",
   "metadata": {},
   "outputs": [
    {
     "data": {
      "text/plain": [
       "25"
      ]
     },
     "execution_count": 10,
     "metadata": {},
     "output_type": "execute_result"
    }
   ],
   "source": [
    "age"
   ]
  },
  {
   "cell_type": "markdown",
   "id": "6dc44187-db61-419c-8c4d-578711f19e87",
   "metadata": {},
   "source": [
    "# Q8. Declare a variable named price and assign the value 9.99 to it. What data type does this variable belong to?"
   ]
  },
  {
   "cell_type": "code",
   "execution_count": 11,
   "id": "dcb48a15-b921-42df-9dda-4de54eec6a19",
   "metadata": {},
   "outputs": [],
   "source": [
    "price = 9.99"
   ]
  },
  {
   "cell_type": "code",
   "execution_count": 12,
   "id": "578dc216-92a0-499f-8a5c-26d2c16a83ac",
   "metadata": {},
   "outputs": [
    {
     "data": {
      "text/plain": [
       "float"
      ]
     },
     "execution_count": 12,
     "metadata": {},
     "output_type": "execute_result"
    }
   ],
   "source": [
    "type(price)"
   ]
  },
  {
   "cell_type": "markdown",
   "id": "a80d5c0c-97c6-418b-ba31-8230e4561933",
   "metadata": {},
   "source": [
    "# Q9. Create a variable named name and assign your full name to it as a string. How would you print the value of this variable?"
   ]
  },
  {
   "cell_type": "code",
   "execution_count": 13,
   "id": "56125ca3-55e1-4ce9-b5d3-871b9dc2c987",
   "metadata": {},
   "outputs": [],
   "source": [
    "name = 'smita prajapati'"
   ]
  },
  {
   "cell_type": "code",
   "execution_count": 14,
   "id": "e851912f-2017-4b52-b101-3fc2926f19db",
   "metadata": {},
   "outputs": [
    {
     "name": "stdout",
     "output_type": "stream",
     "text": [
      "smita prajapati\n"
     ]
    }
   ],
   "source": [
    "print(name)"
   ]
  },
  {
   "cell_type": "markdown",
   "id": "d97b5074-84e3-4517-ae7c-7e0261d5c2a2",
   "metadata": {},
   "source": [
    "# Q10. Given the string \"Hello, World!\", extract the substring \"World\""
   ]
  },
  {
   "cell_type": "code",
   "execution_count": 16,
   "id": "d0b7cbb4-524e-4b27-bc3b-6f0c4205f30b",
   "metadata": {},
   "outputs": [],
   "source": [
    "str_1='Hello,World!'"
   ]
  },
  {
   "cell_type": "code",
   "execution_count": 18,
   "id": "aacb00ba-c6fe-4f4e-8f98-b0dddbd6eab4",
   "metadata": {},
   "outputs": [
    {
     "data": {
      "text/plain": [
       "'World'"
      ]
     },
     "execution_count": 18,
     "metadata": {},
     "output_type": "execute_result"
    }
   ],
   "source": [
    "str_1[6:11]"
   ]
  },
  {
   "cell_type": "markdown",
   "id": "60a881d8-4fda-451b-adc9-19011dad202a",
   "metadata": {},
   "source": [
    "# Q11. Create a variable named \"is_student\" and assign it a boolean value indicating whether you are currently a student or not."
   ]
  },
  {
   "cell_type": "code",
   "execution_count": 19,
   "id": "10689f40-97d3-4750-83ac-d1f1e20495b9",
   "metadata": {},
   "outputs": [],
   "source": [
    "is_student = 45.98"
   ]
  },
  {
   "cell_type": "code",
   "execution_count": 20,
   "id": "754f40c1-6855-4f2b-9db2-74610a033fd8",
   "metadata": {},
   "outputs": [
    {
     "data": {
      "text/plain": [
       "45.98"
      ]
     },
     "execution_count": 20,
     "metadata": {},
     "output_type": "execute_result"
    }
   ],
   "source": [
    "is_student"
   ]
  },
  {
   "cell_type": "code",
   "execution_count": 24,
   "id": "8d35d6f7-4f17-4cb1-a4ee-f1ad5c14b9e7",
   "metadata": {},
   "outputs": [
    {
     "name": "stdout",
     "output_type": "stream",
     "text": [
      "I'm student\n"
     ]
    }
   ],
   "source": [
    "if (is_student == 45.98):\n",
    "    print(\"I'm student\")\n",
    "\n",
    "else:\n",
    "    print(\"I'm not student\");\n"
   ]
  },
  {
   "cell_type": "code",
   "execution_count": null,
   "id": "39c57f00-9f0d-4e65-980e-60d12999011b",
   "metadata": {},
   "outputs": [],
   "source": []
  }
 ],
 "metadata": {
  "kernelspec": {
   "display_name": "Python 3 (ipykernel)",
   "language": "python",
   "name": "python3"
  },
  "language_info": {
   "codemirror_mode": {
    "name": "ipython",
    "version": 3
   },
   "file_extension": ".py",
   "mimetype": "text/x-python",
   "name": "python",
   "nbconvert_exporter": "python",
   "pygments_lexer": "ipython3",
   "version": "3.10.8"
  }
 },
 "nbformat": 4,
 "nbformat_minor": 5
}
