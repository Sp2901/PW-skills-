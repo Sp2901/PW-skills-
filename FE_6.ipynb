{
 "cells": [
  {
   "cell_type": "markdown",
   "id": "23b8af25-79c4-4c72-b8dc-9909157462e0",
   "metadata": {},
   "source": [
    "# Q1. Pearson correlation coefficient is a measure of the linear relationship between two variables. Suppose you have collected data on the amount of time students spend studying for an exam and their final exam scores. Calculate the Pearson correlation coefficient between these two variables and interpret the result."
   ]
  },
  {
   "cell_type": "code",
   "execution_count": 1,
   "id": "d3e815c1-ffe8-45eb-ac17-721d65e709fb",
   "metadata": {
    "tags": []
   },
   "outputs": [
    {
     "name": "stdout",
     "output_type": "stream",
     "text": [
      "Pearson Correlation Coefficient (r): 1.0\n"
     ]
    }
   ],
   "source": [
    "import numpy as np\n",
    "\n",
    "study_time = [10, 20, 30, 40, 50, 60, 70, 80, 90, 100]\n",
    "exam_scores = [50, 55, 60, 65, 70, 75, 80, 85, 90, 95]\n",
    "\n",
    "# Calculate the Pearson correlation coefficient\n",
    "correlation_coefficient = np.corrcoef(study_time, exam_scores)[0, 1]\n",
    "\n",
    "print(\"Pearson Correlation Coefficient (r):\", correlation_coefficient)\n"
   ]
  },
  {
   "cell_type": "markdown",
   "id": "57ce7a42-a395-4a83-b6a8-be668cc93262",
   "metadata": {},
   "source": [
    "**Interpreting the result:**\n",
    "\n",
    "- The Pearson correlation coefficient (r) ranges from -1 to 1. It measures the strength and direction of the linear relationship between the variables.\n",
    "- If r is close to 1, it indicates a strong positive linear relationship, meaning that as students spend more time studying, their exam scores tend to be higher.\n",
    "- If r is close to -1, it indicates a strong negative linear relationship, meaning that as students spend more time studying, their exam scores tend to be lower.\n",
    "- If r is close to 0, it suggests little to no linear relationship, meaning that there is no consistent linear pattern between study time and exam scores.\n",
    "- The result you obtain after calculating r will help you understand the extent to which study time and exam scores are linearly related in your dataset. However, keep in mind that the Pearson correlation coefficient only captures linear relationships. If the relationship is nonlinear,r may not accurately represent the association between the variables. Additionally, correlation does not imply causation, so while a strong correlation may be observed, it doesn't necessarily mean that more study time directly causes higher exam scores. Other factors may be at play."
   ]
  },
  {
   "cell_type": "markdown",
   "id": "0de0a4e3-a51f-4fe1-bcd1-f632f5f52186",
   "metadata": {},
   "source": [
    "# Q2. Spearman's rank correlation is a measure of the monotonic relationship between two variables.Suppose you have collected data on the amount of sleep individuals get each night and their overall job satisfaction level on a scale of 1 to 10. Calculate the Spearman's rank correlation between these two variables and interpret the result."
   ]
  },
  {
   "cell_type": "code",
   "execution_count": 2,
   "id": "c20a115e-1e7a-4934-817d-677c98837c99",
   "metadata": {
    "tags": []
   },
   "outputs": [
    {
     "name": "stdout",
     "output_type": "stream",
     "text": [
      "Spearman's Rank Correlation Coefficient (ρ): 0.9478946531678895\n"
     ]
    }
   ],
   "source": [
    "import numpy as np\n",
    "\n",
    "sleep_duration = [7, 6, 8, 5, 6, 7, 9, 5, 8, 7]\n",
    "job_satisfaction = [8, 5, 9, 4, 6, 7, 9, 3, 8, 7]\n",
    "\n",
    "# Calculate Spearman's rank correlation\n",
    "spearman_corr = np.corrcoef(sleep_duration, job_satisfaction, rowvar=False)\n",
    "\n",
    "print(\"Spearman's Rank Correlation Coefficient (ρ):\", spearman_corr[0, 1])\n"
   ]
  },
  {
   "cell_type": "markdown",
   "id": "70ee2305-1a9b-45e0-9dd3-82395eb6e6c5",
   "metadata": {},
   "source": [
    " **Interpreting the result:**\n",
    "\n",
    "- Spearman's rank correlation coefficient (ρ) ranges from -1 to 1. It measures the strength and direction of the monotonic relationship between the variables.\n",
    "- If ρ is close to 1, it indicates a strong positive monotonic relationship. This means that as sleep duration increases, job satisfaction tends to increase.\n",
    "- If ρ is close to -1, it indicates a strong negative monotonic relationship. This means that as sleep duration increases, job satisfaction tends to decrease.\n",
    "- If ρ is close to 0, it suggests little to no monotonic relationship.\n",
    "- The result you obtain will help you understand the direction and strength of the monotonic relationship between the amount of sleep and job satisfaction level in your dataset. Unlike Pearson's correlation, Spearman's rank correlation does not assume linearity, making it suitable for assessing associations in data with non-linear relationships or ordinal data (like a satisfaction scale).\n",
    "- Remember that correlation does not imply causation, and a significant correlation does not necessarily mean that one variable causes the other. Other factors may influence the observed relationship."
   ]
  },
  {
   "cell_type": "markdown",
   "id": "357a6cab-4393-49b1-b972-b86b670ac03a",
   "metadata": {},
   "source": [
    "# Q3. Suppose you are conducting a study to examine the relationship between the number of hours of exercise per week and body mass index (BMI) in a sample of adults. You collected data on both variables for 50 participants. Calculate the Pearson correlation coefficient and the Spearman's rank correlation between these two variables and compare the results."
   ]
  },
  {
   "cell_type": "code",
   "execution_count": 19,
   "id": "20b239d4-4f08-470f-97d8-b8458d4760fe",
   "metadata": {
    "tags": []
   },
   "outputs": [
    {
     "name": "stdout",
     "output_type": "stream",
     "text": [
      "Pearson Correlation Coefficient (r): -0.6112305134460402\n",
      "Spearman's Rank Correlation Coefficient (ρ): -0.6112305134460402\n"
     ]
    }
   ],
   "source": [
    "import numpy as np\n",
    "\n",
    "# Sample data for hours of exercise and BMI\n",
    "hours_of_exercise = [3, 4, 2, 5, 6, 2, 3, 4, 5, 1, 7, 3, 4, 6, 2, 5, 4, 3, 2, 1, 5, 6, 2, 3, 4, 7, 1, 5, 6, 2, 3, 4, 5, 1, 6, 2, 3, 4, 5, 1, 7, 3, 4, 2]\n",
    "bmi = [25, 26, 28, 24, 23, 30, 29, 26, 27, 31, 22, 28, 27, 24, 29, 25, 26, 28, 30, 31, 27, 24, 28, 29, 26, 22, 32, 27, 25, 28, 29, 26, 24, 31, 27, 28, 26, 25, 30, 21, 28, 30, 25, 27]\n",
    "\n",
    "# Calculate the Pearson correlation coefficient\n",
    "pearson_corr = np.corrcoef(hours_of_exercise, bmi)[0, 1]\n",
    "\n",
    "print(\"Pearson Correlation Coefficient (r):\", pearson_corr)\n",
    "\n",
    "# Calculate Spearman's rank correlation\n",
    "spearman_corr = np.corrcoef(hours_of_exercise, bmi, rowvar=False)\n",
    "\n",
    "print(\"Spearman's Rank Correlation Coefficient (ρ):\", spearman_corr[0, 1])\n"
   ]
  },
  {
   "cell_type": "markdown",
   "id": "8fea9a75-0fa3-4909-b3a4-4735cea5c557",
   "metadata": {},
   "source": [
    "# Q4. A researcher is interested in examining the relationship between the number of hours individuals spend watching television per day and their level of physical activity. The researcher collected data on both variables from a sample of 50 participants. Calculate the Pearson correlation coefficient between these two variables."
   ]
  },
  {
   "cell_type": "code",
   "execution_count": 21,
   "id": "b6af5f65-ff44-4f6b-abc7-c576320ece78",
   "metadata": {
    "tags": []
   },
   "outputs": [
    {
     "name": "stdout",
     "output_type": "stream",
     "text": [
      "Pearson Correlation Coefficient (r): -0.9216810787417488\n"
     ]
    }
   ],
   "source": [
    "import numpy as np\n",
    "\n",
    "# Sample data for hours of TV watching and level of physical activity\n",
    "tv_hours = [2.5, 3.0, 4.0, 2.0, 3.5, 2.0, 2.5, 3.5, 4.0, 1.5, 4.5, 2.0, 3.0, 3.5, 2.5, 4.0, 3.5, 2.0, 2.5, 1.5, 3.5, 3.0, 2.0, 2.5, 3.0, 4.5, 1.0, 4.0, 4.5, 2.0, 2.5, 3.0, 4.0, 1.0, 4.5, 2.5, 3.0, 3.5, 2.0, 1.5, 4.0, 2.0, 3.0, 3.5, 4.5, 2.5, 3.5, 2.5]\n",
    "physical_activity = [30, 45, 20, 60, 40, 50, 35, 25, 20, 70, 15, 55, 45, 30, 40, 20, 25, 50, 35, 70, 35, 40, 60, 55, 50, 10, 80, 25, 20, 45, 30, 40, 20, 90, 15, 45, 30, 25, 60, 70, 20, 60, 45, 35, 10, 40, 30, 40]\n",
    "\n",
    "# Calculate the Pearson correlation coefficient\n",
    "pearson_corr = np.corrcoef(tv_hours, physical_activity)[0, 1]\n",
    "\n",
    "print(\"Pearson Correlation Coefficient (r):\", pearson_corr)\n"
   ]
  },
  {
   "cell_type": "markdown",
   "id": "58826b8b-4b4a-4862-8e58-2f9f7420e6c2",
   "metadata": {},
   "source": [
    "# Q5. A survey was conducted to examine the relationship between age and preference for a particular brand of soft drink. The survey results are shown below.\n"
   ]
  },
  {
   "cell_type": "code",
   "execution_count": 22,
   "id": "49d4d78d-073f-40d9-818a-051444717997",
   "metadata": {
    "tags": []
   },
   "outputs": [
    {
     "name": "stdout",
     "output_type": "stream",
     "text": [
      "Point-Biserial Correlation Coefficient: 0.7587035441865058\n"
     ]
    }
   ],
   "source": [
    "import numpy as np\n",
    "\n",
    "# Age data\n",
    "age = np.array([25, 42, 37, 19, 31, 28])\n",
    "\n",
    "# Soft drink preference data (0 for Coke, 1 for Pepsi, 2 for Mountain Dew)\n",
    "preference = np.array([0, 1, 2, 0, 1, 0])\n",
    "\n",
    "# Calculate the point-biserial correlation coefficient\n",
    "point_biserial_corr = np.corrcoef(age, preference)[0, 1]\n",
    "\n",
    "print(\"Point-Biserial Correlation Coefficient:\", point_biserial_corr)\n"
   ]
  },
  {
   "cell_type": "markdown",
   "id": "f8523175-087f-48de-b657-6d1cfe1b3bae",
   "metadata": {},
   "source": [
    "# Q6. A company is interested in examining the relationship between the number of sales calls made per day and the number of sales made per week. The company collected data on both variables from a sample of 30 sales representatives. Calculate the Pearson correlation coefficient between these two variables."
   ]
  },
  {
   "cell_type": "code",
   "execution_count": 24,
   "id": "28d509eb-03f0-4f13-acff-f7c0f82d191d",
   "metadata": {
    "tags": []
   },
   "outputs": [
    {
     "name": "stdout",
     "output_type": "stream",
     "text": [
      "Pearson Correlation Coefficient (r): 0.9812688515552982\n"
     ]
    }
   ],
   "source": [
    "import numpy as np\n",
    "\n",
    "# Sample data for the number of sales calls made per day and sales made per week\n",
    "sales_calls_per_day = [25, 30, 20, 35, 40, 22, 28, 32, 37, 19, 29, 26, 31, 33, 27, 24, 23, 30, 34, 21, 39, 36, 29, 26, 31, 30, 19, 35, 36, 28]\n",
    "sales_per_week = [100, 120, 80, 140, 160, 90, 110, 125, 135, 75, 115, 105, 130, 145, 115, 100, 95, 120, 130, 85, 155, 150, 115, 100, 125, 120, 80, 140, 150, 110]\n",
    "\n",
    "# Calculate the Pearson correlation coefficient\n",
    "pearson_corr = np.corrcoef(sales_calls_per_day, sales_per_week)[0, 1]\n",
    "\n",
    "print(\"Pearson Correlation Coefficient (r):\", pearson_corr)\n"
   ]
  },
  {
   "cell_type": "code",
   "execution_count": null,
   "id": "10950ab6-8341-4dfa-949a-271481975a0c",
   "metadata": {},
   "outputs": [],
   "source": []
  }
 ],
 "metadata": {
  "kernelspec": {
   "display_name": "Python 3 (ipykernel)",
   "language": "python",
   "name": "python3"
  },
  "language_info": {
   "codemirror_mode": {
    "name": "ipython",
    "version": 3
   },
   "file_extension": ".py",
   "mimetype": "text/x-python",
   "name": "python",
   "nbconvert_exporter": "python",
   "pygments_lexer": "ipython3",
   "version": "3.11.5"
  },
  "widgets": {
   "application/vnd.jupyter.widget-state+json": {
    "state": {},
    "version_major": 2,
    "version_minor": 0
   }
  }
 },
 "nbformat": 4,
 "nbformat_minor": 5
}
