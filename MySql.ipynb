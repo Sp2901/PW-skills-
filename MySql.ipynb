{
 "cells": [
  {
   "cell_type": "markdown",
   "id": "35d5254c-51b4-44c2-896c-8327912e4a86",
   "metadata": {},
   "source": [
    "# Q1. What is a database? Differentiate between SQL and NoSQL databases."
   ]
  },
  {
   "cell_type": "markdown",
   "id": "2bdb3a2b-5a2f-47ed-8412-61a43f57d216",
   "metadata": {},
   "source": [
    "- DBMS or Database Management System is a \n",
    "software application used to access, create, and \n",
    "manage databases. \n",
    "- With the help of DBMS, you can easily create, \n",
    "retrieve and update data in databases.\n",
    "- DBMS acts as an interface between the end-users \n",
    "and the database\n",
    "\n",
    "#### Differentiate between SQL and No SQL\n",
    "- When it comes to choosing a database the biggest decision is picking a relational (SQL) or non-relational (NoSQL) data structure. While both databases are viable options still there are certain key differences between the two that users must keep in mind when making a decision. "
   ]
  },
  {
   "cell_type": "markdown",
   "id": "2e5eeb01-2112-428c-9beb-916b2c6579ce",
   "metadata": {},
   "source": [
    "# Q2. What is DDL? Explain why CREATE, DROP, ALTER, and TRUNCATE are used with an example."
   ]
  },
  {
   "cell_type": "markdown",
   "id": "0eb77bd0-fb03-4399-a556-e843de91e51e",
   "metadata": {},
   "source": [
    "#### Data Definition Language actually consists of the SQL commands that can \n",
    "- be used to define the database schema.\n",
    "-  It simply deals with descriptions of the database schema and is used to \n",
    "-  create and modify the structure of database objects in the database.\n",
    "-  DDL is a set of SQL commands used to create, modify, and delete database structures but not data. \n",
    "\n",
    "#### CREATE:\n",
    "- The Create command is used to create a new database or a new component in the database like tables, stored procedure, index, etc.\n",
    "#### DROP:\n",
    "- The DROP commands are used to delete objects from the database or the schema. It can delete a table, view, stored procedure, index or even a database.\n",
    "#### ALTER:\n",
    "- The Alter Table command allows us to modify an existing column in an existing table. This is useful when modifying the type or the size of the column.\n",
    "- An important thing to keep in mind is that we cannot rename a column with the modify sub-command. To rename, there is a separate sub-command.\n",
    "#### TRUNCATE:\n",
    "- Truncate table command is used in MySQL to delete all the rows present in the particular table of the database.\n"
   ]
  },
  {
   "cell_type": "markdown",
   "id": "4a1c3660-7327-469c-8c00-48ce5eaddbcc",
   "metadata": {},
   "source": [
    "# Q3. What is DML? Explain INSERT, UPDATE, and DELETE with an example."
   ]
  },
  {
   "cell_type": "markdown",
   "id": "a05a672b-fa01-492e-a66c-f4541e02aa8c",
   "metadata": {},
   "source": [
    "#### Data Manipulation Language command are used for manipulasting data in the database. DML commands are used for update,insert,delete and alter of data in the database. Some of the DML commands commonly used by the programmers while dealig with the database are given below:\n",
    "\n",
    "#### INSERT:\n",
    "- if we want to insert the data on particular columns,column name need to be pecified in the SQL command.\n",
    "\n",
    "#### UPDATE:\n",
    "- Update is used to modify the existing data that is present  in the table.Update set will modify the single row values or multiple row values based on the condition specified in the 'Where' clause.\n",
    "\n",
    "#### Delete:\n",
    "- DELETE command is used to delete one or more records from the table on the basis of the where condition specified in the command.\n",
    "- If where the condition is not specified in the SQL command with DELETE, the whole table will get deleted.\n",
    "    "
   ]
  },
  {
   "cell_type": "markdown",
   "id": "16a7ecd2-0ecd-4966-a3ec-50f67350090f",
   "metadata": {},
   "source": [
    "# Q4. What is DQL? Explain SELECT with an example."
   ]
  },
  {
   "cell_type": "markdown",
   "id": "ac0fc71c-63c3-4a6f-96c4-c2cfbb7e355f",
   "metadata": {},
   "source": [
    "- DQL statements are used for performing queries on the data within schema objects. The purpose of the DQL Command is to get some schema relation based on the query passed to it. We can define DQL as follows it is a component of SQL statement that allows getting data from the database and imposing order upon it. It includes the SELECT statement. This command allows getting the data out of the database to perform operations with it. When a SELECT is fired against a table or tables the result is compiled into a further temporary table, which is displayed or perhaps received by the program i.e. a front-end.\n",
    "#### Example:\n",
    "- SELECT column1,column2 FROM table_name column1 , column2"
   ]
  },
  {
   "cell_type": "markdown",
   "id": "4b98d5ae-505e-49ea-bfa4-2cca5ed15761",
   "metadata": {},
   "source": [
    "# Q5. Explain Primary Key and Foreign Key."
   ]
  },
  {
   "cell_type": "markdown",
   "id": "36b9b58c-0551-4a55-ae3f-f2b0702b6de8",
   "metadata": {},
   "source": [
    "#### Primary Key:\n",
    "- A primary key is used to ensure that data in the specific column is unique. A column cannot have NULL values. It is either an existing table column or a column that is specifically generated by the database according to a defined sequence. \n",
    "\n",
    "#### Foreign Key\n",
    "- A foreign key is a column or group of columns in a relational database table that provides a link between data in two tables. It is a column (or columns) that references a column (most often the primary key) of another table. "
   ]
  },
  {
   "cell_type": "markdown",
   "id": "a93866ed-973d-487e-9c40-8ed657202815",
   "metadata": {},
   "source": [
    "# Q6. Write a python code to connect MySQL to python. Explain the cursor() and execute() method."
   ]
  },
  {
   "cell_type": "markdown",
   "id": "39ace20a-1b04-44aa-a769-fd0eb97afd4f",
   "metadata": {},
   "source": [
    "- mysql-connector-python\n",
    "- mysql-python\n",
    "\n",
    "- cursor(): This method creates a cursor object that is capable of executing SQL queries on the database.\n",
    "- execute(): This method is used for executing SQL queries on the database. It takes a sql query( as string) as an argument."
   ]
  },
  {
   "cell_type": "markdown",
   "id": "e0961881-5cb9-4050-8924-fa0e5626e08a",
   "metadata": {},
   "source": [
    "# Q7. Give the order of execution of SQL clauses in an SQL query"
   ]
  },
  {
   "cell_type": "markdown",
   "id": "f00dfaba-8034-408a-83bc-b5874fe8b95d",
   "metadata": {},
   "source": [
    "#### In SQL, the order of execution of clauses in an SQL query follows a specific sequence. Here is the typical order of execution:\n",
    "\n",
    "1. `FROM`: Specifies the tables or views from which the data will be retrieved.\n",
    "2. `JOIN`: Performs any necessary table joins based on specified conditions.\n",
    "3. `WHERE`: Filters the rows based on specified conditions.\n",
    "4. `GROUP BY`: Groups the rows based on one or more columns.\n",
    "5. `HAVING`: Filters the groups based on specified conditions.\n",
    "6. `SELECT`: Specifies the columns to be retrieved.\n",
    "7. `DISTINCT`: Removes duplicate rows from the result set if specified.\n",
    "8. `ORDER BY`: Sorts the result set based on specified columns and sort order.\n",
    "9. `LIMIT`/`OFFSET`: Limits the number of rows returned and provides pagination if needed.\n",
    "\n",
    "- It's important to note that not all clauses are mandatory in every SQL query. The clauses used in a query can vary depending on the specific requirements of the query and the data being retrieved. Additionally, some clauses like `GROUP BY`, `HAVING`, and `DISTINCT` are optional and can be omitted if not needed.\n",
    "\n",
    "- Keep in mind that the order of execution can be influenced by parentheses and subqueries. Subqueries are executed first, and the results are then used in the outer query based on the overall query structure.\n",
    "\n",
    "- It's also worth mentioning that some database management systems may have slight variations in the order of execution or provide optimizations based on query complexity or statistics. Therefore, it's a good practice to verify the specific behavior of the database system you are working with."
   ]
  },
  {
   "cell_type": "code",
   "execution_count": null,
   "id": "2ba798bf-6070-47c2-923f-1eb03895ac57",
   "metadata": {},
   "outputs": [],
   "source": []
  }
 ],
 "metadata": {
  "kernelspec": {
   "display_name": "Python 3 (ipykernel)",
   "language": "python",
   "name": "python3"
  },
  "language_info": {
   "codemirror_mode": {
    "name": "ipython",
    "version": 3
   },
   "file_extension": ".py",
   "mimetype": "text/x-python",
   "name": "python",
   "nbconvert_exporter": "python",
   "pygments_lexer": "ipython3",
   "version": "3.10.9"
  }
 },
 "nbformat": 4,
 "nbformat_minor": 5
}
