{
 "cells": [
  {
   "cell_type": "markdown",
   "id": "c923d7fd-c44c-4871-997a-594a47160eb1",
   "metadata": {},
   "source": [
    "# How can you create a Bokeh plot using Python code?"
   ]
  },
  {
   "cell_type": "code",
   "execution_count": 1,
   "id": "d800a537-da53-47de-8401-cef089ed87a5",
   "metadata": {},
   "outputs": [],
   "source": [
    "from bokeh.plotting import figure, show\n",
    "\n",
    "# Create a figure object\n",
    "p = figure(title='My Bokeh Plot', x_axis_label='X-axis', y_axis_label='Y-axis')\n",
    "\n",
    "# Add a line glyph\n",
    "p.line([1, 2, 3, 4, 5], [6, 7, 2, 4, 5], line_width=2, color='red')\n",
    "\n",
    "# Show the plot\n",
    "show(p)\n"
   ]
  },
  {
   "cell_type": "markdown",
   "id": "34f3c440-42f3-4484-aec5-df89f83ba541",
   "metadata": {},
   "source": [
    "# Q2. What are glyphs in Bokeh, and how can you add them to a Bokeh plot? Explain with an example."
   ]
  },
  {
   "cell_type": "code",
   "execution_count": 2,
   "id": "598fd128-5406-437b-845d-6b77f50cebe9",
   "metadata": {},
   "outputs": [],
   "source": [
    "from bokeh.plotting import figure, show\n",
    "\n",
    "# Create a figure object\n",
    "p = figure(title='My Bokeh Plot', x_axis_label='X-axis', y_axis_label='Y-axis')\n",
    "\n",
    "# Add a line glyph\n",
    "p.line([1, 2, 3, 4, 5], [6, 7, 2, 4, 5], line_width=2, color='red')\n",
    "\n",
    "# Add circle glyphs\n",
    "p.circle([1, 2, 3, 4, 5], [6, 7, 2, 4, 5], size=10, fill_color='blue', line_color='black')\n",
    "\n",
    "# Show the plot\n",
    "show(p)\n"
   ]
  },
  {
   "cell_type": "markdown",
   "id": "ee140d54-99ea-4aeb-978f-a024f73b1c30",
   "metadata": {},
   "source": [
    "# Q3. How can you customize the appearance of a Bokeh plot, including the axes, title, and legend?"
   ]
  },
  {
   "cell_type": "code",
   "execution_count": 3,
   "id": "26720719-a2fd-4047-881c-f81802ff3938",
   "metadata": {},
   "outputs": [],
   "source": [
    "from bokeh.plotting import figure, show\n",
    "\n",
    "# Create a figure object\n",
    "p = figure(title='My Bokeh Plot', x_axis_label='X-axis', y_axis_label='Y-axis',\n",
    "           plot_width=400, plot_height=300)\n",
    "\n",
    "# Customize axis appearance\n",
    "p.xaxis.axis_label_text_font_size = '14pt'\n",
    "p.yaxis.axis_label_text_font_size = '14pt'\n",
    "p.xaxis.axis_label_text_color = 'blue'\n",
    "p.yaxis.axis_label_text_color = 'blue'\n",
    "p.xaxis.major_label_text_font_size = '12pt'\n",
    "p.yaxis.major_label_text_font_size = '12pt'\n",
    "\n",
    "# Customize title appearance\n",
    "p.title.text_font_size = '16pt'\n",
    "p.title.text_color = 'green'\n",
    "\n",
    "# Add a line glyph\n",
    "p.line([1, 2, 3, 4, 5], [6, 7, 2, 4, 5], line_width=2, color='red', legend_label='Line')\n",
    "\n",
    "# Add circle glyphs\n",
    "p.circle([1, 2, 3, 4, 5], [6, 7, 2, 4, 5], size=10, fill_color='blue', line_color='black', legend_label='Circles')\n",
    "\n",
    "# Customize legend appearance\n",
    "p.legend.label_text_font_size = '12pt'\n",
    "p.legend.label_text_color = 'purple'\n",
    "p.legend.label_standoff = 10\n",
    "p.legend.label_text_font_style = 'italic'\n",
    "\n",
    "# Show the plot\n",
    "show(p)\n"
   ]
  },
  {
   "cell_type": "markdown",
   "id": "f3e21047-26a8-41ec-9ed9-8ac1b48a71be",
   "metadata": {},
   "source": [
    "# Q4. What is a Bokeh server, and how can you use it to create interactive plots that can be updated in real time?"
   ]
  },
  {
   "cell_type": "code",
   "execution_count": 5,
   "id": "55bda1df-20d8-43af-9716-7db2f1ef4e07",
   "metadata": {},
   "outputs": [],
   "source": [
    "from bokeh.plotting import curdoc, figure\n",
    "from bokeh.models import ColumnDataSource\n",
    "import numpy as np\n",
    "\n",
    "# Create a figure object\n",
    "p = figure(title='Real-Time Plot', plot_width=400, plot_height=300, tools='pan,wheel_zoom,reset')\n",
    "\n",
    "# Create a ColumnDataSource\n",
    "source= ColumnDataSource(data=dict(x=[], y=[]))\n",
    "\n",
    "# Create a line glyph\n",
    "line = p.line(x='x', y='y', source=source, line_width=2)\n",
    "\n",
    "# Define a function to update the data\n",
    "def update_data():\n",
    "    # Generate new random data\n",
    "    new_data = dict(x=np.random.random(100), y=np.random.random(100))\n",
    "    \n",
    "    # Update the data source\n",
    "    source.data = new_data\n",
    "\n",
    "# Add a periodic callback to update the data every 500 milliseconds\n",
    "curdoc().add_periodic_callback(update_data, 500)\n",
    "\n",
    "# Show the plot\n",
    "curdoc().add_root(p)\n"
   ]
  },
  {
   "cell_type": "markdown",
   "id": "bc665b20-9b4d-4d5a-b0f6-53c51e420d29",
   "metadata": {},
   "source": [
    "# Q5. How can you embed a Bokeh plot into a web page or dashboard using Flask or Django?"
   ]
  },
  {
   "cell_type": "code",
   "execution_count": null,
   "id": "a6349642-dea6-4e38-bbf2-a9896263f92d",
   "metadata": {},
   "outputs": [],
   "source": [
    "from flask import Flask, render_template\n",
    "from bokeh.plotting import figure\n",
    "from bokeh.embed import file_html\n",
    "from bokeh.resources import CDN\n",
    "\n",
    "app = Flask(__name__)\n",
    "\n",
    "@app.route('/')\n",
    "def index():\n",
    "    # Create a Bokeh plot\n",
    "    p = figure()\n",
    "    p.circle([1, 2, 3], [4, 5, 6])\n",
    "    \n",
    "    # Export the plot to an HTML file\n",
    "    plot_html = file_html(p, CDN)\n",
    "    \n",
    "    # Render the HTML template with the embedded plot\n",
    "    return render_template('index.html', plot_html=plot_html)\n",
    "\n",
    "if __name__ == '__main__':\n",
    "    app.run()\n"
   ]
  },
  {
   "cell_type": "code",
   "execution_count": null,
   "id": "966e60d6-4239-4fe3-8481-fdf6342970cc",
   "metadata": {},
   "outputs": [],
   "source": [
    "{{ plot_html|safe }}\n"
   ]
  },
  {
   "cell_type": "code",
   "execution_count": null,
   "id": "389cc679-0f73-445f-99c8-5fc9a2fb470f",
   "metadata": {},
   "outputs": [],
   "source": []
  }
 ],
 "metadata": {
  "kernelspec": {
   "display_name": "Python 3 (ipykernel)",
   "language": "python",
   "name": "python3"
  },
  "language_info": {
   "codemirror_mode": {
    "name": "ipython",
    "version": 3
   },
   "file_extension": ".py",
   "mimetype": "text/x-python",
   "name": "python",
   "nbconvert_exporter": "python",
   "pygments_lexer": "ipython3",
   "version": "3.10.9"
  }
 },
 "nbformat": 4,
 "nbformat_minor": 5
}
