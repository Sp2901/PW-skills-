{
 "cells": [
  {
   "cell_type": "markdown",
   "id": "287b65f4-291a-4d51-9367-aa5137771c6e",
   "metadata": {},
   "source": [
    "# Q-1"
   ]
  },
  {
   "cell_type": "markdown",
   "id": "ab59a451-e759-467b-81a0-3a4a351b0468",
   "metadata": {},
   "source": [
    "### Create one variable containing following type of data"
   ]
  },
  {
   "cell_type": "code",
   "execution_count": 1,
   "id": "2b67a5f4-4caa-4935-93aa-f6b939e11f33",
   "metadata": {},
   "outputs": [],
   "source": [
    "A=['John',[1,2,3,45],2.03,('Mack',14)]"
   ]
  },
  {
   "cell_type": "code",
   "execution_count": 2,
   "id": "b105b78b-3b2a-4002-8d0c-4299992a3938",
   "metadata": {},
   "outputs": [
    {
     "name": "stdout",
     "output_type": "stream",
     "text": [
      "['John', [1, 2, 3, 45], 2.03, ('Mack', 14)]\n"
     ]
    }
   ],
   "source": [
    "print(A)"
   ]
  },
  {
   "cell_type": "markdown",
   "id": "5c7e4f3e-acb1-4fc9-9fb3-2c1b38d7397a",
   "metadata": {},
   "source": [
    "# Q-2"
   ]
  },
  {
   "cell_type": "code",
   "execution_count": 6,
   "id": "257d9296-745b-4a5e-862f-44ce2286773f",
   "metadata": {},
   "outputs": [],
   "source": [
    "var1 = ''\n",
    "\n",
    "var2 = '[ DS , ML , Python]'\n",
    "\n",
    "var3 = [ 'DS' , 'ML' , 'Python' ]\n",
    "\n",
    "var4 = 1."
   ]
  },
  {
   "cell_type": "code",
   "execution_count": 7,
   "id": "488958e7-c3c1-4386-9741-18792723ed2a",
   "metadata": {},
   "outputs": [
    {
     "data": {
      "text/plain": [
       "str"
      ]
     },
     "execution_count": 7,
     "metadata": {},
     "output_type": "execute_result"
    }
   ],
   "source": [
    "type(var1)"
   ]
  },
  {
   "cell_type": "code",
   "execution_count": 8,
   "id": "761069e3-5992-4bd5-97c8-118e6116bd47",
   "metadata": {},
   "outputs": [
    {
     "data": {
      "text/plain": [
       "str"
      ]
     },
     "execution_count": 8,
     "metadata": {},
     "output_type": "execute_result"
    }
   ],
   "source": [
    "type(var2)"
   ]
  },
  {
   "cell_type": "code",
   "execution_count": 9,
   "id": "96875b5f-35fc-4143-b4a6-c880426b6a73",
   "metadata": {},
   "outputs": [
    {
     "data": {
      "text/plain": [
       "list"
      ]
     },
     "execution_count": 9,
     "metadata": {},
     "output_type": "execute_result"
    }
   ],
   "source": [
    "type(var3)"
   ]
  },
  {
   "cell_type": "code",
   "execution_count": 10,
   "id": "7660c7bc-18ea-4cf1-aa12-642d06b78223",
   "metadata": {},
   "outputs": [
    {
     "data": {
      "text/plain": [
       "float"
      ]
     },
     "execution_count": 10,
     "metadata": {},
     "output_type": "execute_result"
    }
   ],
   "source": [
    "type(var4)"
   ]
  },
  {
   "cell_type": "markdown",
   "id": "94637b28-3b8b-48e3-9cdb-446fd3c6d162",
   "metadata": {},
   "source": [
    "# Q-3"
   ]
  },
  {
   "cell_type": "code",
   "execution_count": 3,
   "id": "7f2422d7-9007-4ec1-b320-2a2a22fe92b3",
   "metadata": {},
   "outputs": [
    {
     "data": {
      "text/plain": [
       "0.3333333333333333"
      ]
     },
     "execution_count": 3,
     "metadata": {},
     "output_type": "execute_result"
    }
   ],
   "source": [
    "1 /3"
   ]
  },
  {
   "cell_type": "code",
   "execution_count": 4,
   "id": "02f19d5c-5ff2-4617-a9f6-9718d3d57303",
   "metadata": {},
   "outputs": [
    {
     "data": {
      "text/plain": [
       "1"
      ]
     },
     "execution_count": 4,
     "metadata": {},
     "output_type": "execute_result"
    }
   ],
   "source": [
    "3%2"
   ]
  },
  {
   "cell_type": "code",
   "execution_count": 12,
   "id": "2ec1314d-6e55-4a7d-a0b6-645bdcf0fb62",
   "metadata": {},
   "outputs": [
    {
     "data": {
      "text/plain": [
       "2"
      ]
     },
     "execution_count": 12,
     "metadata": {},
     "output_type": "execute_result"
    }
   ],
   "source": [
    "8 // 4"
   ]
  },
  {
   "cell_type": "code",
   "execution_count": 13,
   "id": "8674edd7-9a74-4be3-9d06-834347c83ef2",
   "metadata": {},
   "outputs": [
    {
     "data": {
      "text/plain": [
       "9"
      ]
     },
     "execution_count": 13,
     "metadata": {},
     "output_type": "execute_result"
    }
   ],
   "source": [
    "3 ** 2"
   ]
  },
  {
   "cell_type": "markdown",
   "id": "0a52ad63-1832-4874-8399-79e21e6f3556",
   "metadata": {},
   "source": [
    "# Q-4"
   ]
  },
  {
   "cell_type": "code",
   "execution_count": 14,
   "id": "8f9a21e4-d70e-4c87-9084-ebfad9842cb4",
   "metadata": {},
   "outputs": [
    {
     "name": "stdout",
     "output_type": "stream",
     "text": [
      "<class 'int'>\n",
      "1\n",
      "<class 'int'>\n",
      "5\n",
      "<class 'int'>\n",
      "<class 'int'>\n",
      "58\n",
      "<class 'str'>\n",
      "anu\n",
      "<class 'float'>\n",
      "42.5\n",
      "<class 'int'>\n",
      "9\n"
     ]
    }
   ],
   "source": [
    "# continue\n",
    "s=[1,5,7,58,'anu',42.5,9]\n",
    "for i in s:\n",
    "    print(type(i))\n",
    "    if i == 7:\n",
    "        continue\n",
    "    print(i)"
   ]
  },
  {
   "cell_type": "markdown",
   "id": "dbcbe206-1bc1-4d35-8f0c-45b112705d4c",
   "metadata": {},
   "source": [
    "# Q-5"
   ]
  },
  {
   "cell_type": "code",
   "execution_count": 15,
   "id": "33633f27-7fa5-4959-8d97-0c1c2f96c902",
   "metadata": {},
   "outputs": [
    {
     "name": "stdout",
     "output_type": "stream",
     "text": [
      "[10, 20, 30, 40, 50, 60, 70, 80, 90, 100]\n"
     ]
    }
   ],
   "source": [
    "factors = []\n",
    "num = 1\n",
    "while num <= 10:\n",
    "    factors.append(10*num)\n",
    "    num += 1       \n",
    "print (factors)"
   ]
  },
  {
   "cell_type": "markdown",
   "id": "bb614217-4970-4a3c-b418-e3a224df2e1f",
   "metadata": {},
   "source": [
    "# Q-6"
   ]
  },
  {
   "cell_type": "code",
   "execution_count": 26,
   "id": "aee630c8-66db-4864-b8e8-bd7d3d8dd20c",
   "metadata": {},
   "outputs": [
    {
     "name": "stdout",
     "output_type": "stream",
     "text": [
      "This number id divisible\n"
     ]
    }
   ],
   "source": [
    "a = 8\n",
    "b = 2\n",
    "\n",
    "if a >= b:\n",
    "    print(\"This number id divisible\")\n",
    "    \n",
    "else:\n",
    "    print(\"This number is not divisible\")"
   ]
  },
  {
   "cell_type": "markdown",
   "id": "831b2430-1090-4aef-9ce9-1e2487447522",
   "metadata": {},
   "source": [
    "# Q-7"
   ]
  },
  {
   "cell_type": "code",
   "execution_count": 30,
   "id": "7471c5de-e991-446c-826a-7b7892697659",
   "metadata": {},
   "outputs": [
    {
     "name": "stdout",
     "output_type": "stream",
     "text": [
      "0\n",
      "6\n",
      "12\n",
      "18\n",
      "24\n",
      "30\n",
      "36\n",
      "42\n",
      "48\n"
     ]
    }
   ],
   "source": [
    "for x in range (0, 50, 3):\n",
    "        if x % 2 == 0:\n",
    "              print(x)"
   ]
  },
  {
   "cell_type": "code",
   "execution_count": 33,
   "id": "981aae15-e0d1-41dd-b4c8-166a2019acbc",
   "metadata": {},
   "outputs": [
    {
     "name": "stdin",
     "output_type": "stream",
     "text": [
      " 5\n"
     ]
    },
    {
     "name": "stdout",
     "output_type": "stream",
     "text": [
      "This element is divisible by 3\n",
      "This element is not divisible by 3\n",
      "This element is not divisible by 3\n",
      "This element is divisible by 3\n",
      "This element is not divisible by 3\n"
     ]
    }
   ],
   "source": [
    "for i in range (int(input())):\n",
    "    if i % 3 == 0:\n",
    "        print(\"This element is divisible by 3\")\n",
    "        \n",
    "    else:\n",
    "        print(\"This element is not divisible by 3\")"
   ]
  },
  {
   "cell_type": "code",
   "execution_count": 34,
   "id": "62f223b3-fdd0-4dec-975c-b9c9c05f4e68",
   "metadata": {},
   "outputs": [],
   "source": [
    "mut1 = [3,4,9,5,6,\"sudh\" , 3+7j , True , 34.56]"
   ]
  },
  {
   "cell_type": "code",
   "execution_count": 35,
   "id": "2c2f0f88-5f1b-431e-88a5-6f5ba625793d",
   "metadata": {},
   "outputs": [],
   "source": [
    "mut1[2]= False"
   ]
  },
  {
   "cell_type": "code",
   "execution_count": 36,
   "id": "a2b8c1ce-8926-42b0-a90f-e861faa5f28c",
   "metadata": {},
   "outputs": [
    {
     "data": {
      "text/plain": [
       "[3, 4, False, 5, 6, 'sudh', (3+7j), True, 34.56]"
      ]
     },
     "execution_count": 36,
     "metadata": {},
     "output_type": "execute_result"
    }
   ],
   "source": [
    "mut1"
   ]
  },
  {
   "cell_type": "code",
   "execution_count": 37,
   "id": "a39832db-3972-4931-8294-90fb05946359",
   "metadata": {},
   "outputs": [],
   "source": [
    "imut = 'John'"
   ]
  },
  {
   "cell_type": "code",
   "execution_count": 38,
   "id": "aa5f17a6-d945-4eed-b4dd-ca2fbbca5550",
   "metadata": {},
   "outputs": [
    {
     "ename": "TypeError",
     "evalue": "'str' object does not support item assignment",
     "output_type": "error",
     "traceback": [
      "\u001b[1;31m---------------------------------------------------------------------------\u001b[0m",
      "\u001b[1;31mTypeError\u001b[0m                                 Traceback (most recent call last)",
      "Cell \u001b[1;32mIn[38], line 1\u001b[0m\n\u001b[1;32m----> 1\u001b[0m imut[\u001b[38;5;241m3\u001b[39m]\u001b[38;5;241m=\u001b[39ma\n",
      "\u001b[1;31mTypeError\u001b[0m: 'str' object does not support item assignment"
     ]
    }
   ],
   "source": [
    "imut[3]=a"
   ]
  },
  {
   "cell_type": "code",
   "execution_count": null,
   "id": "68fa400d-33d4-4d5d-8f3a-a5e8bcc37cfd",
   "metadata": {},
   "outputs": [],
   "source": []
  }
 ],
 "metadata": {
  "kernelspec": {
   "display_name": "Python 3 (ipykernel)",
   "language": "python",
   "name": "python3"
  },
  "language_info": {
   "codemirror_mode": {
    "name": "ipython",
    "version": 3
   },
   "file_extension": ".py",
   "mimetype": "text/x-python",
   "name": "python",
   "nbconvert_exporter": "python",
   "pygments_lexer": "ipython3",
   "version": "3.10.9"
  }
 },
 "nbformat": 4,
 "nbformat_minor": 5
}
