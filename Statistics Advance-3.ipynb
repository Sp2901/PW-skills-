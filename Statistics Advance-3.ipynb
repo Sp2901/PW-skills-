{
 "cells": [
  {
   "cell_type": "markdown",
   "id": "8a693c58-0e68-4908-9f86-faac27f502f7",
   "metadata": {},
   "source": [
    "# Q1: What is Estimation Statistics? Explain point estimate and interval estimate."
   ]
  },
  {
   "cell_type": "markdown",
   "id": "c0cc594c-2383-47fe-ad54-8718fa01a674",
   "metadata": {},
   "source": [
    "- Estimation statistics is a branch of statistics that deals with the process of estimating population parameters based on sample data. It involves making educated guesses or predictions about unknown population parameters using information gathered from a sample.\n",
    "\n",
    "- Point Estimate: A point estimate is a single value that is used to estimate the unknown population parameter. It is calculated from the sample data and represents the best guess for the population parameter's value. For example, the sample mean is often used as a point estimate for the population mean.\n",
    "\n",
    "- Interval Estimate: An interval estimate provides a range of values within which the population parameter is likely to lie with a certain level of confidence. This range is constructed around the point estimate and is expressed as a confidence interval. The confidence interval includes both a lower bound and an upper bound. For instance, a 95% confidence interval for the population mean represents a range within which we are 95% confident that the true population mean lies."
   ]
  },
  {
   "cell_type": "markdown",
   "id": "7e05250d-c070-457f-a54a-50fd3dfcc467",
   "metadata": {},
   "source": [
    "# Q2. Write a Python function to estimate the population mean using a sample mean and standard deviation."
   ]
  },
  {
   "cell_type": "code",
   "execution_count": 1,
   "id": "b6c7e71e-1b7f-4366-94b8-ffcda7816694",
   "metadata": {},
   "outputs": [
    {
     "name": "stdout",
     "output_type": "stream",
     "text": [
      "Population mean estimate: 70.50 (Confidence Interval: 69.35, 71.65)\n"
     ]
    }
   ],
   "source": [
    "import scipy.stats as stats\n",
    "\n",
    "def population_mean_estimate(sample_mean, sample_std_dev, sample_size, confidence_level=0.95):\n",
    "    # Calculate the standard error of the mean\n",
    "    standard_error = sample_std_dev / (sample_size ** 0.5)\n",
    "\n",
    "    # Calculate the critical value based on the confidence level\n",
    "    critical_value = stats.t.ppf((1 + confidence_level) / 2, df=sample_size - 1)\n",
    "\n",
    "    # Calculate the margin of error\n",
    "    margin_of_error = critical_value * standard_error\n",
    "\n",
    "    # Calculate the lower and upper bounds of the confidence interval\n",
    "    lower_bound = sample_mean - margin_of_error\n",
    "    upper_bound = sample_mean + margin_of_error\n",
    "\n",
    "    return (lower_bound, upper_bound)\n",
    "\n",
    "# Example usage:\n",
    "sample_mean = 70.5\n",
    "sample_std_dev = 5.8\n",
    "sample_size = 100\n",
    "confidence_level = 0.95\n",
    "confidence_interval = population_mean_estimate(sample_mean, sample_std_dev, sample_size, confidence_level)\n",
    "print(f\"Population mean estimate: {sample_mean:.2f} (Confidence Interval: {confidence_interval[0]:.2f}, {confidence_interval[1]:.2f})\")\n"
   ]
  },
  {
   "cell_type": "markdown",
   "id": "32cfa828-7bef-4479-9739-9a96f19e1e45",
   "metadata": {},
   "source": [
    "# Q3: What is Hypothesis testing? Why is it used? State the importance of Hypothesis testing."
   ]
  },
  {
   "cell_type": "markdown",
   "id": "0dc7dc30-55d8-4bfa-9f77-7f8049a49a0b",
   "metadata": {},
   "source": [
    "- Hypothesis testing is a statistical method used to make inferences about population parameters based on sample data. It involves formulating two competing hypotheses, the null hypothesis (H0) and the alternative hypothesis (Ha), and then assessing the evidence from the sample data to determine whether there is enough evidence to reject the null hypothesis in favor of the alternative hypothesis.\n",
    "\n",
    "### The steps in hypothesis testing are as follows:\n",
    "\n",
    "- Formulate the null hypothesis (H0) and the alternative hypothesis (Ha).\n",
    "- Select an appropriate statistical test and significance level (alpha).\n",
    "- Collect sample data and perform the statistical test.\n",
    "- Evaluate the results and make a decision to either reject H0 or fail to reject H0.\n",
    "- Importance of Hypothesis Testing:\n",
    "- Hypothesis testing is crucial in statistics for several reasons:\n",
    "\n",
    "- Objectivity: It provides an objective and systematic way to make decisions based on data, reducing the influence of personal bias.\n",
    "Inference: It allows researchers to make inferences about population parameters based on sample data, which is often more feasible to obtain.\n",
    "- Scientific Method: Hypothesis testing is an essential part of the scientific method, helping researchers validate or refute claims and theories.\n",
    "- Decision-Making: It aids in decision-making in various fields, such as medicine, economics, and social sciences, by providing evidence for or against certain actions or policies.\n",
    "- Quality Control: In industrial settings, hypothesis testing is used to maintain quality standards by testing samples of products."
   ]
  },
  {
   "cell_type": "markdown",
   "id": "1a72ac70-93c0-4627-bfc6-e031d7c78192",
   "metadata": {},
   "source": [
    "# Q4. Create a hypothesis that states whether the average weight of male college students is greater than the average weight of female college students."
   ]
  },
  {
   "cell_type": "markdown",
   "id": "9fc236d2-d28a-4ef9-9aa6-a34e2087d233",
   "metadata": {},
   "source": [
    "- Null Hypothesis (H0): The average weight of male college students is not greater than the average weight of female college students.\n",
    "\n",
    "- Alternative Hypothesis (Ha): The average weight of male college students is greater than the average weight of female college students."
   ]
  },
  {
   "cell_type": "markdown",
   "id": "417b7320-751c-4f14-8989-137376e56d8d",
   "metadata": {},
   "source": [
    "# Q5. Write a Python script to conduct a hypothesis test on the difference between two population means, given a sample from each population."
   ]
  },
  {
   "cell_type": "code",
   "execution_count": 2,
   "id": "172d1868-57d9-4be5-b40e-0b150071e541",
   "metadata": {},
   "outputs": [
    {
     "name": "stdout",
     "output_type": "stream",
     "text": [
      "t-statistic: 6.98\n",
      "p-value: 0.0000\n",
      "Conclusion: Reject the null hypothesis\n"
     ]
    }
   ],
   "source": [
    "import scipy.stats as stats\n",
    "\n",
    "def two_sample_ttest(sample1, sample2, alpha=0.05):\n",
    "    # Perform a two-sample t-test\n",
    "    t_stat, p_value = stats.ttest_ind(sample1, sample2, equal_var=True)\n",
    "\n",
    "    # Determine whether to reject the null hypothesis based on the p-value and significance level (alpha)\n",
    "    if p_value < alpha:\n",
    "        result = \"Reject the null hypothesis\"\n",
    "    else:\n",
    "        result = \"Fail to reject the null hypothesis\"\n",
    "\n",
    "    return t_stat, p_value, result\n",
    "\n",
    "# Example usage:\n",
    "male_weights = [75, 80, 85, 78, 82, 79, 77, 81, 83, 76]\n",
    "female_weights = [65, 70, 68, 72, 67, 71, 69, 73, 75, 70]\n",
    "\n",
    "t_statistic, p_value, conclusion = two_sample_ttest(male_weights, female_weights)\n",
    "\n",
    "print(f\"t-statistic: {t_statistic:.2f}\")\n",
    "print(f\"p-value: {p_value:.4f}\")\n",
    "print(f\"Conclusion: {conclusion}\")\n"
   ]
  },
  {
   "cell_type": "markdown",
   "id": "a7a2e78f-481f-4f60-8af3-5997505e045e",
   "metadata": {},
   "source": [
    "# Q6: What is a null and alternative hypothesis? Give some examples."
   ]
  },
  {
   "cell_type": "markdown",
   "id": "6155ce44-10c5-4383-b723-03ba5c54d718",
   "metadata": {},
   "source": [
    "- In hypothesis testing, the null hypothesis (H0) and alternative hypothesis (Ha) are two competing statements regarding a population parameter. They represent different claims about the population that the researcher wants to investigate.\n",
    "\n",
    "- Null Hypothesis (H0): The null hypothesis is the default assumption, often stating that there is no significant effect or relationship in the population. It represents the status quo or the absence of an effect. In statistical notation, the null hypothesis is denoted as H0.\n",
    "- Example 1: H0: The average commute time to work is equal to 30 minutes.\n",
    "- Example 2: H0: There is no difference in the effectiveness of two drugs.\n",
    "\n",
    "- Alternative Hypothesis (Ha): The alternative hypothesis is the statement the researcher is trying to find evidence for. It contradicts the null hypothesis and suggests that there is a significant effect or relationship in the population. In statistical notation, the alternative hypothesis is denoted as Ha.\n",
    "- Example 1: Ha: The average commute time to work is not equal to 30 minutes.\n",
    "- Example 2: Ha: The two drugs have different effectiveness.\n",
    "\n",
    "- In hypothesis testing, we collect sample data to evaluate the evidence in favor of the alternative hypothesis, and if the evidence is strong enough, we reject the null hypothesis in favor of the alternative hypothesis."
   ]
  },
  {
   "cell_type": "markdown",
   "id": "67b86665-77a2-4206-9057-0a3fc1c307be",
   "metadata": {},
   "source": [
    "# Q7: Write down the steps involved in hypothesis testing."
   ]
  },
  {
   "cell_type": "markdown",
   "id": "712de8cf-1414-4b26-b7ef-522d56ec6b2c",
   "metadata": {},
   "source": [
    "1. Formulate Hypotheses: Clearly define the null hypothesis (H0) and alternative hypothesis (Ha) based on the research question.\n",
    "\n",
    "2. Set the Significance Level (α): Choose the significance level, denoted by α (alpha), which determines the threshold for accepting or rejecting the null hypothesis. Commonly used values for α are 0.05 (5%) or 0.01 (1%).\n",
    "\n",
    "3. Collect Data: Gather relevant sample data that will be used to test the hypotheses.\n",
    "\n",
    "4. Choose the Test Statistic: Select an appropriate test statistic that aligns with the type of data and the hypothesis being tested (e.g., t-test, z-test, chi-square test).\n",
    "\n",
    "5. Compute the Test Statistic: Calculate the test statistic using the sample data and the chosen test formula.\n",
    "\n",
    "6. Calculate the P-value: Determine the probability of obtaining results as extreme or more extreme than those observed under the assumption that the null hypothesis is true.\n",
    "\n",
    "7. Make a Decision: Compare the calculated p-value with the significance level (α). If the p-value is less than or equal to α, reject the null hypothesis. Otherwise, fail to reject the null hypothesis.\n",
    "\n",
    "8. Draw a Conclusion: Interpret the results of the hypothesis test in the context of the research question and make a conclusion regarding the evidence for or against the alternative hypothesis."
   ]
  },
  {
   "cell_type": "markdown",
   "id": "fe198822-9bf7-4bd0-b895-5fc21a57d224",
   "metadata": {},
   "source": [
    "# Q8. Define p-value and explain its significance in hypothesis testing."
   ]
  },
  {
   "cell_type": "markdown",
   "id": "6f07b2e6-ce17-4a61-b8ae-708194c20f3a",
   "metadata": {},
   "source": [
    "- The p-value is a measure of the strength of the evidence against the null hypothesis in hypothesis testing. It represents the probability of obtaining results as extreme or more extreme than the observed sample data, assuming that the null hypothesis is true.\n",
    "\n",
    "- If the p-value is small (typically smaller than the chosen significance level, α), it suggests that the observed sample data is unlikely to occur if the null hypothesis is true. In this case, we reject the null hypothesis in favor of the alternative hypothesis, concluding that there is evidence of a significant effect or relationship in the population.\n",
    "\n",
    "- If the p-value is large (greater than α), it indicates that the observed sample data is reasonably likely to occur if the null hypothesis is true. In this case, we fail to reject the null hypothesis, meaning there is insufficient evidence to support the alternative hypothesis.\n",
    "\n",
    "- In summary, the p-value helps researchers make a decision about whether to reject or fail to reject the null hypothesis based on the strength of evidence provided by the sample data."
   ]
  },
  {
   "cell_type": "markdown",
   "id": "ad1ad8d7-15d2-4cf3-ab89-14a15588f310",
   "metadata": {},
   "source": [
    "# Q9. Generate a Student's t-distribution plot using Python's matplotlib library, with the degrees of freedom parameter set to 10."
   ]
  },
  {
   "cell_type": "code",
   "execution_count": 3,
   "id": "d8b59cb5-fe94-426b-91dd-a5de87e29a26",
   "metadata": {},
   "outputs": [
    {
     "data": {
      "image/png": "[encoded data removed]",
      "text/plain": [
       "<Figure size 640x480 with 1 Axes>"
      ]
     },
     "metadata": {},
     "output_type": "display_data"
    }
   ],
   "source": [
    "import numpy as np\n",
    "import matplotlib.pyplot as plt\n",
    "from scipy.stats import t\n",
    "\n",
    "# Define the degrees of freedom\n",
    "df = 10\n",
    "\n",
    "# Generate x-values from -4 to 4 (to cover most of the distribution)\n",
    "x = np.linspace(-4, 4, 500)\n",
    "\n",
    "# Calculate the corresponding y-values from the t-distribution\n",
    "y = t.pdf(x, df)\n",
    "\n",
    "# Plot the t-distribution\n",
    "plt.plot(x, y, label=f\"t-distribution (df = {df})\")\n",
    "plt.xlabel(\"x\")\n",
    "plt.ylabel(\"Probability Density\")\n",
    "plt.title(\"Student's t-Distribution\")\n",
    "plt.legend()\n",
    "plt.grid(True)\n",
    "plt.show()\n"
   ]
  },
  {
   "cell_type": "markdown",
   "id": "c9b48156-d6ac-4380-b461-3d41072d2a2b",
   "metadata": {},
   "source": [
    "# Q10. Write a Python program to calculate the two-sample t-test for independent samples, given two random samples of equal size and a null hypothesis that the population means are equal."
   ]
  },
  {
   "cell_type": "code",
   "execution_count": 4,
   "id": "9f6b5163-7eb0-485b-b009-8bbf9a888dbc",
   "metadata": {},
   "outputs": [
    {
     "name": "stdout",
     "output_type": "stream",
     "text": [
      "t-statistic: 1.45\n",
      "p-value: 0.1851\n",
      "Conclusion: Fail to reject the null hypothesis\n"
     ]
    }
   ],
   "source": [
    "import scipy.stats as stats\n",
    "\n",
    "def two_sample_ttest(sample1, sample2, alpha=0.05):\n",
    "    # Perform a two-sample t-test\n",
    "    t_stat, p_value = stats.ttest_ind(sample1, sample2, equal_var=True)\n",
    "\n",
    "    # Determine whether to reject the null hypothesis based on the p-value and significance level (alpha)\n",
    "    if p_value < alpha:\n",
    "        result = \"Reject the null hypothesis\"\n",
    "    else:\n",
    "        result = \"Fail to reject the null hypothesis\"\n",
    "\n",
    "    return t_stat, p_value, result\n",
    "\n",
    "# Example usage:\n",
    "sample1 = [25, 30, 35, 40, 45]\n",
    "sample2 = [20, 22, 28, 32, 38]\n",
    "\n",
    "t_statistic, p_value, conclusion = two_sample_ttest(sample1, sample2)\n",
    "\n",
    "print(f\"t-statistic: {t_statistic:.2f}\")\n",
    "print(f\"p-value: {p_value:.4f}\")\n",
    "print(f\"Conclusion: {conclusion}\")\n"
   ]
  },
  {
   "cell_type": "markdown",
   "id": "36bffc25-f07d-476c-9ee1-0c52e008da56",
   "metadata": {},
   "source": [
    "# Q11: What is Student’s t distribution? When to use the t-Distribution."
   ]
  },
  {
   "cell_type": "markdown",
   "id": "2f4cff0e-2f65-44c4-bec6-bbbc6560ebe6",
   "metadata": {},
   "source": [
    "- The Student's t-distribution, often referred to simply as the t-distribution, is a probability distribution that arises when estimating the population mean of a normally distributed variable when the sample size is small or when the population standard deviation is unknown. It is a family of distributions, and the shape of the t-distribution depends on the degrees of freedom (df).\n",
    "\n",
    "- The t-distribution is similar in shape to the standard normal distribution (z-distribution), but it has heavier tails. As the sample size increases, the t-distribution converges to the standard normal distribution.\n",
    "\n",
    "### When to Use the t-Distribution:\n",
    "- The t-distribution is used in scenarios where one needs to make inferences about the population mean using a sample mean when:\n",
    "\n",
    "- The sample size is small (typically n < 30).\n",
    "- The population standard deviation is unknown.\n",
    "- In such situations, the t-distribution is used to construct confidence intervals and perform hypothesis tests for the population mean."
   ]
  },
  {
   "cell_type": "markdown",
   "id": "bc06f36c-36b0-4830-bb1f-a80e9b51b8cc",
   "metadata": {},
   "source": [
    "# Q12: What is t-statistic? State the formula for t-statistic."
   ]
  },
  {
   "cell_type": "markdown",
   "id": "a1c8239c-0f35-49e8-8496-576622f6fdc9",
   "metadata": {},
   "source": [
    "- The t-statistic is a measure used in hypothesis testing to determine whether the sample data provides enough evidence to reject the null hypothesis in favor of the alternative hypothesis.\n",
    "\n",
    "- The formula for the t-statistic in the context of a one-sample t-test (testing the population mean) is given by:\n",
    "\n",
    "t = (sample_mean - population_mean) / (sample_standard_deviation / sqrt(sample_size))\n",
    "\n",
    "### where:\n",
    "\n",
    "- sample_mean is the mean of the sample data.\n",
    "- population_mean is the hypothesized population mean under the null hypothesis.\n",
    "- sample_standard_deviation is the standard deviation of the sample data.\n",
    "- sample_size is the number of observations in the sample."
   ]
  },
  {
   "cell_type": "markdown",
   "id": "940ec4bd-0826-4ba7-b9a5-76ec58346fb3",
   "metadata": {},
   "source": [
    "# Q13. A coffee shop owner wants to estimate the average daily revenue for their shop. They take a random sample of 50 days and find the sample mean revenue to be $500 with a standard deviation of $50. Estimate the population mean revenue with a 95% confidence interval."
   ]
  },
  {
   "cell_type": "code",
   "execution_count": 5,
   "id": "751edc1f-a861-4462-9e88-e5e1a269f866",
   "metadata": {},
   "outputs": [
    {
     "name": "stdout",
     "output_type": "stream",
     "text": [
      "Population mean revenue estimate: $500.00 (Confidence Interval: $485.79, $514.21)\n"
     ]
    }
   ],
   "source": [
    "import scipy.stats as stats\n",
    "\n",
    "sample_mean = 500\n",
    "sample_std_dev = 50\n",
    "sample_size = 50\n",
    "confidence_level = 0.95\n",
    "\n",
    "# Calculate the critical t-value\n",
    "t_critical = stats.t.ppf(1 - (1 - confidence_level) / 2, df=sample_size - 1)\n",
    "\n",
    "# Calculate the standard error\n",
    "standard_error = sample_std_dev / (sample_size ** 0.5)\n",
    "\n",
    "# Calculate the confidence interval\n",
    "lower_bound = sample_mean - t_critical * standard_error\n",
    "upper_bound = sample_mean + t_critical * standard_error\n",
    "\n",
    "print(f\"Population mean revenue estimate: ${sample_mean:.2f} (Confidence Interval: ${lower_bound:.2f}, ${upper_bound:.2f})\")\n"
   ]
  },
  {
   "cell_type": "markdown",
   "id": "e7e8bfa9-3198-481d-98c9-61f382fa9262",
   "metadata": {},
   "source": [
    "# Q14. A researcher hypothesizes that a new drug will decrease blood pressure by 10 mmHg. They conduct a clinical trial with 100 patients and find that the sample mean decrease in blood pressure is 8 mmHg with a standard deviation of 3 mmHg. Test the hypothesis with a significance level of 0.05."
   ]
  },
  {
   "cell_type": "code",
   "execution_count": 6,
   "id": "868b2839-1450-417b-8ea3-8fa842896574",
   "metadata": {},
   "outputs": [
    {
     "name": "stdout",
     "output_type": "stream",
     "text": [
      "t-statistic: -6.67\n",
      "Conclusion: Reject the null hypothesis\n"
     ]
    }
   ],
   "source": [
    "import scipy.stats as stats\n",
    "\n",
    "sample_mean = 8\n",
    "sample_std_dev = 3\n",
    "sample_size = 100\n",
    "null_hypothesis = 10\n",
    "significance_level = 0.05\n",
    "\n",
    "# Calculate the t-statistic\n",
    "t_statistic = (sample_mean - null_hypothesis) / (sample_std_dev / (sample_size ** 0.5))\n",
    "\n",
    "# Calculate the critical t-value for the given significance level and degrees of freedom\n",
    "t_critical = stats.t.ppf(1 - significance_level / 2, df=sample_size - 1)\n",
    "\n",
    "# Compare the t-statistic with the critical t-value to make a decision\n",
    "if t_statistic < -t_critical or t_statistic > t_critical:\n",
    "    conclusion = \"Reject the null hypothesis\"\n",
    "else:\n",
    "    conclusion = \"Fail to reject the null hypothesis\"\n",
    "\n",
    "print(f\"t-statistic: {t_statistic:.2f}\")\n",
    "print(f\"Conclusion: {conclusion}\")\n"
   ]
  },
  {
   "cell_type": "markdown",
   "id": "b7bc5a34-4c98-4d1f-988b-b25e5d30f7e0",
   "metadata": {},
   "source": [
    "# Q15. An electronics company produces a certain type of product with a mean weight of 5 pounds and a standard deviation of 0.5 pounds. A random sample of 25 products is taken, and the sample mean weight is found to be 4.8 pounds. Test the hypothesis that the true mean weight of the products is less than 5 pounds with a significance level of 0.01.\n"
   ]
  },
  {
   "cell_type": "code",
   "execution_count": 7,
   "id": "7392d9a1-e0b3-40ea-9213-f792e6bd24bd",
   "metadata": {},
   "outputs": [
    {
     "name": "stdout",
     "output_type": "stream",
     "text": [
      "t-statistic: -2.00\n",
      "Conclusion: Reject the null hypothesis\n"
     ]
    }
   ],
   "source": [
    "import scipy.stats as stats\n",
    "\n",
    "population_mean = 5\n",
    "sample_mean = 4.8\n",
    "population_std_dev = 0.5\n",
    "sample_size = 25\n",
    "null_hypothesis = population_mean\n",
    "significance_level = 0.01\n",
    "\n",
    "# Calculate the standard error\n",
    "standard_error = population_std_dev / (sample_size ** 0.5)\n",
    "\n",
    "# Calculate the t-statistic\n",
    "t_statistic = (sample_mean - null_hypothesis) / standard_error\n",
    "\n",
    "# Calculate the critical t-value for the given significance level and degrees of freedom\n",
    "t_critical = stats.t.ppf(significance_level, df=sample_size - 1)\n",
    "\n",
    "# Compare the t-statistic with the critical t-value to make a decision\n",
    "if t_statistic < -t_critical:\n",
    "    conclusion = \"Reject the null hypothesis\"\n",
    "else:\n",
    "    conclusion = \"Fail to reject the null hypothesis\"\n",
    "\n",
    "print(f\"t-statistic: {t_statistic:.2f}\")\n",
    "print(f\"Conclusion: {conclusion}\")\n"
   ]
  },
  {
   "cell_type": "markdown",
   "id": "d0f628c8-b65c-4ad8-8072-2bdc2abef32a",
   "metadata": {},
   "source": [
    "# Q16. Two groups of students are given different study materials to prepare for a test. The first group (n1 = 30) has a mean score of 80 with a standard deviation of 10, and the second group (n2 = 40) has a mean score of 75 with a standard deviation of 8. Test the hypothesis that the population means for the two groups are equal with a significance level of 0.01."
   ]
  },
  {
   "cell_type": "code",
   "execution_count": 8,
   "id": "5b03eae4-60ba-4ab3-be1d-c7150e469bb0",
   "metadata": {},
   "outputs": [
    {
     "name": "stdout",
     "output_type": "stream",
     "text": [
      "t-statistic: 2.32\n",
      "Conclusion: Fail to reject the null hypothesis\n"
     ]
    }
   ],
   "source": [
    "import scipy.stats as stats\n",
    "\n",
    "sample_mean1 = 80\n",
    "sample_std_dev1 = 10\n",
    "sample_size1 = 30\n",
    "\n",
    "sample_mean2 = 75\n",
    "sample_std_dev2 = 8\n",
    "sample_size2 = 40\n",
    "\n",
    "null_hypothesis = 0\n",
    "significance_level = 0.01\n",
    "\n",
    "# Calculate the pooled standard deviation\n",
    "pooled_std_dev = ((sample_std_dev1 ** 2) * (sample_size1 - 1) + (sample_std_dev2 ** 2) * (sample_size2 - 1)) / (sample_size1 + sample_size2 - 2)\n",
    "pooled_std_dev = pooled_std_dev ** 0.5\n",
    "\n",
    "# Calculate the standard error\n",
    "standard_error = pooled_std_dev * ((1 / sample_size1) + (1 / sample_size2)) ** 0.5\n",
    "\n",
    "# Calculate the t-statistic\n",
    "t_statistic = (sample_mean1 - sample_mean2 - null_hypothesis) / standard_error\n",
    "\n",
    "# Calculate the degrees of freedom\n",
    "degrees_of_freedom = sample_size1 + sample_size2 - 2\n",
    "\n",
    "# Calculate the critical t-value for the given significance level and degrees of freedom\n",
    "t_critical = stats.t.ppf(1 - significance_level / 2, df=degrees_of_freedom)\n",
    "\n",
    "# Compare the t-statistic with the critical t-value to make a decision\n",
    "if abs(t_statistic) > t_critical:\n",
    "    conclusion = \"Reject the null hypothesis\"\n",
    "else:\n",
    "    conclusion = \"Fail to reject the null hypothesis\"\n",
    "\n",
    "print(f\"t-statistic: {t_statistic:.2f}\")\n",
    "print(f\"Conclusion: {conclusion}\")\n"
   ]
  },
  {
   "cell_type": "markdown",
   "id": "0326dc89-189a-425f-982c-22d7893c4930",
   "metadata": {},
   "source": [
    "# Q17. A marketing company wants to estimate the average number of ads watched by viewers during a TV program. They take a random sample of 50 viewers and find that the sample mean is 4 with a standard deviation of 1.5. Estimate the population mean with a 99% confidence interval."
   ]
  },
  {
   "cell_type": "code",
   "execution_count": 9,
   "id": "8188759a-225a-45b7-87b7-a7284954a1b3",
   "metadata": {},
   "outputs": [
    {
     "name": "stdout",
     "output_type": "stream",
     "text": [
      "Population mean estimate: 4.00 (Confidence Interval: 3.43, 4.57)\n"
     ]
    }
   ],
   "source": [
    "import scipy.stats as stats\n",
    "\n",
    "sample_mean = 4\n",
    "sample_std_dev = 1.5\n",
    "sample_size = 50\n",
    "confidence_level = 0.99\n",
    "\n",
    "# Calculate the critical t-value\n",
    "t_critical = stats.t.ppf(1 - (1 - confidence_level) / 2, df=sample_size - 1)\n",
    "\n",
    "# Calculate the standard error\n",
    "standard_error = sample_std_dev / (sample_size ** 0.5)\n",
    "\n",
    "# Calculate the confidence interval\n",
    "lower_bound = sample_mean - t_critical * standard_error\n",
    "upper_bound = sample_mean + t_critical * standard_error\n",
    "\n",
    "print(f\"Population mean estimate: {sample_mean:.2f} (Confidence Interval: {lower_bound:.2f}, {upper_bound:.2f})\")\n"
   ]
  },
  {
   "cell_type": "code",
   "execution_count": null,
   "id": "0e788b3a-9b9c-4442-abc8-dc5d7398e8dd",
   "metadata": {},
   "outputs": [],
   "source": []
  }
 ],
 "metadata": {
  "kernelspec": {
   "display_name": "Python 3 (ipykernel)",
   "language": "python",
   "name": "python3"
  },
  "language_info": {
   "codemirror_mode": {
    "name": "ipython",
    "version": 3
   },
   "file_extension": ".py",
   "mimetype": "text/x-python",
   "name": "python",
   "nbconvert_exporter": "python",
   "pygments_lexer": "ipython3",
   "version": "3.10.9"
  }
 },
 "nbformat": 4,
 "nbformat_minor": 5
}
