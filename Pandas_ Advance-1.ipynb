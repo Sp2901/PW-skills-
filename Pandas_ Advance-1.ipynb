{
 "cells": [
  {
   "cell_type": "markdown",
   "id": "65ef8c2a-7492-4245-8ad2-538814aca53a",
   "metadata": {},
   "source": [
    "# Q1. List any five functions of the pandas library with execution."
   ]
  },
  {
   "cell_type": "markdown",
   "id": "d1fe4702-2ee6-4276-964e-69847c14e4a7",
   "metadata": {},
   "source": [
    "1) head: This function is used to display the first n rows of a DataFrame. By default, it shows the first 5 rows."
   ]
  },
  {
   "cell_type": "code",
   "execution_count": 2,
   "id": "92f7a0e2-fcb0-4ffe-a7d3-3ae2a23d26da",
   "metadata": {},
   "outputs": [
    {
     "name": "stdout",
     "output_type": "stream",
     "text": [
      "    Name  Age\n",
      "0   John   25\n",
      "1   Emma   28\n",
      "2  Peter   22\n"
     ]
    }
   ],
   "source": [
    "import pandas as pd\n",
    "\n",
    "# Create a sample DataFrame\n",
    "data = {'Name': ['John', 'Emma', 'Peter', 'Lisa', 'Mike'],\n",
    "        'Age': [25, 28, 22, 30, 35]}\n",
    "df = pd.DataFrame(data)\n",
    "\n",
    "# Display the first 3 rows\n",
    "print(df.head(3))\n"
   ]
  },
  {
   "cell_type": "markdown",
   "id": "26745164-6cc0-4a43-b63a-779a932a9ae3",
   "metadata": {},
   "source": [
    "2)  info: This function provides a summary of the DataFrame, including the column names, data types, and non-null counts."
   ]
  },
  {
   "cell_type": "code",
   "execution_count": 3,
   "id": "aaeaf3d0-4bc5-476f-9d1e-bac716968d2c",
   "metadata": {},
   "outputs": [
    {
     "name": "stdout",
     "output_type": "stream",
     "text": [
      "<class 'pandas.core.frame.DataFrame'>\n",
      "RangeIndex: 5 entries, 0 to 4\n",
      "Data columns (total 2 columns):\n",
      " #   Column  Non-Null Count  Dtype \n",
      "---  ------  --------------  ----- \n",
      " 0   Name    5 non-null      object\n",
      " 1   Age     5 non-null      int64 \n",
      "dtypes: int64(1), object(1)\n",
      "memory usage: 208.0+ bytes\n",
      "None\n"
     ]
    }
   ],
   "source": [
    "import pandas as pd\n",
    "\n",
    "# Create a sample DataFrame\n",
    "data = {'Name': ['John', 'Emma', 'Peter', 'Lisa', 'Mike'],\n",
    "        'Age': [25, 28, 22, 30, 35]}\n",
    "df = pd.DataFrame(data)\n",
    "\n",
    "# Get summary information about the DataFrame\n",
    "print(df.info())\n"
   ]
  },
  {
   "cell_type": "markdown",
   "id": "aa554d70-8929-4f99-ba02-6a2235513621",
   "metadata": {},
   "source": [
    "3) describe: This function generates descriptive statistics of the DataFrame, such as count, mean, standard deviation, minimum, maximum, and quartile values."
   ]
  },
  {
   "cell_type": "code",
   "execution_count": 4,
   "id": "ab3baa97-e186-4ce4-8110-312090c92968",
   "metadata": {},
   "outputs": [
    {
     "name": "stdout",
     "output_type": "stream",
     "text": [
      "             Age\n",
      "count   5.000000\n",
      "mean   28.000000\n",
      "std     4.949747\n",
      "min    22.000000\n",
      "25%    25.000000\n",
      "50%    28.000000\n",
      "75%    30.000000\n",
      "max    35.000000\n"
     ]
    }
   ],
   "source": [
    "import pandas as pd\n",
    "\n",
    "# Create a sample DataFrame\n",
    "data = {'Name': ['John', 'Emma', 'Peter', 'Lisa', 'Mike'],\n",
    "        'Age': [25, 28, 22, 30, 35]}\n",
    "df = pd.DataFrame(data)\n",
    "\n",
    "# Generate descriptive statistics\n",
    "print(df.describe())\n"
   ]
  },
  {
   "cell_type": "markdown",
   "id": "bab29464-b211-49a8-9493-a55c63d5a98b",
   "metadata": {},
   "source": [
    "4) groupby: This function is used for grouping data based on specified criteria. It allows you to perform operations on specific groups within the DataFrame."
   ]
  },
  {
   "cell_type": "code",
   "execution_count": 5,
   "id": "de2af6d8-5c86-4d2d-855a-266512f5d714",
   "metadata": {},
   "outputs": [
    {
     "name": "stdout",
     "output_type": "stream",
     "text": [
      "Department\n",
      "HR    5750.0\n",
      "IT    4500.0\n",
      "Name: Salary, dtype: float64\n"
     ]
    }
   ],
   "source": [
    "import pandas as pd\n",
    "\n",
    "# Create a sample DataFrame\n",
    "data = {'Name': ['John', 'Emma', 'Peter', 'Lisa', 'Mike'],\n",
    "        'Department': ['IT', 'HR', 'IT', 'HR', 'IT'],\n",
    "        'Salary': [5000, 6000, 4500, 5500, 4000]}\n",
    "df = pd.DataFrame(data)\n",
    "\n",
    "# Group the DataFrame by Department and calculate the average salary\n",
    "grouped_df = df.groupby('Department')['Salary'].mean()\n",
    "print(grouped_df)\n"
   ]
  },
  {
   "cell_type": "markdown",
   "id": "c5acaaef-95ac-437f-ad08-0016f7ea6679",
   "metadata": {},
   "source": [
    "5) fillna: This function is used to fill missing values (NaN) in a DataFrame or Series with a specified value or a method like forward-fill or backward-fill.\n"
   ]
  },
  {
   "cell_type": "code",
   "execution_count": 6,
   "id": "1ae06876-7fe6-4074-8aa8-5ce8fcbb23a1",
   "metadata": {},
   "outputs": [
    {
     "name": "stdout",
     "output_type": "stream",
     "text": [
      "     A    B\n",
      "0  1.0  0.0\n",
      "1  0.0  2.0\n",
      "2  3.0  0.0\n",
      "3  0.0  4.0\n",
      "4  5.0  0.0\n"
     ]
    }
   ],
   "source": [
    "import pandas as pd\n",
    "import numpy as np\n",
    "\n",
    "# Create a sample DataFrame with missing values\n",
    "data = {'A': [1, np.nan, 3, np.nan, 5],\n",
    "        'B': [np.nan, 2, np.nan, 4, np.nan]}\n",
    "df = pd.DataFrame(data)\n",
    "\n",
    "# Fill missing values with 0\n",
    "filled_df = df.fillna(0)\n",
    "print(filled_df)\n"
   ]
  },
  {
   "cell_type": "markdown",
   "id": "2aa280b7-975d-4492-bcd9-234bb4c36bc3",
   "metadata": {},
   "source": [
    "# Q2. Given a Pandas DataFrame df with columns 'A', 'B', and 'C', write a Python function to re-index the DataFrame with a new index that starts from 1 and increments by 2 for each row."
   ]
  },
  {
   "cell_type": "code",
   "execution_count": 7,
   "id": "3afa2929-03b3-42f4-9e3c-61c5dfef49a0",
   "metadata": {},
   "outputs": [],
   "source": [
    "import pandas as pd\n",
    "\n",
    "def reindex_dataframe(df):\n",
    "    new_index = pd.RangeIndex(start=1, step=2, stop=len(df)*2)\n",
    "    df = df.reset_index(drop=True)\n",
    "    df.index = new_index\n",
    "    return df\n"
   ]
  },
  {
   "cell_type": "code",
   "execution_count": 8,
   "id": "6fe79d19-76a6-4c60-a28a-ba61e3f3b129",
   "metadata": {},
   "outputs": [
    {
     "name": "stdout",
     "output_type": "stream",
     "text": [
      "Original DataFrame:\n",
      "    A   B   C\n",
      "0  10  40  70\n",
      "1  20  50  80\n",
      "2  30  60  90\n",
      "\n",
      "Reindexed DataFrame:\n",
      "    A   B   C\n",
      "1  10  40  70\n",
      "3  20  50  80\n",
      "5  30  60  90\n"
     ]
    }
   ],
   "source": [
    "# Example usage\n",
    "df = pd.DataFrame({'A': [10, 20, 30], 'B': [40, 50, 60], 'C': [70, 80, 90]})\n",
    "print(\"Original DataFrame:\")\n",
    "print(df)\n",
    "\n",
    "df_reindexed = reindex_dataframe(df)\n",
    "print(\"\\nReindexed DataFrame:\")\n",
    "print(df_reindexed)\n"
   ]
  },
  {
   "cell_type": "markdown",
   "id": "ab899559-b55a-4ab6-b059-78ae354fa6f1",
   "metadata": {},
   "source": [
    "# Q3. You have a Pandas DataFrame df with a column named 'Values'. Write a Python function that iterates over the DataFrame and calculates the sum of the first three values in the 'Values' column. The function should print the sum to the console.For example, if the 'Values' column of df contains the values [10, 20, 30, 40, 50], your function should calculate and print the sum of the first three values, which is 60."
   ]
  },
  {
   "cell_type": "code",
   "execution_count": 9,
   "id": "855ad906-d60a-449b-a931-2c79bfb3a433",
   "metadata": {},
   "outputs": [
    {
     "name": "stdout",
     "output_type": "stream",
     "text": [
      "Original DataFrame:\n",
      "   Values\n",
      "0      10\n",
      "1      20\n",
      "2      30\n",
      "3      40\n",
      "4      50\n",
      "Sum of the first three values: 60\n"
     ]
    }
   ],
   "source": [
    "import pandas as pd\n",
    "\n",
    "def calculate_sum_of_first_three(df):\n",
    "    values = df['Values'].values[:3]  # Extract the first three values\n",
    "    sum_of_first_three = sum(values)  # Calculate the sum\n",
    "    print(\"Sum of the first three values:\", sum_of_first_three)\n",
    "\n",
    "# Example usage\n",
    "df = pd.DataFrame({'Values': [10, 20, 30, 40, 50]})\n",
    "print(\"Original DataFrame:\")\n",
    "print(df)\n",
    "\n",
    "calculate_sum_of_first_three(df)\n"
   ]
  },
  {
   "cell_type": "markdown",
   "id": "9d875c93-fd24-4577-80b6-185c7ba44a9f",
   "metadata": {},
   "source": [
    "# Q4. Given a Pandas DataFrame df with a column 'Text', write a Python function to create a new column 'Word_Count' that contains the number of words in each row of the 'Text' column.\n",
    "\n",
    "\n"
   ]
  },
  {
   "cell_type": "code",
   "execution_count": 10,
   "id": "e65ba0d4-2e05-4eb6-916c-39a65a0d6648",
   "metadata": {},
   "outputs": [],
   "source": [
    "import pandas as pd\n",
    "\n",
    "def count_words(df):\n",
    "    df['Word_Count'] = df['Text'].apply(lambda x: len(str(x).split()))\n",
    "    return df\n"
   ]
  },
  {
   "cell_type": "code",
   "execution_count": 11,
   "id": "8beb4aa8-5778-4d0f-a627-49275be96fd2",
   "metadata": {},
   "outputs": [
    {
     "name": "stdout",
     "output_type": "stream",
     "text": [
      "Original DataFrame:\n",
      "                         Text\n",
      "0         This is a sentence.\n",
      "1  Python programming is fun!\n",
      "2  Data analysis with pandas.\n",
      "\n",
      "DataFrame with Word_Count:\n",
      "                         Text  Word_Count\n",
      "0         This is a sentence.           4\n",
      "1  Python programming is fun!           4\n",
      "2  Data analysis with pandas.           4\n"
     ]
    }
   ],
   "source": [
    "# Example usage\n",
    "df = pd.DataFrame({'Text': ['This is a sentence.', 'Python programming is fun!', 'Data analysis with pandas.']})\n",
    "print(\"Original DataFrame:\")\n",
    "print(df)\n",
    "\n",
    "df_with_word_count = count_words(df)\n",
    "print(\"\\nDataFrame with Word_Count:\")\n",
    "print(df_with_word_count)\n"
   ]
  },
  {
   "cell_type": "markdown",
   "id": "7ae8ad6f-3f52-49b6-8fef-ab194abd108d",
   "metadata": {},
   "source": [
    "# Q5. How are DataFrame.size() and DataFrame.shape() different?"
   ]
  },
  {
   "cell_type": "markdown",
   "id": "91eb5927-d980-4269-a33a-3255d97bf6ab",
   "metadata": {},
   "source": [
    "- DataFrame.size() returns the total number of elements (cells) in the DataFrame.\n",
    "- DataFrame.shape() returns a tuple representing the dimensions of the DataFrame (number of rows and columns)."
   ]
  },
  {
   "cell_type": "code",
   "execution_count": 12,
   "id": "9c357128-8a7b-4bec-a2d3-420270e287d6",
   "metadata": {},
   "outputs": [
    {
     "name": "stdout",
     "output_type": "stream",
     "text": [
      "DataFrame size: 6\n",
      "DataFrame shape: (3, 2)\n"
     ]
    }
   ],
   "source": [
    "import pandas as pd\n",
    "\n",
    "# Create a sample DataFrame\n",
    "data = {'A': [1, 2, 3],\n",
    "        'B': [4, 5, 6]}\n",
    "df = pd.DataFrame(data)\n",
    "\n",
    "# Print the size and shape of the DataFrame\n",
    "print(\"DataFrame size:\", df.size)\n",
    "print(\"DataFrame shape:\", df.shape)\n"
   ]
  },
  {
   "cell_type": "markdown",
   "id": "1195595e-3f62-468c-85a0-46ed370e1b6b",
   "metadata": {},
   "source": [
    "# Q6. Which function of pandas do we use to read an excel file?"
   ]
  },
  {
   "cell_type": "code",
   "execution_count": 13,
   "id": "2f324ab1-fbc4-45d2-93aa-21241de1bc69",
   "metadata": {},
   "outputs": [],
   "source": [
    "import pandas as pd\n",
    "#df = pd.read_excel('data.xlsx', sheet_name='Sheet1')\n",
    "#print(df)\n"
   ]
  },
  {
   "cell_type": "markdown",
   "id": "7ed48931-8de9-4a99-8a37-ef300cb6caa3",
   "metadata": {},
   "source": [
    "# Q7. You have a Pandas DataFrame df that contains a column named 'Email' that contains email addresses in the format 'username@domain.com'. Write a Python function that creates a new column 'Username' in df that contains only the username part of each email address.The username is the part of the email address that appears before the '@' symbol. For example, if the email address is 'john.doe@example.com', the 'Username' column should contain 'john.doe'. Your function should extract the username from each email address and store it in the new 'Username'column."
   ]
  },
  {
   "cell_type": "code",
   "execution_count": 15,
   "id": "bf3b2e31-f933-4b9d-ba6f-a18ab58f8772",
   "metadata": {},
   "outputs": [],
   "source": [
    "import pandas as pd\n",
    "\n",
    "def extract_username(df):\n",
    "    df['Username'] = df['Email'].str.split('@').str.get(0)\n",
    "    return df\n"
   ]
  },
  {
   "cell_type": "code",
   "execution_count": 16,
   "id": "a37cd699-d7dd-4ea5-ba94-f09ff415e057",
   "metadata": {},
   "outputs": [
    {
     "name": "stdout",
     "output_type": "stream",
     "text": [
      "                    Email    Username\n",
      "0    john.doe@example.com    john.doe\n",
      "1  jane.smith@example.com  jane.smith\n"
     ]
    }
   ],
   "source": [
    "# Example DataFrame\n",
    "data = {'Email': ['john.doe@example.com', 'jane.smith@example.com']}\n",
    "df = pd.DataFrame(data)\n",
    "\n",
    "# Extract usernames\n",
    "df = extract_username(df)\n",
    "\n",
    "# Print the updated DataFrame\n",
    "print(df)\n"
   ]
  },
  {
   "cell_type": "markdown",
   "id": "e34aad8e-296a-4a39-95ae-f171e8f9be47",
   "metadata": {},
   "source": [
    "# Q8. You have a Pandas DataFrame df with columns 'A', 'B', and 'C'. Write a Python function that selects all rows where the value in column 'A' is greater than 5 and the value in column 'B' is less than 10. The function should return a new DataFrame that contains only the selected rows.\n",
    "#### For example, if df contains the following values:\n",
    "A B C\n",
    "0 3 5 1\n",
    "1 8 2 7\n",
    "2 6 9 4\n",
    "3 2 3 5\n",
    "4 9 1 2\n",
    "#### Your function should select the following rows: A B C\n",
    "1 8 2 7\n",
    "4 9 1 2\n",
    "- The function should return a new DataFrame that contains only the selected rows."
   ]
  },
  {
   "cell_type": "code",
   "execution_count": 17,
   "id": "e0a25d13-5d94-4d4d-86a3-fd178d28a5d9",
   "metadata": {},
   "outputs": [],
   "source": [
    "import pandas as pd\n",
    "\n",
    "def select_rows(df):\n",
    "    selected_rows = df[(df['A'] > 5) & (df['B'] < 10)]\n",
    "    return selected_rows\n"
   ]
  },
  {
   "cell_type": "code",
   "execution_count": 18,
   "id": "5698d21b-5c74-4fc1-b250-e66fb8997031",
   "metadata": {},
   "outputs": [
    {
     "name": "stdout",
     "output_type": "stream",
     "text": [
      "   A  B  C\n",
      "2  7  2  3\n",
      "3  6  9  4\n"
     ]
    }
   ],
   "source": [
    "# Example DataFrame\n",
    "data = {'A': [3, 1, 7, 6, 3, 5, 4],\n",
    "        'B': [5, 8, 2, 9, 2, 4, 9],\n",
    "        'C': [1, 2, 3, 4, 5, 1, 2]}\n",
    "df = pd.DataFrame(data)\n",
    "\n",
    "# Select rows\n",
    "selected_df = select_rows(df)\n",
    "\n",
    "# Print the selected DataFrame\n",
    "print(selected_df)\n"
   ]
  },
  {
   "cell_type": "markdown",
   "id": "ad7dd0da-acea-472f-829b-eb76761a1f48",
   "metadata": {},
   "source": [
    "# Q9. Given a Pandas DataFrame df with a column 'Values', write a Python function to calculate the mean,median, and standard deviation of the values in the 'Values' column."
   ]
  },
  {
   "cell_type": "code",
   "execution_count": 19,
   "id": "4186f702-8ee5-4086-9ab6-afed801c475e",
   "metadata": {},
   "outputs": [],
   "source": [
    "import pandas as pd\n",
    "\n",
    "def calculate_statistics(df):\n",
    "    mean_value = df['Values'].mean()\n",
    "    median_value = df['Values'].median()\n",
    "    std_value = df['Values'].std()\n",
    "    return mean_value, median_value, std_value\n"
   ]
  },
  {
   "cell_type": "code",
   "execution_count": 20,
   "id": "4209de4c-db3a-4475-96a9-970d01374360",
   "metadata": {},
   "outputs": [
    {
     "name": "stdout",
     "output_type": "stream",
     "text": [
      "Mean: 5.571428571428571\n",
      "Median: 5.0\n",
      "Standard Deviation: 3.1014589500826255\n"
     ]
    }
   ],
   "source": [
    "# Example DataFrame\n",
    "data = {'Values': [5, 8, 2, 9, 2, 4, 9]}\n",
    "df = pd.DataFrame(data)\n",
    "\n",
    "# Calculate statistics\n",
    "mean, median, std = calculate_statistics(df)\n",
    "\n",
    "# Print the results\n",
    "print(\"Mean:\", mean)\n",
    "print(\"Median:\", median)\n",
    "print(\"Standard Deviation:\", std)\n"
   ]
  },
  {
   "cell_type": "markdown",
   "id": "c1f9a36e-7642-4e9a-a6a2-a8f66cc043bb",
   "metadata": {},
   "source": [
    "# Q10. Given a Pandas DataFrame df with a column 'Sales' and a column 'Date', write a Python function to create a new column 'MovingAverage' that contains the moving average of the sales for the past 7 days for each row in the DataFrame. The moving average should be calculated using a window of size 7 and should include the current day."
   ]
  },
  {
   "cell_type": "code",
   "execution_count": 21,
   "id": "69cecfd5-63e5-4600-969f-c73ba46822ca",
   "metadata": {},
   "outputs": [],
   "source": [
    "import pandas as pd\n",
    "\n",
    "def calculate_moving_average(df):\n",
    "    df['MovingAverage'] = df['Sales'].rolling(window=7, min_periods=1).mean()\n",
    "    return df\n"
   ]
  },
  {
   "cell_type": "code",
   "execution_count": 22,
   "id": "c9594add-bcd1-4e8d-941b-a9302f2e2f69",
   "metadata": {},
   "outputs": [
    {
     "name": "stdout",
     "output_type": "stream",
     "text": [
      "         Date  Sales  MovingAverage\n",
      "0  2023-01-01     10      10.000000\n",
      "1  2023-01-02     12      11.000000\n",
      "2  2023-01-03     15      12.333333\n",
      "3  2023-01-04     11      12.000000\n",
      "4  2023-01-05      9      11.400000\n",
      "5  2023-01-06     13      11.666667\n",
      "6  2023-01-07     14      12.000000\n",
      "7  2023-01-08     16      12.857143\n",
      "8  2023-01-09     18      13.714286\n",
      "9  2023-01-10     20      14.428571\n",
      "10 2023-01-11     17      15.285714\n",
      "11 2023-01-12     19      16.714286\n"
     ]
    }
   ],
   "source": [
    "# Example DataFrame\n",
    "data = {'Sales': [10, 12, 15, 11, 9, 13, 14, 16, 18, 20, 17, 19]}\n",
    "dates = pd.date_range(start='2023-01-01', periods=12)\n",
    "df = pd.DataFrame({'Date': dates, 'Sales': data['Sales']})\n",
    "\n",
    "# Calculate moving average\n",
    "df = calculate_moving_average(df)\n",
    "\n",
    "# Print the updated DataFrame\n",
    "print(df)\n"
   ]
  },
  {
   "cell_type": "markdown",
   "id": "eb0eee99-b97b-4c61-bacb-2885d75151f9",
   "metadata": {},
   "source": [
    "# Q11. You have a Pandas DataFrame df with a column 'Date'. Write a Python function that creates a new column 'Weekday' in the DataFrame. The 'Weekday' column should contain the weekday name (e.g.Monday, Tuesday) corresponding to each date in the 'Date' column.\n",
    "#### For example, if df contains the following values:\n",
    "Date\n",
    "0 2023-01-01\n",
    "1 2023-01-02\n",
    "2 2023-01-03\n",
    "3 2023-01-04\n",
    "4 2023-01-05\n",
    "#### Your function should create the following DataFrame:\n",
    "\n",
    "- Date Weekday\n",
    "0 2023-01-01 Sunday\n",
    "1 2023-01-02 Monday\n",
    "2 2023-01-03 Tuesday\n",
    "3 2023-01-04 Wednesday\n",
    "4 2023-01-05 Thursday\n",
    "- The function should return the modified DataFrame."
   ]
  },
  {
   "cell_type": "code",
   "execution_count": 23,
   "id": "1b0552b4-2cae-4343-9b91-9818fd190b6e",
   "metadata": {},
   "outputs": [],
   "source": [
    "import pandas as pd\n",
    "\n",
    "def add_weekday_column(df):\n",
    "    df['Weekday'] = df['Date'].dt.strftime('%A')\n",
    "    return df\n"
   ]
  },
  {
   "cell_type": "code",
   "execution_count": 24,
   "id": "6f90c1c3-7cb7-4748-ac8e-6b8c714008d0",
   "metadata": {},
   "outputs": [
    {
     "name": "stdout",
     "output_type": "stream",
     "text": [
      "        Date    Weekday\n",
      "0 2023-01-01     Sunday\n",
      "1 2023-01-02     Monday\n",
      "2 2023-01-03    Tuesday\n",
      "3 2023-01-04  Wednesday\n",
      "4 2023-01-05   Thursday\n"
     ]
    }
   ],
   "source": [
    "# Example DataFrame\n",
    "dates = pd.to_datetime(['2023-01-01', '2023-01-02', '2023-01-03', '2023-01-04', '2023-01-05'])\n",
    "df = pd.DataFrame({'Date': dates})\n",
    "\n",
    "# Add weekday column\n",
    "df = add_weekday_column(df)\n",
    "\n",
    "# Print the updated DataFrame\n",
    "print(df)\n"
   ]
  },
  {
   "cell_type": "markdown",
   "id": "f06c7325-118f-4943-ae23-2406cda0870d",
   "metadata": {},
   "source": [
    "# Q12. Given a Pandas DataFrame df with a column 'Date' that contains timestamps, write a Python function to select all rows where the date is between '2023-01-01' and '2023-01-31'."
   ]
  },
  {
   "cell_type": "code",
   "execution_count": 25,
   "id": "60309c3f-7fe9-42e1-a3f7-acd88f73da0c",
   "metadata": {},
   "outputs": [],
   "source": [
    "import pandas as pd\n",
    "\n",
    "def select_rows_within_date_range(df):\n",
    "    start_date = pd.to_datetime('2023-01-01')\n",
    "    end_date = pd.to_datetime('2023-01-31')\n",
    "    selected_rows = df[(df['Date'] >= start_date) & (df['Date'] <= end_date)]\n",
    "    return selected_rows\n"
   ]
  },
  {
   "cell_type": "code",
   "execution_count": 26,
   "id": "fa7749d3-2b01-4c81-bfd1-d670a13c0a44",
   "metadata": {},
   "outputs": [
    {
     "name": "stdout",
     "output_type": "stream",
     "text": [
      "         Date\n",
      "0  2023-01-01\n",
      "1  2023-01-02\n",
      "2  2023-01-03\n",
      "3  2023-01-04\n",
      "4  2023-01-05\n",
      "5  2023-01-06\n",
      "6  2023-01-07\n",
      "7  2023-01-08\n",
      "8  2023-01-09\n",
      "9  2023-01-10\n",
      "10 2023-01-11\n",
      "11 2023-01-12\n",
      "12 2023-01-13\n",
      "13 2023-01-14\n",
      "14 2023-01-15\n",
      "15 2023-01-16\n",
      "16 2023-01-17\n",
      "17 2023-01-18\n",
      "18 2023-01-19\n",
      "19 2023-01-20\n",
      "20 2023-01-21\n",
      "21 2023-01-22\n",
      "22 2023-01-23\n",
      "23 2023-01-24\n",
      "24 2023-01-25\n",
      "25 2023-01-26\n",
      "26 2023-01-27\n",
      "27 2023-01-28\n",
      "28 2023-01-29\n",
      "29 2023-01-30\n",
      "30 2023-01-31\n"
     ]
    }
   ],
   "source": [
    "# Example DataFrame\n",
    "dates = pd.date_range(start='2023-01-01', end='2023-02-15')\n",
    "df = pd.DataFrame({'Date': dates})\n",
    "\n",
    "# Select rows within date range\n",
    "selected_df = select_rows_within_date_range(df)\n",
    "\n",
    "# Print the selected DataFrame\n",
    "print(selected_df)\n"
   ]
  },
  {
   "cell_type": "markdown",
   "id": "e6b764d2-166f-4aa5-973f-1601017b838b",
   "metadata": {},
   "source": [
    "# Q13. To use the basic functions of pandas, what is the first and foremost necessary library that needs to be imported?"
   ]
  },
  {
   "cell_type": "markdown",
   "id": "b0afb161-0328-45f8-8971-9b8a1e21542d",
   "metadata": {},
   "source": [
    "# The first and foremost necessary library that needs to be imported to use the basic functions of pandas is the Pandas library itself. The Pandas library is a powerful data manipulation and analysis tool, and it provides various data structures and functions to work with structured data, such as DataFrames and Series.\n",
    "\n",
    "- To import the Pandas library, you can use the following import statement:\n",
    "\n",
    "```python\n",
    "import pandas as pd\n",
    "```\n",
    "\n",
    "- In this import statement, `import pandas` imports the Pandas library, and `as pd` provides an alias \"pd\" to refer to the Pandas library in your code. This is a common convention used by the Pandas community and makes it easier to refer to Pandas functions and objects throughout your code.\n",
    "\n",
    "- Once you have imported the Pandas library, you can use its functions and objects by prefixing them with `pd.`. For example, you can create a DataFrame using `pd.DataFrame()`, access columns using `df['column_name']`, and perform various data manipulation and analysis tasks using the functions provided by Pandas."
   ]
  },
  {
   "cell_type": "code",
   "execution_count": null,
   "id": "097f2b37-42c2-4205-b23e-3514862f29e8",
   "metadata": {},
   "outputs": [],
   "source": []
  }
 ],
 "metadata": {
  "kernelspec": {
   "display_name": "Python 3 (ipykernel)",
   "language": "python",
   "name": "python3"
  },
  "language_info": {
   "codemirror_mode": {
    "name": "ipython",
    "version": 3
   },
   "file_extension": ".py",
   "mimetype": "text/x-python",
   "name": "python",
   "nbconvert_exporter": "python",
   "pygments_lexer": "ipython3",
   "version": "3.10.9"
  }
 },
 "nbformat": 4,
 "nbformat_minor": 5
}
