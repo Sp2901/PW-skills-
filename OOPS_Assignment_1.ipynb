{
 "cells": [
  {
   "cell_type": "markdown",
   "id": "07f33e95-1ed5-4754-b02a-66fdc30b9dcb",
   "metadata": {},
   "source": [
    "# Q1. Explain Class and Object with respect to Object-Oriented Programming. Give a suitable example."
   ]
  },
  {
   "cell_type": "markdown",
   "id": "98b75829-9a9e-42b6-9261-f73b2378bdc6",
   "metadata": {},
   "source": [
    "- A class is a user-defined blueprint or prototype from which objects are created. Classes provide a means of bundling data and functionality together. Creating a new class creates a new type of object, allowing new instances of that type to be made. Each class instance can have attributes attached to it for maintaining its state. Class instances can also have methods (defined by their class) for modifying their state.\n",
    "\n",
    "# Example\n",
    "\n",
    "- Let's consider a class called \"Car\" that represents the concept of a car. The Car class may have attributes like \"color,\" \"brand,\" and \"model,\" as well as methods like \"start,\" \"accelerate,\" and \"brake.\" An object of the Car class could be created, such as \"myCar,\" with specific data assigned to its attributes. For example, myCar.color = \"red\", myCar.brand = \"Toyota\", and myCar.model = \"Camry\". The myCar object can then utilize the methods defined in the Car class, like myCar.start() or myCar.accelerate()."
   ]
  },
  {
   "cell_type": "markdown",
   "id": "8ae80a6a-e0e7-442f-994d-c548ba00697f",
   "metadata": {},
   "source": [
    "# Q2. Name the four pillars of OOPs."
   ]
  },
  {
   "cell_type": "markdown",
   "id": "3169df98-be97-4451-9518-b8848c2031bc",
   "metadata": {},
   "source": [
    "- 1.Encapsulation\n",
    "- 2.Inheritance\n",
    "- 3.Polymorphism\n",
    "- 4.Abstraction"
   ]
  },
  {
   "cell_type": "markdown",
   "id": "ec2b4e25-624c-4a5e-b6dd-4e6c2db779e9",
   "metadata": {},
   "source": [
    "# Q3. Explain why the __init__() function is used. Give a suitable example"
   ]
  },
  {
   "cell_type": "markdown",
   "id": "fcd6fd99-1a9a-41d0-b167-fd17ac6f06f7",
   "metadata": {},
   "source": [
    "- The init() function is a special method in Python classes. It is called the constructor method, and it is automatically invoked when an object is created from a class. The purpose of the init() method is to initialize the attributes of an object with the provided values or with default values.\n",
    "\n",
    "# Example"
   ]
  },
  {
   "cell_type": "code",
   "execution_count": 1,
   "id": "96ca2f30-cb32-490c-9830-2a29591d9708",
   "metadata": {},
   "outputs": [
    {
     "name": "stdout",
     "output_type": "stream",
     "text": [
      "Name: John\n",
      "Age: 25\n"
     ]
    }
   ],
   "source": [
    "class Person:\n",
    "    def __init__(self, name, age):\n",
    "        self.name = name\n",
    "        self.age = age\n",
    "\n",
    "    def display_info(self):\n",
    "        print(\"Name:\", self.name)\n",
    "        print(\"Age:\", self.age)\n",
    "\n",
    "# Creating an object of the Person class\n",
    "person = Person(\"John\", 25)\n",
    "person.display_info()\n"
   ]
  },
  {
   "cell_type": "markdown",
   "id": "6593331a-971b-4daa-8a34-68496f771536",
   "metadata": {},
   "source": [
    "# Q4.Why self is used in OOPs?"
   ]
  },
  {
   "cell_type": "markdown",
   "id": "3c637d9c-95d7-4125-8da5-dd90bb7b9433",
   "metadata": {},
   "source": [
    " - In object-oriented programming, \"self\" is a convention used to refer to the instance of a class within the class's methods. It is the first parameter of the instance methods defined in a class, and it represents the specific object or instance that the method is being called on.\n",
    "\n",
    "- Using \"self\" allows access to the attributes and methods of the object within the class. It helps differentiate between the object's instance variables and local variables within the method. When a method is called on an object, the object itself is automatically passed as the \"self\" argument.\n",
    "\n",
    "# Example"
   ]
  },
  {
   "cell_type": "code",
   "execution_count": 3,
   "id": "4b3a0e3a-f4dc-4bb7-b0f7-a08cc733c0c8",
   "metadata": {},
   "outputs": [
    {
     "name": "stdout",
     "output_type": "stream",
     "text": [
      "Area: 78.5\n"
     ]
    }
   ],
   "source": [
    "class Circle:\n",
    "    def __init__(self, radius):\n",
    "        self.radius = radius\n",
    "\n",
    "    def calculate_area(self):\n",
    "        return 3.14 * self.radius * self.radius\n",
    "\n",
    "# Creating an object of the Circle class\n",
    "circle = Circle(5)\n",
    "area = circle.calculate_area()\n",
    "print(\"Area:\", area)\n"
   ]
  },
  {
   "cell_type": "markdown",
   "id": "68e214b0-d8c1-4547-afa1-0e2886caeca5",
   "metadata": {},
   "source": [
    "# Q5.What is inheritance? Give an example for each type of inheritance."
   ]
  },
  {
   "cell_type": "markdown",
   "id": "10916186-3f45-491b-b769-48dedac3d247",
   "metadata": {},
   "source": [
    "- Inheritance is a fundamental concept in object-oriented programming where a class (derived class or subclass) inherits properties and behaviors from another class (base class or superclass). The derived class extends or specializes the base class, inheriting all its attributes and methods, and can also add its own unique attributes and methods. This relationship allows code reuse, promotes modularity, and enables hierarchical classification.\n",
    "\n",
    "# Example"
   ]
  },
  {
   "cell_type": "markdown",
   "id": "4e8c9349-c81c-47d5-825b-58140b0360d6",
   "metadata": {},
   "source": [
    "# 1.Single Inheritance:\n",
    "- In single inheritance, a derived class inherits from a single base class.\n"
   ]
  },
  {
   "cell_type": "code",
   "execution_count": 4,
   "id": "481b3db5-0a91-42f8-bf9a-d546aa20f192",
   "metadata": {},
   "outputs": [
    {
     "name": "stdout",
     "output_type": "stream",
     "text": [
      "Dog barks.\n"
     ]
    }
   ],
   "source": [
    "\n",
    "class Animal:\n",
    "    def sound(self):\n",
    "        print(\"Animal makes a sound.\")\n",
    "\n",
    "class Dog(Animal):\n",
    "    def sound(self):\n",
    "        print(\"Dog barks.\")\n",
    "\n",
    "# Creating an object of the Dog class\n",
    "dog = Dog()\n",
    "dog.sound()  # Output: \"Dog barks.\"\n"
   ]
  },
  {
   "cell_type": "markdown",
   "id": "a81de522-bf8d-42c6-85c6-7c19943e157d",
   "metadata": {},
   "source": [
    "### 2.Multiple Inheritance:\n",
    "- Multiple inheritance allows a derived class to inherit from multiple base classes. In Python, a class can inherit from multiple classes by listing them comma-separated within parentheses."
   ]
  },
  {
   "cell_type": "code",
   "execution_count": 5,
   "id": "c5587938-d3a2-4406-a766-088a6b098ad3",
   "metadata": {},
   "outputs": [
    {
     "name": "stdout",
     "output_type": "stream",
     "text": [
      "Flying...\n",
      "Swimming...\n"
     ]
    }
   ],
   "source": [
    "class Flyer:\n",
    "    def fly(self):\n",
    "        print(\"Flying...\")\n",
    "\n",
    "class Swimmer:\n",
    "    def swim(self):\n",
    "        print(\"Swimming...\")\n",
    "\n",
    "class FlyingFish(Flyer, Swimmer):\n",
    "    pass\n",
    "\n",
    "# Creating an object of the FlyingFish class\n",
    "fish = FlyingFish()\n",
    "fish.fly()   # Output: \"Flying...\"\n",
    "fish.swim()  # Output: \"Swimming...\"\n"
   ]
  },
  {
   "cell_type": "markdown",
   "id": "1def8ced-10ab-4494-ae14-31e7ab6efa66",
   "metadata": {},
   "source": [
    "### 3.Multilevel Inheritance:\n",
    "- Multilevel inheritance involves a chain of inheritance where a derived class becomes the base class for another class"
   ]
  },
  {
   "cell_type": "code",
   "execution_count": 6,
   "id": "48b75f99-3ea1-48b0-9ba6-f564847381aa",
   "metadata": {},
   "outputs": [
    {
     "name": "stdout",
     "output_type": "stream",
     "text": [
      "Dog barks.\n"
     ]
    }
   ],
   "source": [
    "class Animal:\n",
    "    def sound(self):\n",
    "        print(\"Animal makes a sound.\")\n",
    "\n",
    "class Mammal(Animal):\n",
    "    pass\n",
    "\n",
    "class Dog(Mammal):\n",
    "    def sound(self):\n",
    "        print(\"Dog barks.\")\n",
    "\n",
    "# Creating an object of the Dog class\n",
    "dog = Dog()\n",
    "dog.sound()  # Output: \"Dog barks.\"\n"
   ]
  },
  {
   "cell_type": "code",
   "execution_count": null,
   "id": "4a1b8440-d21c-4be0-9c86-30b168885fad",
   "metadata": {},
   "outputs": [],
   "source": []
  }
 ],
 "metadata": {
  "kernelspec": {
   "display_name": "Python 3 (ipykernel)",
   "language": "python",
   "name": "python3"
  },
  "language_info": {
   "codemirror_mode": {
    "name": "ipython",
    "version": 3
   },
   "file_extension": ".py",
   "mimetype": "text/x-python",
   "name": "python",
   "nbconvert_exporter": "python",
   "pygments_lexer": "ipython3",
   "version": "3.10.9"
  }
 },
 "nbformat": 4,
 "nbformat_minor": 5
}
