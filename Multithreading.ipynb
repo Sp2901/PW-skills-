{
 "cells": [
  {
   "cell_type": "markdown",
   "id": "fe73032b-bbdf-48e2-8c2d-a7666ec2073f",
   "metadata": {},
   "source": [
    "# Q1. what is multithreading in python? why is it used? Name the module used to handle threads in python"
   ]
  },
  {
   "cell_type": "markdown",
   "id": "ef4de7d9-03d7-4cad-83ed-000f713e845d",
   "metadata": {},
   "source": [
    "- Multithreading is a threading technique in Python programming to run multiple threads concurrently by rapidly switching between threads with a CPU help (called context switching). Besides, it allows sharing of its data space with the main threads inside a process that share information and communication with other threads easier than individual processes. \n",
    "#### There are two main modules of multithreading used to handle threads in Python.\n",
    "\n",
    "- The thread module\n",
    "- The threading module\n",
    "#### Thread modules\n",
    "- It is started with Python 3, designated as obsolete, and can only be accessed with _thread that supports backward compatibility.\n",
    "\n",
    "#### Using\n",
    "- It is a very useful technique for time-saving and improving the performance of an application. Multithreading allows the programmer to divide application tasks into sub-tasks and simultaneously run them in a program. It allows threads to communicate and share resources such as files, data, and memory to the same processor. F"
   ]
  },
  {
   "cell_type": "markdown",
   "id": "274a7fec-fddb-4dff-a823-8ecd06445eeb",
   "metadata": {},
   "source": [
    "# Q2. Why threading module used? write the use of the following functions:\n",
    "#### 1. activeCount()\n",
    "#### 2. currentThread()\n",
    "#### 3. enumerate())"
   ]
  },
  {
   "cell_type": "markdown",
   "id": "b642b5b6-4dce-4118-b29e-3934513b4d07",
   "metadata": {},
   "source": [
    "- activeCount(): This function is used to retrieve the number of currently active Thread objects in the current thread's ThreadGroup. It returns the count of active threads as an integer.\n",
    "\n",
    "- currentThread(): This function returns the Thread object corresponding to the current thread of execution. It allows you to obtain information or perform operations on the current thread.\n",
    "\n",
    "- enumerate(): This function returns a list of all Thread objects that are currently active. It allows you to retrieve information about all active threads. Each thread is represented as a Thread object, and the returned list can be iterated to access individual threads. "
   ]
  },
  {
   "cell_type": "markdown",
   "id": "1e91707e-1bff-4852-a227-16c2370c5050",
   "metadata": {},
   "source": [
    "# 3. Explain the following functions:\n",
    "#### 1. run()\n",
    "#### 2. start()\n",
    "#### 3. join()\n",
    "#### 4. isAlive()"
   ]
  },
  {
   "cell_type": "markdown",
   "id": "453e68ae-51ae-4577-862e-aa9dbdb29dcd",
   "metadata": {},
   "source": [
    "- run(): The run() method is the entry point for the thread's activity. It contains the code that will be executed in the thread. When a thread is started using the start() method, the run() method is called internally. Subclass Thread and override run() to define your own thread behavior.\n",
    "\n",
    "- start(): The start() method is used to start the execution of a thread. It initiates the thread's activity by calling the run() method internally. Use start() instead of calling run() directly, as it creates a separate thread of control for the run() method.\n",
    "\n",
    "- join(): The join() method is used to wait for a thread to complete its execution. Call join() on a thread object to make the calling thread wait until the specified thread finishes. This is useful for synchronization and ensures that all threads complete before proceeding with the rest of the program.\n",
    "\n",
    "- isAlive(): The isAlive() method is used to check if a thread is currently active or alive. It returns True if the thread is still executing and False if it has finished executing. This method helps determine the status of a thread, allowing you to take appropriate actions based on its state."
   ]
  },
  {
   "cell_type": "code",
   "execution_count": 7,
   "id": "23e6a4aa-afd7-4884-9c1b-845844794e16",
   "metadata": {},
   "outputs": [
    {
     "name": "stdout",
     "output_type": "stream",
     "text": [
      "Thread started\n",
      "Thread finished\n"
     ]
    },
    {
     "ename": "AttributeError",
     "evalue": "'Thread' object has no attribute 'isAlive'",
     "output_type": "error",
     "traceback": [
      "\u001b[1;31m---------------------------------------------------------------------------\u001b[0m",
      "\u001b[1;31mAttributeError\u001b[0m                            Traceback (most recent call last)",
      "Cell \u001b[1;32mIn[7], line 19\u001b[0m\n\u001b[0;32m     16\u001b[0m my_thread\u001b[38;5;241m.\u001b[39mjoin()\n\u001b[0;32m     18\u001b[0m \u001b[38;5;66;03m# Check if the thread is alive\u001b[39;00m\n\u001b[1;32m---> 19\u001b[0m \u001b[38;5;28mprint\u001b[39m(\u001b[43mmy_thread\u001b[49m\u001b[38;5;241;43m.\u001b[39;49m\u001b[43misAlive\u001b[49m())\n",
      "\u001b[1;31mAttributeError\u001b[0m: 'Thread' object has no attribute 'isAlive'"
     ]
    }
   ],
   "source": [
    "import threading\n",
    "import time\n",
    "\n",
    "def my_task():\n",
    "    print(\"Thread started\")\n",
    "    time.sleep(2)\n",
    "    print(\"Thread finished\")\n",
    "\n",
    "# Create a new thread\n",
    "my_thread = threading.Thread(target=my_task)\n",
    "\n",
    "# Start the thread\n",
    "my_thread.start()\n",
    "\n",
    "# Wait for the thread to complete\n",
    "my_thread.join()\n",
    "\n",
    "# Check if the thread is alive\n",
    "print(my_thread.isAlive())\n"
   ]
  },
  {
   "cell_type": "markdown",
   "id": "1a1bbfdd-4f90-4bdb-8c5a-ead4543542b2",
   "metadata": {},
   "source": [
    "# 4.  write a python program to create two threads. Thread one must print the list of squares and thread two must print the list of cubes."
   ]
  },
  {
   "cell_type": "code",
   "execution_count": 2,
   "id": "f43427c8-310b-4a42-82b5-f0a31ae27026",
   "metadata": {},
   "outputs": [
    {
     "name": "stdout",
     "output_type": "stream",
     "text": [
      "List of Squares: [1, 4, 9, 16, 25, 36, 49, 64, 81, 100]\n",
      "List of Cubes: [1, 8, 27, 64, 125, 216, 343, 512, 729, 1000]\n"
     ]
    }
   ],
   "source": [
    "import threading\n",
    "\n",
    "def print_squares():\n",
    "    squares = [x ** 2 for x in range(1, 11)]\n",
    "    print(\"List of Squares:\", squares)\n",
    "\n",
    "def print_cubes():\n",
    "    cubes = [x ** 3 for x in range(1, 11)]\n",
    "    print(\"List of Cubes:\", cubes)\n",
    "\n",
    "# Create the first thread for squares\n",
    "thread1 = threading.Thread(target=print_squares)\n",
    "\n",
    "# Create the second thread for cubes\n",
    "thread2 = threading.Thread(target=print_cubes)\n",
    "\n",
    "# Start both threads\n",
    "thread1.start()\n",
    "thread2.start()\n"
   ]
  },
  {
   "cell_type": "markdown",
   "id": "800ca2ab-0712-486e-a4e6-d44bbeec8853",
   "metadata": {},
   "source": [
    "# Q5. State advantages and disadvantages of multithreading."
   ]
  },
  {
   "cell_type": "markdown",
   "id": "b6a7cad1-9e46-449b-85c5-a516d6004800",
   "metadata": {},
   "source": [
    "# Advantages of Multithreading\n",
    "- Enhanced performance by decreased development time\n",
    "- Simplified and streamlined program coding\n",
    "- Improvised GUI responsiveness\n",
    "- Simultaneous and parallelized occurrence of tasks\n",
    "- Better use of cache storage by utilization of resources\n",
    "- Decreased cost of maintenance\n",
    "- Better use of CPU resource\n",
    "# Disadvantages of Multithreading\n",
    "- Complex debugging and testing processes\n",
    "- Overhead switching of context\n",
    "- Increased potential for deadlock occurrence\n",
    "- Increased difficulty level in writing a program\n",
    "- Unpredictable results"
   ]
  },
  {
   "cell_type": "markdown",
   "id": "bbda249d-611a-4f5d-90cf-0be7f3aaaacc",
   "metadata": {},
   "source": [
    "# Q6. Explain deadlocks and race conditions."
   ]
  },
  {
   "cell_type": "markdown",
   "id": "454b7051-d78f-4a25-9c0e-054059f9221b",
   "metadata": {},
   "source": [
    "- Deadlocks: A deadlock is a situation where two or more threads are blocked indefinitely, waiting for each other to release resources that they hold. In other words, it is a state where two or more threads are stuck and unable to proceed because they are waiting for resources that will never become available.\n",
    "\n",
    "- Race Conditions: A race condition occurs when two or more threads access shared data or resources concurrently, and the final outcome depends on the relative timing or interleaving of their execution. In other words, the correctness of the program depends on the order in which threads execute, leading to unpredictable or incorrect results."
   ]
  },
  {
   "cell_type": "code",
   "execution_count": null,
   "id": "9cf9b54f-aa47-4338-8e5c-ae457ad579d1",
   "metadata": {},
   "outputs": [],
   "source": []
  }
 ],
 "metadata": {
  "kernelspec": {
   "display_name": "Python 3 (ipykernel)",
   "language": "python",
   "name": "python3"
  },
  "language_info": {
   "codemirror_mode": {
    "name": "ipython",
    "version": 3
   },
   "file_extension": ".py",
   "mimetype": "text/x-python",
   "name": "python",
   "nbconvert_exporter": "python",
   "pygments_lexer": "ipython3",
   "version": "3.10.9"
  }
 },
 "nbformat": 4,
 "nbformat_minor": 5
}
