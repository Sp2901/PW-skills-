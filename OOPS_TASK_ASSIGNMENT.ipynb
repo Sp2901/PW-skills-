{
 "cells": [
  {
   "cell_type": "markdown",
   "id": "cd82e962-771a-452e-bac0-47ff6240123f",
   "metadata": {},
   "source": [
    "# Q1, Create a vehicle class with an init method having instance variables as name_of_vehicle, max_speed and average_of_vehicle. "
   ]
  },
  {
   "cell_type": "code",
   "execution_count": 5,
   "id": "a77fdca7-d627-4114-a220-f3976f202bd5",
   "metadata": {},
   "outputs": [],
   "source": [
    "class Vehicle:\n",
    "    def __init__(self, name_of_vehicle, max_speed, average_of_vehicle):\n",
    "        self.name_of_vehicle = name_of_vehicle\n",
    "        self.max_speed = max_speed\n",
    "        self.average_of_vehicle = average_of_vehicle\n",
    "\n",
    "    def return_studrnt_detials(self) :\n",
    "        return self.name_of_vehicle,self.max_speed,self.average_of_vehicle     "
   ]
  },
  {
   "cell_type": "code",
   "execution_count": 7,
   "id": "e88d92b2-747e-4982-ba42-60705d7b4c53",
   "metadata": {},
   "outputs": [],
   "source": [
    "Car = Vehicle('suzuki',120,80)"
   ]
  },
  {
   "cell_type": "code",
   "execution_count": 11,
   "id": "c60833c8-9892-4df8-8a35-3c0a38a932ee",
   "metadata": {},
   "outputs": [
    {
     "data": {
      "text/plain": [
       "'suzuki'"
      ]
     },
     "execution_count": 11,
     "metadata": {},
     "output_type": "execute_result"
    }
   ],
   "source": [
    "Car.name_of_vehicle"
   ]
  },
  {
   "cell_type": "markdown",
   "id": "fa78c216-ca44-47bc-97f9-95655a3ec2c7",
   "metadata": {},
   "source": [
    "# Q2.  Create a child class car from the vehicle class created in Que 1, which will inherit the vehicle class. Create a method named seating_capacity which takes capacity as an argument and returns the name of the vehicle and its seating capacity."
   ]
  },
  {
   "cell_type": "code",
   "execution_count": 24,
   "id": "76ffe14c-eed2-48d8-a555-48be1c8d1528",
   "metadata": {},
   "outputs": [
    {
     "name": "stdout",
     "output_type": "stream",
     "text": [
      "The Sedan has a seating capacity of 5 people.\n"
     ]
    }
   ],
   "source": [
    "class Vehicle:\n",
    "    def __init__(self, name_of_vehicle, max_speed, average_of_vehicle):\n",
    "        self.name_of_vehicle = name_of_vehicle\n",
    "        self.max_speed = max_speed\n",
    "        self.average_of_vehicle = average_of_vehicle\n",
    "\n",
    "class Car(Vehicle):\n",
    "    def seating_capacity(self, capacity):\n",
    "        return f\"The {self.name_of_vehicle} has a seating capacity of {capacity} people.\"\n",
    "\n",
    "# Creating an instance of Car class\n",
    "car = Car(\"Sedan\", 180, 12)\n",
    "\n",
    "# Calling the seating_capacity method\n",
    "print(car.seating_capacity(5))  # Output: The Sedan has a seating capacity of 5 people.\n"
   ]
  },
  {
   "cell_type": "markdown",
   "id": "f98788db-6737-4904-9104-dbb48db7dcf2",
   "metadata": {},
   "source": [
    "# Q3. What is multiple inheritance? Write a python code to demonstrate multiple inheritance."
   ]
  },
  {
   "cell_type": "code",
   "execution_count": 21,
   "id": "7009a7eb-fc33-4c57-8ff3-446d9da035ae",
   "metadata": {},
   "outputs": [
    {
     "name": "stdout",
     "output_type": "stream",
     "text": [
      "This is method 1 from Parent1\n",
      "This is method 2 from Parent2\n",
      "This is method 3 from Child\n"
     ]
    }
   ],
   "source": [
    "class Parent1:\n",
    "    def method1(self):\n",
    "        print(\"This is method 1 from Parent1\")\n",
    "\n",
    "class Parent2:\n",
    "    def method2(self):\n",
    "        print(\"This is method 2 from Parent2\")\n",
    "\n",
    "class Child(Parent1, Parent2):\n",
    "    def method3(self):\n",
    "        print(\"This is method 3 from Child\")\n",
    "\n",
    "# Creating an instance of Child class\n",
    "child = Child()\n",
    "\n",
    "# Accessing methods from both parent classes\n",
    "child.method1()\n",
    "child.method2()\n",
    "child.method3()\n"
   ]
  },
  {
   "cell_type": "markdown",
   "id": "20fdce6c-5f2a-4f83-a43f-5682ebae2d18",
   "metadata": {},
   "source": [
    "# Q4. What are getter and setter in python? Create a class and create a getter and a setter method in this class."
   ]
  },
  {
   "cell_type": "code",
   "execution_count": 22,
   "id": "d1bce2a9-d8a0-4df2-8139-037bfe75c1f7",
   "metadata": {},
   "outputs": [
    {
     "name": "stdout",
     "output_type": "stream",
     "text": [
      "John\n",
      "Jane\n",
      "25\n",
      "30\n"
     ]
    }
   ],
   "source": [
    "class Person:\n",
    "    def __init__(self, name, age):\n",
    "        self._name = name  # private attribute\n",
    "        self._age = age    # private attribute\n",
    "\n",
    "    def get_name(self):\n",
    "        return self._name\n",
    "\n",
    "    def set_name(self, name):\n",
    "        self._name = name\n",
    "\n",
    "    def get_age(self):\n",
    "        return self._age\n",
    "\n",
    "    def set_age(self, age):\n",
    "        self._age = age\n",
    "\n",
    "# Creating an instance of Person class\n",
    "person = Person(\"John\", 25)\n",
    "\n",
    "# Using getter and setter methods\n",
    "print(person.get_name())  # Output: John\n",
    "person.set_name(\"Jane\")\n",
    "print(person.get_name())  # Output: Jane\n",
    "\n",
    "print(person.get_age())   # Output: 25\n",
    "person.set_age(30)\n",
    "print(person.get_age())   # Output: 30\n"
   ]
  },
  {
   "cell_type": "markdown",
   "id": "2f05e919-8f91-4740-96f2-fbc7095ae01b",
   "metadata": {},
   "source": [
    "# Q5.What is method overriding in python? Write a python code to demonstrate method overriding."
   ]
  },
  {
   "cell_type": "code",
   "execution_count": 23,
   "id": "bcbd355b-f703-4068-9328-6145c4d0cf8b",
   "metadata": {},
   "outputs": [
    {
     "name": "stdout",
     "output_type": "stream",
     "text": [
      "Hello from the Child class\n"
     ]
    }
   ],
   "source": [
    "class Parent:\n",
    "    def greet(self):\n",
    "        print(\"Hello from the Parent class\")\n",
    "\n",
    "class Child(Parent):\n",
    "    def greet(self):\n",
    "        print(\"Hello from the Child class\")\n",
    "\n",
    "# Creating an instance of Child class\n",
    "child = Child()\n",
    "\n",
    "# Calling the overridden method\n",
    "child.greet()  # Output: Hello from the Child class\n"
   ]
  },
  {
   "cell_type": "code",
   "execution_count": null,
   "id": "b7c75864-cb5e-4275-a4c4-e66e948ef1c4",
   "metadata": {},
   "outputs": [],
   "source": []
  }
 ],
 "metadata": {
  "kernelspec": {
   "display_name": "Python 3 (ipykernel)",
   "language": "python",
   "name": "python3"
  },
  "language_info": {
   "codemirror_mode": {
    "name": "ipython",
    "version": 3
   },
   "file_extension": ".py",
   "mimetype": "text/x-python",
   "name": "python",
   "nbconvert_exporter": "python",
   "pygments_lexer": "ipython3",
   "version": "3.10.9"
  }
 },
 "nbformat": 4,
 "nbformat_minor": 5
}
