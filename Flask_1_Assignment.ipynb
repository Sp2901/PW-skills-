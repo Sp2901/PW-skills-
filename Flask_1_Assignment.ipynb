{
 "cells": [
  {
   "cell_type": "markdown",
   "id": "a7b10fa3-f825-42e7-91b1-b6fc471bccae",
   "metadata": {},
   "source": [
    "# Q1. What is Flask Framework? What are the advantages of Flask Framework?"
   ]
  },
  {
   "cell_type": "markdown",
   "id": "e482133e-6a83-4b4a-bd8e-b1150e14dd01",
   "metadata": {},
   "source": [
    "- Flask is a web framework that allows developers to build lightweight web applications quickly and easily with Flask Libraries. It was developed by Armin Ronacher, leader of the International Group of Python Enthusiasts(POCCO). It is basically based on the WSGI toolkit and Jinja2 templating engine.\n",
    "### Advantages of Flask:\n",
    "- Flask is a lightweight backend framework with minimal dependencies.\n",
    "- Flask is easy to learn because its simple and intuitive API makes it easy to learn and use for beginners.\n",
    "- Flask is a flexible Framework because it allows you to customize and extend the framework to suit your needs easily.\n",
    "- Flask can be used with any database like:- SQL and NoSQL and with any Frontend Technology such as React or Angular.\n",
    "- Flask is great for small to medium projects that do not require the complexity of a large framework. "
   ]
  },
  {
   "cell_type": "markdown",
   "id": "48291a04-8f3a-469b-8c29-3cea67ed42bd",
   "metadata": {},
   "source": [
    "# Q2. Create a simple Flask application to display ‘Hello World!!’. Attach the screenshot of the output in Jupyter Notebook."
   ]
  },
  {
   "cell_type": "code",
   "execution_count": null,
   "id": "0f4700cc-3493-4f6e-a2e9-367af148d65a",
   "metadata": {},
   "outputs": [],
   "source": [
    "# ! pip install flask"
   ]
  },
  {
   "cell_type": "code",
   "execution_count": null,
   "id": "1a8ce3b4-5b09-42d3-bb1c-8c5cb0b75162",
   "metadata": {},
   "outputs": [],
   "source": [
    "from flask import Flask\n",
    "\n",
    "app = Flask(__name__)\n",
    "\n",
    "\n",
    "@app.route('/')\n",
    "def hello():\n",
    "    return 'Hello, World!'"
   ]
  },
  {
   "cell_type": "markdown",
   "id": "b89f11bc-6aa7-4fbf-a416-28db450cffb1",
   "metadata": {},
   "source": [
    "# Q3. What is App routing in Flask? Why do we use app routes?"
   ]
  },
  {
   "cell_type": "markdown",
   "id": "a41a2fe6-025b-47ff-9bee-9009d4aff4b1",
   "metadata": {},
   "source": [
    "- App routing is the technique used to map the specific URL with the associated function intended to perform some task. The Latest Web frameworks use the routing technique to help users remember application URLs. It is helpful to access the desired page directly without navigating from the home page.\n",
    "\n",
    "- The URL (‘/’) is linked with the root URL in every application.  \n",
    "\n",
    "- Let’s say if our website domain is www.codingninjas.com and we want to add routing to “www.codingninjas.com/hello”, we will use “/hello”. \n",
    "\n",
    "- There are two ways through which we can bind the URLs to their associated function:-\n",
    "\n",
    " 1.) Using route() decorator\n",
    "\n",
    " 2.) Using add_url_rule() function\n",
    "\n",
    "- Using route() decorator:-\n",
    "\n",
    "- In the following example, we bind the URLs (“/”) and (“/hello”) with the root() and hello() functions, respectively, using the app.route() decorator."
   ]
  },
  {
   "cell_type": "markdown",
   "id": "51e81500-2e9a-476b-923a-c7de664f65ae",
   "metadata": {},
   "source": [
    "# Q4.  Create a “/welcome” route to display the welcome message “Welcome to ABC Corporation” and a “/” route to show the following details:\n",
    "\n",
    "    Company Name: ABC Corporation\n",
    "\n",
    "    Location: India\n",
    "\n",
    "    Contact Detail: 999-999-9999 \n"
   ]
  },
  {
   "cell_type": "code",
   "execution_count": null,
   "id": "c580b769-ad4f-4371-a321-2752ce038a89",
   "metadata": {},
   "outputs": [],
   "source": [
    "from flask import Flask\n",
    "\n",
    "app = Flask(__name__)\n",
    "\n",
    "@app.route('/welcome')\n",
    "def welcome():\n",
    "    return 'Welcome to ABC Corporation'\n",
    "\n",
    "@app.route('/')\n",
    "def company_details():\n",
    "    return '''\n",
    "    Company Name: ABC Corporation\n",
    "    Location: India\n",
    "    Contact Detail: 999-999-9999\n",
    "    '''\n",
    "\n",
    "if __name__ == '__main__':\n",
    "    app.run()\n"
   ]
  },
  {
   "cell_type": "markdown",
   "id": "d4460495-7fcd-4c92-82ef-05cb3337dd12",
   "metadata": {},
   "source": [
    "# Q5. What function is used in Flask for URL Building? Write a Python code to demonstrate the working of the url_for() function."
   ]
  },
  {
   "cell_type": "markdown",
   "id": "154697ec-efaf-4e03-ba47-254bbf2326db",
   "metadata": {},
   "source": [
    "- The url_for() function in Flask is used for URL building. It generates a URL for a specific endpoint based on its name and any arguments provided. This function is particularly useful when dealing with dynamic URLs and allows for easier maintenance if the URL structure changes.\n",
    "\n",
    "- Here's an example code to demonstrate the usage of url_for() function in Flask:"
   ]
  },
  {
   "cell_type": "code",
   "execution_count": 1,
   "id": "459ce090-797f-4c40-ab80-344394e25bad",
   "metadata": {},
   "outputs": [
    {
     "name": "stdout",
     "output_type": "stream",
     "text": [
      "/\n",
      "/user/John\n",
      "/post/123\n"
     ]
    }
   ],
   "source": [
    "from flask import Flask, url_for\n",
    "\n",
    "app = Flask(__name__)\n",
    "\n",
    "@app.route('/')\n",
    "def index():\n",
    "    return 'Home Page'\n",
    "\n",
    "@app.route('/user/<username>')\n",
    "def user_profile(username):\n",
    "    return f'Profile Page of {username}'\n",
    "\n",
    "@app.route('/post/<int:post_id>')\n",
    "def show_post(post_id):\n",
    "    return f'Post #{post_id}'\n",
    "\n",
    "if __name__ == '__main__':\n",
    "    with app.test_request_context():\n",
    "        print(url_for('index'))                   # Output: /\n",
    "        print(url_for('user_profile', username='John'))    # Output: /user/John\n",
    "        print(url_for('show_post', post_id=123))   # Output: /post/123\n"
   ]
  },
  {
   "cell_type": "code",
   "execution_count": null,
   "id": "238958a6-0f06-4eeb-a3b4-ffe248260bd8",
   "metadata": {},
   "outputs": [],
   "source": []
  }
 ],
 "metadata": {
  "kernelspec": {
   "display_name": "Python 3 (ipykernel)",
   "language": "python",
   "name": "python3"
  },
  "language_info": {
   "codemirror_mode": {
    "name": "ipython",
    "version": 3
   },
   "file_extension": ".py",
   "mimetype": "text/x-python",
   "name": "python",
   "nbconvert_exporter": "python",
   "pygments_lexer": "ipython3",
   "version": "3.10.9"
  }
 },
 "nbformat": 4,
 "nbformat_minor": 5
}
