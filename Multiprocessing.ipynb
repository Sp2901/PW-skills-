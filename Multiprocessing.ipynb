{
 "cells": [
  {
   "cell_type": "markdown",
   "id": "bb497c69-0e3d-401a-a77e-545f438799c2",
   "metadata": {},
   "source": [
    "# Q1. What is multiprocessing in python? Why is it useful?"
   ]
  },
  {
   "cell_type": "markdown",
   "id": "362a114c-711e-4101-9ef2-ff930efce763",
   "metadata": {},
   "source": [
    "- Multiprocessing refers to the ability of a system to support more than one processor at the same time. Applications in a multiprocessing system are broken to smaller routines that run independently. The operating system allocates these threads to the processors improving performance of the system.\n",
    "#### useful\n",
    "- Performing multiple operations for a single processor becomes challenging. As the number of processes keeps increasing, the processor will have to halt the current process and move to the next, to keep them going. Thus, it will have to interrupt each task, thereby hampering the performance.\n",
    "- Suppose there are different employees, each to perform a specific task. It becomes simpler, right? That’s why multiprocessing in Python becomes essential. The smaller task threads act like different employees, making it easier to handle and manage various processes. A multiprocessing system can be represented as:\n",
    "\n",
    "- A system with more than a single central processor\n",
    "- A multi-core processor, i.e., a single computing unit with multiple independent core processing units"
   ]
  },
  {
   "cell_type": "markdown",
   "id": "3842ed11-605d-4ff4-ad43-09ba7cf10bcf",
   "metadata": {},
   "source": [
    "# Q2. What are the differences between multiprocessing and multithreading?"
   ]
  },
  {
   "cell_type": "markdown",
   "id": "daa98e0c-d584-41ce-b7a5-cf417d85857c",
   "metadata": {},
   "source": [
    "#### Multiprocessing:\n",
    "- 1.Multiprocessing helps you to increase computing power.\n",
    "- 2.It allows you to execute multiple processes concurrently.\n",
    "- 3.In Multiprocessing, CPU has to switch between multiple programs so that it looks like that multiple programs are running simultaneously.\n",
    "- 4.The creation of a process is slow and resource-specific.\n",
    "- 5.Multiprocessing can be symmetric or asymmetric.\n",
    "- 6.Multiprocessing allocates separate memory and resources for each process or program.\n",
    "- 7.Multithreading avoids pickling.\n",
    "\n",
    "#### Multithreading:\n",
    "- 1.Multithreading helps you to create computing threads of a single process to increase computing power.\n",
    "- 2.Multiple threads of a single process are executed concurrently.\n",
    "- 3.In multithreading, CPU has to switch between multiple threads to make it appear that all threads are running simultaneously.\n",
    "- 4.The creation of a thread is economical in time and resource.\n",
    "- 5.Multithreading is not classified.\n",
    "- 6.Multithreading threads belonging to the same process share the same memory and resources as that of the process.\n",
    "- 7.Multiprocessing relies on pickling objects in memory to send to other processes."
   ]
  },
  {
   "cell_type": "markdown",
   "id": "f6bef54b-0092-45ba-a334-0270a8652df8",
   "metadata": {},
   "source": [
    "# Q3. Write a python code to create a process using the multiprocessing module"
   ]
  },
  {
   "cell_type": "code",
   "execution_count": 1,
   "id": "e048a452-8289-47f4-a4d8-7ee7441f1a6a",
   "metadata": {},
   "outputs": [
    {
     "name": "stdout",
     "output_type": "stream",
     "text": [
      "Main process executing\n"
     ]
    }
   ],
   "source": [
    "import multiprocessing\n",
    "\n",
    "def process_function():\n",
    "    # Code to be executed in the child process\n",
    "    print(\"Child process executing\")\n",
    "\n",
    "if __name__ == '__main__':\n",
    "    # Create a Process object\n",
    "    process = multiprocessing.Process(target=process_function)\n",
    "\n",
    "    # Start the process\n",
    "    process.start()\n",
    "\n",
    "    # Wait for the process to finish\n",
    "    process.join()\n",
    "\n",
    "    # Code after the process has finished\n",
    "    print(\"Main process executing\")\n"
   ]
  },
  {
   "cell_type": "markdown",
   "id": "05b84e4e-43cd-450a-bdfd-4890c5b5a69c",
   "metadata": {},
   "source": [
    "# Q4. What is a multiprocessing pool in python? Why is it used?"
   ]
  },
  {
   "cell_type": "markdown",
   "id": "508b3868-5ec7-4645-88d5-9933b3d17acf",
   "metadata": {},
   "source": [
    "- In Python, a multiprocessing pool refers to a collection of worker processes that are managed by the `multiprocessing.Pool` class. The pool provides a convenient way to distribute tasks across multiple processes and efficiently utilize the available CPU cores.\n",
    "\n",
    "- The `multiprocessing.Pool` class provides several methods for parallel execution of tasks, such as `map()`, `imap()`, `map_async()`, and `apply_async()`. These methods divide the input data or tasks into smaller chunks and distribute them among the worker processes in the pool. The worker processes then execute the provided function on their assigned chunks independently and in parallel.\n",
    "\n",
    "#### Here are some key reasons why the multiprocessing pool is used:\n",
    "\n",
    "1. Parallel Execution: The pool allows you to parallelize the execution of tasks, taking advantage of multiple CPU cores and speeding up the processing of a large amount of data or computationally intensive tasks. By distributing the workload among multiple processes, you can significantly reduce the overall execution time.\n",
    "\n",
    "2. Simplified Interface: The `multiprocessing.Pool` class provides a simple and high-level interface for parallel processing. It abstracts away the complexity of managing individual processes and communication between them. You can focus on defining the task function and let the pool handle the process management details.\n",
    "\n",
    "3. Resource Management: The pool manages the creation, allocation, and reuse of worker processes, reducing the overhead of process creation for each task. The worker processes are kept alive in the pool, allowing them to be reused for subsequent tasks. This helps to improve performance by avoiding the overhead of creating and tearing down processes repeatedly.\n",
    "\n",
    "4. Result Retrieval: The pool methods provide convenient ways to retrieve the results of the executed tasks. Depending on the method used (e.g., `map()`, `imap()`), the results are returned as a list, iterator, or in an asynchronous manner. This makes it easy to collect and process the output from parallel tasks.\n",
    "\n"
   ]
  },
  {
   "cell_type": "markdown",
   "id": "e18602f3-9a83-411b-80e0-0e1029ad97d0",
   "metadata": {},
   "source": [
    "# Q5. How can we create a pool of worker processes in python using the multiprocessing module?"
   ]
  },
  {
   "cell_type": "code",
   "execution_count": null,
   "id": "1b8d1768-ce95-459e-9791-c6848e8ae8de",
   "metadata": {},
   "outputs": [],
   "source": [
    "import multiprocessing\n",
    "\n",
    "def process_function(x):\n",
    "    # Code to be executed by each worker process\n",
    "    result = x * x\n",
    "    return result\n",
    "\n",
    "if __name__ == '__main__':\n",
    "    # Create a pool of worker processes with 4 processes\n",
    "    pool = multiprocessing.Pool(processes=4)\n",
    "\n",
    "    # Define the input data for the tasks\n",
    "    input_data = [1, 2, 3, 4, 5]\n",
    "\n",
    "    # Apply the process_function to the input data using the pool\n",
    "    results = pool.map(process_function, input_data)\n",
    "\n",
    "    # Close the pool to indicate that no more tasks will be submitted\n",
    "    pool.close()\n",
    "\n",
    "    # Wait for all the worker processes to finish\n",
    "    pool.join()\n",
    "\n",
    "    # Print the results\n",
    "    print(results)\n"
   ]
  },
  {
   "cell_type": "markdown",
   "id": "35046d58-8ac7-44c3-b68f-4f836a00d9c1",
   "metadata": {},
   "source": [
    "# Q6. Write a python program to create 4 processes, each process should print a different number using the multiprocessing module in python."
   ]
  },
  {
   "cell_type": "code",
   "execution_count": null,
   "id": "d462ba00-e9dd-44be-a625-93663d7f3002",
   "metadata": {},
   "outputs": [],
   "source": [
    "import multiprocessing\n",
    "\n",
    "def print_number(num):\n",
    "    # Code to be executed by each process\n",
    "    print(\"Process\", multiprocessing.current_process().name, \"prints\", num)\n",
    "\n",
    "if __name__ == '__main__':\n",
    "    processes = []\n",
    "    for i in range(4):\n",
    "        # Create a Process object for each process\n",
    "        process = multiprocessing.Process(target=print_number, args=(i,))\n",
    "        processes.append(process)\n",
    "\n",
    "    # Start all the processes\n",
    "    for process in processes:\n",
    "        process.start()\n",
    "\n",
    "    # Wait for all the processes to finish\n",
    "    for process in processes:\n",
    "        process.join()\n",
    "\n",
    "    # Code after all processes have finished\n",
    "    print(\"All processes have completed\")\n"
   ]
  },
  {
   "cell_type": "code",
   "execution_count": null,
   "id": "7c33e95d-c193-40af-9fbd-58a9d43d1d71",
   "metadata": {},
   "outputs": [],
   "source": []
  }
 ],
 "metadata": {
  "kernelspec": {
   "display_name": "Python 3 (ipykernel)",
   "language": "python",
   "name": "python3"
  },
  "language_info": {
   "codemirror_mode": {
    "name": "ipython",
    "version": 3
   },
   "file_extension": ".py",
   "mimetype": "text/x-python",
   "name": "python",
   "nbconvert_exporter": "python",
   "pygments_lexer": "ipython3",
   "version": "3.10.9"
  }
 },
 "nbformat": 4,
 "nbformat_minor": 5
}
