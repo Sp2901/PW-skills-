{
 "cells": [
  {
   "cell_type": "markdown",
   "id": "f035b77e-fbe4-4185-ae61-4867ee322aa6",
   "metadata": {},
   "source": [
    "# Q1. What is the Probability density function?"
   ]
  },
  {
   "cell_type": "markdown",
   "id": "f0c13e1d-57f1-46dd-8dbc-cc1e0750a03f",
   "metadata": {},
   "source": [
    "- In probability theory and statistics, the Probability Density Function (PDF) is a function that describes the likelihood of a continuous random variable taking on a specific value. The PDF represents the probability of the random variable falling within a particular range of values. For continuous random variables, the probability of the variable taking any specific value is zero, but the probability of it falling within a range is not necessarily zero.\n",
    "\n",
    "- Mathematically, the probability density function is denoted as f(x) and satisfies the following properties:\n",
    "\n",
    "- The value of the PDF at any point x is non-negative: f(x) ≥ 0 for all x.\n",
    "- The area under the curve of the PDF over the entire range of possible values is equal to 1: ∫ f(x) dx = 1, where the integral is taken over the entire range of x."
   ]
  },
  {
   "cell_type": "markdown",
   "id": "13124e1c-deb3-4804-ba71-715e2727a624",
   "metadata": {},
   "source": [
    "# Q2. What are the types of Probability distribution?"
   ]
  },
  {
   "cell_type": "markdown",
   "id": "0e19ec1f-8ad9-4e77-82c3-714887df1d75",
   "metadata": {},
   "source": [
    "1. Normal Distribution (Gaussian Distribution)\n",
    "2. Binomial Distribution\n",
    "3. Poisson Distribution\n",
    "4. Exponential Distribution\n",
    "5. Uniform Distribution\n",
    "6. Chi-Squared Distribution\n",
    "7. Student's t-Distribution\n",
    "8. Gamma Distribution\n",
    "9. Log-Normal Distribution\n",
    "10. Beta Distribution"
   ]
  },
  {
   "cell_type": "markdown",
   "id": "de542024-e40d-48f1-ad9b-c8144233c543",
   "metadata": {},
   "source": [
    "# Q3. Write a Python function to calculate the probability density function of a normal distribution with given mean and standard deviation at a given point."
   ]
  },
  {
   "cell_type": "code",
   "execution_count": 4,
   "id": "9a71ebf8-be8b-49af-9c97-7c087d3ef856",
   "metadata": {},
   "outputs": [
    {
     "name": "stdout",
     "output_type": "stream",
     "text": [
      "The probability density function at x=6.0 is: 0.2129653370149015\n"
     ]
    }
   ],
   "source": [
    "from scipy.stats import norm\n",
    "\n",
    "def normal_pdf(x, mean, std_dev):\n",
    "    \"\"\"\n",
    "    Calculate the probability density function (PDF) of a normal distribution.\n",
    "\n",
    "    Parameters:\n",
    "        x (float): The point at which to evaluate the PDF.\n",
    "        mean (float): Mean (μ) of the normal distribution.\n",
    "        std_dev (float): Standard deviation (σ) of the normal distribution.\n",
    "\n",
    "    Returns:\n",
    "        float: The value of the PDF at the given point.\n",
    "    \"\"\"\n",
    "    return norm.pdf(x, loc=mean, scale=std_dev)\n",
    "\n",
    "mean_value = 5.0\n",
    "std_deviation = 1.5\n",
    "point = 6.0\n",
    "\n",
    "pdf_value = normal_pdf(point, mean_value, std_deviation)\n",
    "print(f\"The probability density function at x={point} is: {pdf_value}\")\n"
   ]
  },
  {
   "cell_type": "markdown",
   "id": "79717b02-d7b5-45c0-99ea-4bc34e8e4fa6",
   "metadata": {},
   "source": [
    "# Q4. What are the properties of Binomial distribution? Give two examples of events where binomial distribution can be applied.\n"
   ]
  },
  {
   "cell_type": "markdown",
   "id": "4e31fef7-3832-4b78-b7de-80bf03c7299e",
   "metadata": {},
   "source": [
    "1. Fixed Number of Trials: The number of trials (n) is fixed in advance.\n",
    "\n",
    "2. Independent Trials: Each trial is independent of the others, meaning the outcome of one trial does not affect the outcome of another.\n",
    "\n",
    "3. Two Outcomes: Each trial has only two possible outcomes, typically labeled as \"success\" and \"failure.\"\n",
    "\n",
    "4. Constant Probability of Success: The probability of success (p) remains constant for each trial.\n",
    "\n",
    "5. Discrete: The binomial distribution is a discrete distribution, meaning it deals with whole numbers.\n",
    "\n",
    "### Examples of Events Where Binomial Distribution Can Be Applied:\n",
    "\n",
    "1. Coin Flips: Consider flipping a fair coin multiple times. Each flip can be considered a Bernoulli trial, with \"heads\" as success and \"tails\" as failure. The number of heads obtained after a fixed number of flips follows a binomial distribution.\n",
    "\n",
    "2. Product Defects: Suppose a factory produces electronic components, and each component has a probability of being defective. The number of defective components in a randomly selected batch of components can be modeled using a binomial distribution."
   ]
  },
  {
   "cell_type": "markdown",
   "id": "50a391c4-d213-4e07-a9b1-b755dffdd3b3",
   "metadata": {},
   "source": [
    "# Q5. Generate a random sample of size 1000 from a binomial distribution with probability of success 0.4 and plot a histogram of the results using matplotlib."
   ]
  },
  {
   "cell_type": "code",
   "execution_count": 3,
   "id": "76610892-658a-4237-8467-8f4a07e57906",
   "metadata": {},
   "outputs": [
    {
     "data": {
      "image/png": "[encoded data removed]",
      "text/plain": [
       "<Figure size 640x480 with 1 Axes>"
      ]
     },
     "metadata": {},
     "output_type": "display_data"
    }
   ],
   "source": [
    "import numpy as np\n",
    "import matplotlib.pyplot as plt\n",
    "\n",
    "# Parameters for the binomial distribution\n",
    "sample_size = 1000\n",
    "probability_success = 0.4\n",
    "\n",
    "# Generate a random sample from the binomial distribution\n",
    "random_sample = np.random.binomial(n=1, p=probability_success, size=sample_size)\n",
    "\n",
    "# Plot a histogram of the results\n",
    "plt.hist(random_sample, bins=2, rwidth=0.8, align='left')\n",
    "plt.xticks([0, 1], ['Failure', 'Success'])\n",
    "plt.xlabel('Outcome')\n",
    "plt.ylabel('Frequency')\n",
    "plt.title('Histogram of Binomial Distribution')\n",
    "plt.show()\n"
   ]
  },
  {
   "cell_type": "markdown",
   "id": "fe4575cd-221a-4cbf-a743-859e25cffcac",
   "metadata": {},
   "source": [
    "# Q6. Write a Python function to calculate the cumulative distribution function of a Poisson distribution with given mean at a given point."
   ]
  },
  {
   "cell_type": "code",
   "execution_count": 6,
   "id": "f4281f3c-453b-4d56-ac64-5128231e0f2d",
   "metadata": {},
   "outputs": [
    {
     "name": "stdout",
     "output_type": "stream",
     "text": [
      "The cumulative distribution function at x=2 is: 0.42319008112684364\n"
     ]
    }
   ],
   "source": [
    "from scipy.stats import poisson\n",
    "\n",
    "def poisson_cdf(x, mean):\n",
    "    \"\"\"\n",
    "    Calculate the cumulative distribution function (CDF) of a Poisson distribution.\n",
    "\n",
    "    Parameters:\n",
    "        x (int): The point at which to evaluate the CDF.\n",
    "        mean (float): Mean (λ) of the Poisson distribution.\n",
    "\n",
    "    Returns:\n",
    "        float: The value of the CDF at the given point.\n",
    "    \"\"\"\n",
    "    return poisson.cdf(x, mu=mean)\n",
    "\n",
    "mean_value = 3.0\n",
    "point = 2\n",
    "\n",
    "cdf_value = poisson_cdf(point, mean_value)\n",
    "print(f\"The cumulative distribution function at x={point} is: {cdf_value}\")\n"
   ]
  },
  {
   "cell_type": "markdown",
   "id": "3d52d43d-d5bc-47ad-9efd-81eb495eeb97",
   "metadata": {},
   "source": [
    "# Q7. How Binomial distribution different from Poisson distribution?"
   ]
  },
  {
   "cell_type": "markdown",
   "id": "77fc4354-81ba-4e44-a691-97c3902cb696",
   "metadata": {},
   "source": [
    "### Nature of Trials:\n",
    "\n",
    "- Binomial Distribution: It deals with a fixed number of independent Bernoulli trials, where each trial has two possible outcomes (success or failure).\n",
    "- Poisson Distribution: It models the number of events that occur in a fixed interval of time or space, given the average rate of occurrence over that interval.\n",
    "### Number of Trials:\n",
    "\n",
    "- Binomial Distribution: Requires a fixed number of trials (n) to be specified in advance.\n",
    "- Poisson Distribution: Does not require a fixed number of trials; it is suitable for rare events over a large number of trials (infinite or very large).\n",
    "### Probability of Success:\n",
    "\n",
    "- Binomial Distribution: Assumes a constant probability of success (p) for each trial.\n",
    "- Poisson Distribution: No need to specify a probability of success since it deals with the number of occurrences within a fixed interval.\n",
    "### Discreteness:\n",
    "\n",
    "- Binomial Distribution: Discrete probability distribution, applicable for counting discrete events.\n",
    "- Poisson Distribution: Also a discrete probability distribution."
   ]
  },
  {
   "cell_type": "markdown",
   "id": "c949cfff-c8d5-4874-a0b8-30910bf5d5ec",
   "metadata": {},
   "source": [
    "# Q8. Generate a random sample of size 1000 from a Poisson distribution with mean 5 and calculate the sample mean and variance."
   ]
  },
  {
   "cell_type": "code",
   "execution_count": 7,
   "id": "f7bf5935-1357-44e2-96a6-543b660808b8",
   "metadata": {},
   "outputs": [
    {
     "name": "stdout",
     "output_type": "stream",
     "text": [
      "Sample Mean: 5.053\n",
      "Sample Variance: 4.860190999999999\n"
     ]
    }
   ],
   "source": [
    "import numpy as np\n",
    "\n",
    "# Parameters for the Poisson distribution\n",
    "sample_size = 1000\n",
    "mean_value = 5\n",
    "\n",
    "# Generate a random sample from the Poisson distribution\n",
    "random_sample = np.random.poisson(mean_value, size=sample_size)\n",
    "\n",
    "# Calculate the sample mean and variance\n",
    "sample_mean = np.mean(random_sample)\n",
    "sample_variance = np.var(random_sample)\n",
    "\n",
    "print(f\"Sample Mean: {sample_mean}\")\n",
    "print(f\"Sample Variance: {sample_variance}\")\n"
   ]
  },
  {
   "cell_type": "markdown",
   "id": "54359d6f-099a-45e7-bb0e-0df98544aa56",
   "metadata": {},
   "source": [
    "# Q9. How mean and variance are related in Binomial distribution and Poisson distribution?"
   ]
  },
  {
   "cell_type": "markdown",
   "id": "2d02bcad-e687-45cc-8d2a-f7696635e5c5",
   "metadata": {},
   "source": [
    "### Binomial Distribution:\n",
    "\n",
    "- Mean (μ) = n * p, where n is the number of trials and p is the probability of success in each trial.\n",
    "- Variance (σ^2) = n * p * (1 - p)\n",
    "- Poisson Distribution:\n",
    "\n",
    "- Mean (μ) = λ, where λ is the average rate of events occurring in a fixed interval of time or space.\n",
    "- Variance (σ^2) = λ\n",
    "- In both cases, the variance is a function of the mean. However, in the Poisson distribution, the mean and variance are always equal (σ^2 = λ), while in the Binomial distribution, the variance depends on both the number of trials and the probability of success."
   ]
  },
  {
   "cell_type": "markdown",
   "id": "4d5bf856-36c0-4893-97de-627e463770a5",
   "metadata": {},
   "source": [
    "# Q10. In normal distribution with respect to mean position, where does the least frequent data appear?"
   ]
  },
  {
   "cell_type": "markdown",
   "id": "20e1ca98-7eb7-4d9c-9443-98cdca90cc7a",
   "metadata": {},
   "source": [
    "### Least frequent data in a Normal Distribution with respect to mean position:\n",
    "In a normal distribution, the data is symmetric around the mean, and the probability density decreases as we move away from the mean in either direction. The least frequent data points are the ones that are farthest from the mean.\n",
    "\n",
    "Specifically, the data points that appear in the tails of the normal distribution (i.e., the extreme values) are the least frequent. These extreme values are located at a considerable distance from the mean, in the regions corresponding to the tails of the distribution.\n",
    "\n",
    "In a standard normal distribution (mean = 0 and standard deviation = 1), the least frequent data points are found in the tails of the distribution, one in the left tail (negative values) and the other in the right tail (positive values). The probabilities of observing data points in these extreme regions are relatively low compared to the central region near the mean."
   ]
  },
  {
   "cell_type": "code",
   "execution_count": null,
   "id": "1d0b061b-da35-4f1d-8696-66760efa62a5",
   "metadata": {},
   "outputs": [],
   "source": []
  }
 ],
 "metadata": {
  "kernelspec": {
   "display_name": "Python 3 (ipykernel)",
   "language": "python",
   "name": "python3"
  },
  "language_info": {
   "codemirror_mode": {
    "name": "ipython",
    "version": 3
   },
   "file_extension": ".py",
   "mimetype": "text/x-python",
   "name": "python",
   "nbconvert_exporter": "python",
   "pygments_lexer": "ipython3",
   "version": "3.10.9"
  }
 },
 "nbformat": 4,
 "nbformat_minor": 5
}
