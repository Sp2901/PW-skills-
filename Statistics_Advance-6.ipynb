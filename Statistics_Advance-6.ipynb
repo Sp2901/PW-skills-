{
 "cells": [
  {
   "cell_type": "markdown",
   "id": "e7939210-89c1-440e-a881-5b64b544effe",
   "metadata": {},
   "source": [
    "# Q1. Explain the assumptions required to use ANOVA and provide examples of violations that could impact the validity of the results."
   ]
  },
  {
   "cell_type": "markdown",
   "id": "4e5ad8f1-c790-400f-8271-e32945f2f652",
   "metadata": {},
   "source": [
    "### Assumptions for using ANOVA (Analysis of Variance) include:\n",
    "\n",
    "Independence: The data points should be independent of each other. Violation example: Repeated measures on the same subject without accounting for the correlation.\n",
    "\n",
    "Normality: The dependent variable should follow a normal distribution within each group. Violation example: The data is heavily skewed or has heavy tails.\n",
    "\n",
    "Homogeneity of Variance: The variances of the dependent variable should be equal across groups. Violation example: One group has significantly larger variance than the others.\n",
    "\n",
    "Random Sampling: The data should be collected through random sampling from the population of interest.\n",
    "\n",
    "Interval or Ratio Scale: The dependent variable should be measured on an interval or ratio scale.\n",
    "\n",
    "Violations of these assumptions can impact the validity of ANOVA results, leading to inaccurate conclusions or decreased statistical power. For example, if the data is not normally distributed or the variance is not homogeneous, the ANOVA results may be unreliable. In such cases, it might be necessary to use non-parametric alternatives or transform the data to meet the assumptions."
   ]
  },
  {
   "cell_type": "markdown",
   "id": "e85aa774-8ea5-4404-9b6b-f166ac9398b0",
   "metadata": {},
   "source": [
    "# Q2. What are the three types of ANOVA, and in what situations would each be used?"
   ]
  },
  {
   "cell_type": "markdown",
   "id": "509ae39f-8412-4fce-8f40-447164a8d816",
   "metadata": {},
   "source": [
    "- One-Way ANOVA: Used when there is one categorical independent variable (factor) with two or more levels (groups). It tests for differences in means across the groups.\n",
    "\n",
    "- Two-Way ANOVA: Used when there are two categorical independent variables (factors) and their interactions. It tests for main effects of each factor and the interaction effect between the factors.\n",
    "\n",
    "- N-Way ANOVA: Generalization of ANOVA to more than two independent variables."
   ]
  },
  {
   "cell_type": "markdown",
   "id": "da1c8c1a-2cd7-43d3-a4d7-2c64e6275ad1",
   "metadata": {},
   "source": [
    "# Q3. What is the partitioning of variance in ANOVA, and why is it important to understand this concept?"
   ]
  },
  {
   "cell_type": "markdown",
   "id": "b22c94e4-7e9c-4a33-ac5f-57b05b1dc0aa",
   "metadata": {},
   "source": [
    "- Partitioning of variance in ANOVA refers to the decomposition of the total variance in the dependent variable into different sources, such as between-group variance and within-group variance.\n",
    "\n",
    "### In one-way ANOVA, the total variance (SST) is partitioned into:\n",
    "\n",
    "- Explained variance (SSE): Variation attributed to the differences between the group means.\n",
    "- Residual variance (SSR): Variation not accounted for by the group means, also known as the error or within-group variance.\n",
    "- Understanding this concept is crucial because it helps identify how much of the total variance is due to the effect of the independent variable (group means) and how much is due to random variation (error). It allows us to determine the proportion of variance explained by the model and evaluate the statistical significance of the effects."
   ]
  },
  {
   "cell_type": "markdown",
   "id": "06df2a35-710c-466c-9649-f392e6cf1f49",
   "metadata": {},
   "source": [
    "# Q4. How would you calculate the total sum of squares (SST), explained sum of squares (SSE), and residual sum of squares (SSR) in a one-way ANOVA using Python?"
   ]
  },
  {
   "cell_type": "code",
   "execution_count": 1,
   "id": "88bc8646-3509-444e-ae38-2cc291d914de",
   "metadata": {},
   "outputs": [
    {
     "name": "stdout",
     "output_type": "stream",
     "text": [
      "Total Sum of Squares (SST): 860.0\n",
      "Explained Sum of Squares (SSE): 60.0\n",
      "Residual Sum of Squares (SSR): 800.0\n"
     ]
    }
   ],
   "source": [
    "import numpy as np\n",
    "import scipy.stats as stats\n",
    "\n",
    "# Sample data for groups\n",
    "group1 = np.array([10, 12, 14, 16])\n",
    "group2 = np.array([20, 22, 24, 26])\n",
    "group3 = np.array([30, 32, 34, 36])\n",
    "\n",
    "# Combine data from all groups\n",
    "all_data = np.concatenate((group1, group2, group3))\n",
    "\n",
    "# Calculate the overall mean\n",
    "overall_mean = np.mean(all_data)\n",
    "\n",
    "# Calculate SST\n",
    "SST = np.sum((all_data - overall_mean) ** 2)\n",
    "\n",
    "# Calculate SSE\n",
    "SSE = np.sum((group1 - np.mean(group1)) ** 2) + np.sum((group2 - np.mean(group2)) ** 2) + np.sum((group3 - np.mean(group3)) ** 2)\n",
    "\n",
    "# Calculate SSR\n",
    "SSR = SST - SSE\n",
    "\n",
    "print(\"Total Sum of Squares (SST):\", SST)\n",
    "print(\"Explained Sum of Squares (SSE):\", SSE)\n",
    "print(\"Residual Sum of Squares (SSR):\", SSR)\n"
   ]
  },
  {
   "cell_type": "markdown",
   "id": "80a66b13-f69f-4afa-8a37-9fa1f4f8ab80",
   "metadata": {},
   "source": [
    "# Q5. In a two-way ANOVA, how would you calculate the main effects and interaction effects using Python?"
   ]
  },
  {
   "cell_type": "code",
   "execution_count": 4,
   "id": "3ec4bf46-0c5c-4597-b158-aedfc7f77322",
   "metadata": {},
   "outputs": [
    {
     "ename": "KeyError",
     "evalue": "'Factor2'",
     "output_type": "error",
     "traceback": [
      "\u001b[1;31m---------------------------------------------------------------------------\u001b[0m",
      "\u001b[1;31mKeyError\u001b[0m                                  Traceback (most recent call last)",
      "File \u001b[1;32m~\\anaconda3\\lib\\site-packages\\pandas\\core\\indexes\\base.py:3802\u001b[0m, in \u001b[0;36mIndex.get_loc\u001b[1;34m(self, key, method, tolerance)\u001b[0m\n\u001b[0;32m   3801\u001b[0m \u001b[38;5;28;01mtry\u001b[39;00m:\n\u001b[1;32m-> 3802\u001b[0m     \u001b[38;5;28;01mreturn\u001b[39;00m \u001b[38;5;28;43mself\u001b[39;49m\u001b[38;5;241;43m.\u001b[39;49m\u001b[43m_engine\u001b[49m\u001b[38;5;241;43m.\u001b[39;49m\u001b[43mget_loc\u001b[49m\u001b[43m(\u001b[49m\u001b[43mcasted_key\u001b[49m\u001b[43m)\u001b[49m\n\u001b[0;32m   3803\u001b[0m \u001b[38;5;28;01mexcept\u001b[39;00m \u001b[38;5;167;01mKeyError\u001b[39;00m \u001b[38;5;28;01mas\u001b[39;00m err:\n",
      "File \u001b[1;32m~\\anaconda3\\lib\\site-packages\\pandas\\_libs\\index.pyx:138\u001b[0m, in \u001b[0;36mpandas._libs.index.IndexEngine.get_loc\u001b[1;34m()\u001b[0m\n",
      "File \u001b[1;32m~\\anaconda3\\lib\\site-packages\\pandas\\_libs\\index.pyx:165\u001b[0m, in \u001b[0;36mpandas._libs.index.IndexEngine.get_loc\u001b[1;34m()\u001b[0m\n",
      "File \u001b[1;32mpandas\\_libs\\hashtable_class_helper.pxi:5745\u001b[0m, in \u001b[0;36mpandas._libs.hashtable.PyObjectHashTable.get_item\u001b[1;34m()\u001b[0m\n",
      "File \u001b[1;32mpandas\\_libs\\hashtable_class_helper.pxi:5753\u001b[0m, in \u001b[0;36mpandas._libs.hashtable.PyObjectHashTable.get_item\u001b[1;34m()\u001b[0m\n",
      "\u001b[1;31mKeyError\u001b[0m: 'Factor2'",
      "\nThe above exception was the direct cause of the following exception:\n",
      "\u001b[1;31mKeyError\u001b[0m                                  Traceback (most recent call last)",
      "Cell \u001b[1;32mIn[4], line 13\u001b[0m\n\u001b[0;32m      9\u001b[0m df \u001b[38;5;241m=\u001b[39m pd\u001b[38;5;241m.\u001b[39mDataFrame(data)\n\u001b[0;32m     11\u001b[0m model \u001b[38;5;241m=\u001b[39m ols(\u001b[38;5;124m'\u001b[39m\u001b[38;5;124mResponse ~ Factor1 + Factor2 + Factor1:Factor2\u001b[39m\u001b[38;5;124m'\u001b[39m, data\u001b[38;5;241m=\u001b[39mdf)\u001b[38;5;241m.\u001b[39mfit()\n\u001b[1;32m---> 13\u001b[0m main_effects \u001b[38;5;241m=\u001b[39m model\u001b[38;5;241m.\u001b[39mparams[\u001b[38;5;124m'\u001b[39m\u001b[38;5;124mFactor1\u001b[39m\u001b[38;5;124m'\u001b[39m], \u001b[43mmodel\u001b[49m\u001b[38;5;241;43m.\u001b[39;49m\u001b[43mparams\u001b[49m\u001b[43m[\u001b[49m\u001b[38;5;124;43m'\u001b[39;49m\u001b[38;5;124;43mFactor2\u001b[39;49m\u001b[38;5;124;43m'\u001b[39;49m\u001b[43m]\u001b[49m\n\u001b[0;32m     14\u001b[0m interaction_effect \u001b[38;5;241m=\u001b[39m model\u001b[38;5;241m.\u001b[39mparams[\u001b[38;5;124m'\u001b[39m\u001b[38;5;124mFactor1:Factor2\u001b[39m\u001b[38;5;124m'\u001b[39m]\n\u001b[0;32m     16\u001b[0m \u001b[38;5;28mprint\u001b[39m(\u001b[38;5;124m\"\u001b[39m\u001b[38;5;124mMain Effects:\u001b[39m\u001b[38;5;124m\"\u001b[39m, main_effects)\n",
      "File \u001b[1;32m~\\anaconda3\\lib\\site-packages\\pandas\\core\\series.py:981\u001b[0m, in \u001b[0;36mSeries.__getitem__\u001b[1;34m(self, key)\u001b[0m\n\u001b[0;32m    978\u001b[0m     \u001b[38;5;28;01mreturn\u001b[39;00m \u001b[38;5;28mself\u001b[39m\u001b[38;5;241m.\u001b[39m_values[key]\n\u001b[0;32m    980\u001b[0m \u001b[38;5;28;01melif\u001b[39;00m key_is_scalar:\n\u001b[1;32m--> 981\u001b[0m     \u001b[38;5;28;01mreturn\u001b[39;00m \u001b[38;5;28;43mself\u001b[39;49m\u001b[38;5;241;43m.\u001b[39;49m\u001b[43m_get_value\u001b[49m\u001b[43m(\u001b[49m\u001b[43mkey\u001b[49m\u001b[43m)\u001b[49m\n\u001b[0;32m    983\u001b[0m \u001b[38;5;28;01mif\u001b[39;00m is_hashable(key):\n\u001b[0;32m    984\u001b[0m     \u001b[38;5;66;03m# Otherwise index.get_value will raise InvalidIndexError\u001b[39;00m\n\u001b[0;32m    985\u001b[0m     \u001b[38;5;28;01mtry\u001b[39;00m:\n\u001b[0;32m    986\u001b[0m         \u001b[38;5;66;03m# For labels that don't resolve as scalars like tuples and frozensets\u001b[39;00m\n",
      "File \u001b[1;32m~\\anaconda3\\lib\\site-packages\\pandas\\core\\series.py:1089\u001b[0m, in \u001b[0;36mSeries._get_value\u001b[1;34m(self, label, takeable)\u001b[0m\n\u001b[0;32m   1086\u001b[0m     \u001b[38;5;28;01mreturn\u001b[39;00m \u001b[38;5;28mself\u001b[39m\u001b[38;5;241m.\u001b[39m_values[label]\n\u001b[0;32m   1088\u001b[0m \u001b[38;5;66;03m# Similar to Index.get_value, but we do not fall back to positional\u001b[39;00m\n\u001b[1;32m-> 1089\u001b[0m loc \u001b[38;5;241m=\u001b[39m \u001b[38;5;28;43mself\u001b[39;49m\u001b[38;5;241;43m.\u001b[39;49m\u001b[43mindex\u001b[49m\u001b[38;5;241;43m.\u001b[39;49m\u001b[43mget_loc\u001b[49m\u001b[43m(\u001b[49m\u001b[43mlabel\u001b[49m\u001b[43m)\u001b[49m\n\u001b[0;32m   1090\u001b[0m \u001b[38;5;28;01mreturn\u001b[39;00m \u001b[38;5;28mself\u001b[39m\u001b[38;5;241m.\u001b[39mindex\u001b[38;5;241m.\u001b[39m_get_values_for_loc(\u001b[38;5;28mself\u001b[39m, loc, label)\n",
      "File \u001b[1;32m~\\anaconda3\\lib\\site-packages\\pandas\\core\\indexes\\base.py:3804\u001b[0m, in \u001b[0;36mIndex.get_loc\u001b[1;34m(self, key, method, tolerance)\u001b[0m\n\u001b[0;32m   3802\u001b[0m     \u001b[38;5;28;01mreturn\u001b[39;00m \u001b[38;5;28mself\u001b[39m\u001b[38;5;241m.\u001b[39m_engine\u001b[38;5;241m.\u001b[39mget_loc(casted_key)\n\u001b[0;32m   3803\u001b[0m \u001b[38;5;28;01mexcept\u001b[39;00m \u001b[38;5;167;01mKeyError\u001b[39;00m \u001b[38;5;28;01mas\u001b[39;00m err:\n\u001b[1;32m-> 3804\u001b[0m     \u001b[38;5;28;01mraise\u001b[39;00m \u001b[38;5;167;01mKeyError\u001b[39;00m(key) \u001b[38;5;28;01mfrom\u001b[39;00m \u001b[38;5;21;01merr\u001b[39;00m\n\u001b[0;32m   3805\u001b[0m \u001b[38;5;28;01mexcept\u001b[39;00m \u001b[38;5;167;01mTypeError\u001b[39;00m:\n\u001b[0;32m   3806\u001b[0m     \u001b[38;5;66;03m# If we have a listlike key, _check_indexing_error will raise\u001b[39;00m\n\u001b[0;32m   3807\u001b[0m     \u001b[38;5;66;03m#  InvalidIndexError. Otherwise we fall through and re-raise\u001b[39;00m\n\u001b[0;32m   3808\u001b[0m     \u001b[38;5;66;03m#  the TypeError.\u001b[39;00m\n\u001b[0;32m   3809\u001b[0m     \u001b[38;5;28mself\u001b[39m\u001b[38;5;241m.\u001b[39m_check_indexing_error(key)\n",
      "\u001b[1;31mKeyError\u001b[0m: 'Factor2'"
     ]
    }
   ],
   "source": [
    "import pandas as pd\n",
    "import statsmodels.api as sm\n",
    "from statsmodels.formula.api import ols\n",
    "\n",
    "data = {'Factor1': [1, 1, 2, 2, 3, 3],\n",
    "        'Factor2': ['A', 'B', 'A', 'B', 'A', 'B'],\n",
    "        'Response': [5, 6, 7, 8, 9, 10]}\n",
    "\n",
    "df = pd.DataFrame(data)\n",
    "\n",
    "model = ols('Response ~ Factor1 + Factor2 + Factor1:Factor2', data=df).fit()\n",
    "\n",
    "main_effects = model.params['Factor1'], model.params['Factor2']\n",
    "interaction_effect = model.params['Factor1:Factor2']\n",
    "\n",
    "print(\"Main Effects:\", main_effects)\n",
    "print(\"Interaction Effect:\", interaction_effect)\n",
    "\n"
   ]
  },
  {
   "cell_type": "markdown",
   "id": "73ae2b5d-ecfb-4a90-9174-219e4e6cf29f",
   "metadata": {},
   "source": [
    "# Q6. Suppose you conducted a one-way ANOVA and obtained an F-statistic of 5.23 and a p-value of 0.02. What can you conclude about the differences between the groups, and how would you interpret these results?"
   ]
  },
  {
   "cell_type": "markdown",
   "id": "252de631-9edd-429d-bf6c-d494075a2788",
   "metadata": {},
   "source": [
    "In a one-way ANOVA, an F-statistic is used to test whether the means of the groups are significantly different. The p-value associated with the F-statistic indicates the probability of obtaining the observed results under the assumption that there are no significant differences between the group means.\n",
    "\n",
    "In this scenario, the obtained F-statistic is 5.23, and the p-value is 0.02.\n",
    "\n",
    "Interpretation: With a significance level of 0.05, since the p-value (0.02) is less than 0.05, we reject the null hypothesis. This means there is strong evidence to suggest that there are significant differences between the groups. However, the F-statistic value alone does not provide information about the direction or magnitude of the differences. To understand the specific group differences, further post-hoc tests or comparisons between group means would be necessary."
   ]
  },
  {
   "cell_type": "markdown",
   "id": "1f5c0b34-5ea4-401d-8b5d-125542ca8919",
   "metadata": {},
   "source": [
    "# Q7. In a repeated measures ANOVA, how would you handle missing data, and what are the potential consequences of using different methods to handle missing data?"
   ]
  },
  {
   "cell_type": "markdown",
   "id": "4121fc3c-f045-4a41-9a18-1193bd56c272",
   "metadata": {},
   "source": [
    "- In a repeated measures ANOVA, missing data can be a common issue as participants may drop out of the study, fail to complete some measurements, or for other reasons, data points may be missing. Handling missing data appropriately is crucial to avoid biased results. Several methods can be used to handle missing data, each with its potential consequences:\n",
    "\n",
    "- Complete Case Analysis (Listwise Deletion): This method involves excluding any participant with missing data on any of the measured variables. The consequence of this approach is reduced sample size, potentially leading to loss of statistical power and biased results if missing data are not missing completely at random.\n",
    "\n",
    "- Mean Imputation: Missing values are replaced with the mean value of the available data for that variable. This method can lead to an underestimation of variance and distorted standard errors, resulting in inflated Type I error rates.\n",
    "\n",
    "- Last Observation Carried Forward (LOCF): Missing values are replaced with the last observed value for that participant. This method may introduce bias if the assumption that the last observed value remains constant is not valid.\n",
    "\n",
    "- Multiple Imputation: A more sophisticated approach that involves creating multiple plausible imputations for the missing values based on the observed data's distribution. The analyses are performed on each imputed dataset, and results are combined to account for uncertainty. This method tends to produce more accurate estimates and valid statistical inferences.\n",
    "\n",
    "- Maximum Likelihood Estimation (MLE): MLE is an approach used in software capable of handling missing data. It estimates model parameters while accounting for the uncertainty associated with the missing data. MLE provides valid parameter estimates under the assumption that data are missing at random.\n",
    "\n",
    "- The choice of method depends on the underlying assumptions about the missing data mechanism and the extent of missingness in the dataset. It is essential to carefully consider the nature of the missing data and perform sensitivity analyses to assess the impact of different missing data methods on the results."
   ]
  },
  {
   "cell_type": "markdown",
   "id": "a611ddcf-f64b-4cb3-ae2c-4b56b921cac3",
   "metadata": {},
   "source": [
    "# Q8. What are some common post-hoc tests used after ANOVA, and when would you use each one? Provide an example of a situation where a post-hoc test might be necessary."
   ]
  },
  {
   "cell_type": "markdown",
   "id": "d602bf43-222c-4659-98fb-519c9ab21840",
   "metadata": {},
   "source": [
    "- After performing an ANOVA and finding a significant difference among the groups, post-hoc tests are used to determine which specific group means differ significantly from each other. Some common post-hoc tests include:\n",
    "\n",
    "- Tukey's Honestly Significant Difference (HSD): This test is conservative and controls the family-wise error rate. It is used when you have equal group sizes and want to compare all possible pairs of means. It is suitable when you have no specific hypotheses about which groups will differ.\n",
    "\n",
    "- Bonferroni Correction: This test is more conservative than Tukey's HSD and is used to control the overall family-wise error rate. It divides the desired alpha level (usually 0.05) by the number of pairwise comparisons.\n",
    "\n",
    "- Scheffe's Test: This test is less conservative than Tukey's HSD and is used when you have unequal group sizes or want to compare complex contrasts among means.\n",
    "\n",
    "- Dunnett's Test: This test is used when you have one control group and want to compare it to all other groups.\n",
    "\n",
    "- Example Situation: Suppose a researcher conducts an experiment comparing the effectiveness of four different teaching methods (A, B, C, and D) on test scores. After running an ANOVA, they find a statistically significant difference among the teaching methods. Now, they want to determine which specific pairs of teaching methods are significantly different from each other. In this case, a post-hoc test, such as Tukey's HSD or Bonferroni correction, can be used to make pairwise comparisons and identify the significant differences."
   ]
  },
  {
   "cell_type": "markdown",
   "id": "772edde2-f274-4417-b1e2-0e9689857643",
   "metadata": {},
   "source": [
    "# Q9. A researcher wants to compare the mean weight loss of three diets: A, B, and C. They collect data from 50 participants who were randomly assigned to one of the diets. Conduct a one-way ANOVA using Python to determine if there are any significant differences between the mean weight loss of the three diets. Report the F-statistic and p-value, and interpret the results.\n"
   ]
  },
  {
   "cell_type": "code",
   "execution_count": 5,
   "id": "4273921c-80e1-4786-bab2-96bc1dfd59c9",
   "metadata": {},
   "outputs": [],
   "source": [
    "#pip install scipy\n"
   ]
  },
  {
   "cell_type": "code",
   "execution_count": 6,
   "id": "28714bc7-51dd-4bb9-831e-436f36b45dbb",
   "metadata": {},
   "outputs": [
    {
     "name": "stdout",
     "output_type": "stream",
     "text": [
      "F-Statistic: 724.5919214415851\n",
      "p-value: 5.738634864256539e-55\n",
      "There is a significant difference between the mean weight loss of the three diets.\n"
     ]
    }
   ],
   "source": [
    "import numpy as np\n",
    "from scipy.stats import f_oneway\n",
    "\n",
    "# Weight loss data for each diet group\n",
    "diet_A = np.array([5.1, 4.8, 4.9, 4.7, 5.3, 5.5, 5.0, 4.6, 5.2, 5.4,\n",
    "                   5.1, 4.8, 4.9, 5.2, 5.3, 5.0, 5.2, 4.7, 5.0, 5.3,\n",
    "                   5.1, 5.5, 4.9, 4.8, 5.0, 5.2, 5.1, 5.3, 5.2, 5.1])\n",
    "\n",
    "diet_B = np.array([4.3, 4.1, 4.2, 4.0, 4.5, 4.4, 4.2, 4.6, 4.1, 4.3,\n",
    "                   4.2, 4.5, 4.4, 4.2, 4.3, 4.5, 4.6, 4.0, 4.4, 4.3,\n",
    "                   4.2, 4.6, 4.1, 4.3, 4.2, 4.4, 4.3, 4.5, 4.4, 4.2])\n",
    "\n",
    "diet_C = np.array([6.2, 6.0, 6.1, 5.9, 6.4, 6.3, 6.1, 6.5, 6.0, 6.2,\n",
    "                   6.1, 6.4, 6.3, 6.1, 6.2, 6.4, 6.5, 5.9, 6.3, 6.2,\n",
    "                   6.1, 6.5, 6.0, 6.2, 6.1, 6.3, 6.2, 6.4, 6.3, 6.1])\n",
    "\n",
    "# Perform one-way ANOVA\n",
    "f_statistic, p_value = f_oneway(diet_A, diet_B, diet_C)\n",
    "\n",
    "# Report the results\n",
    "print(\"F-Statistic:\", f_statistic)\n",
    "print(\"p-value:\", p_value)\n",
    "\n",
    "# Interpret the results\n",
    "alpha = 0.05\n",
    "if p_value < alpha:\n",
    "    print(\"There is a significant difference between the mean weight loss of the three diets.\")\n",
    "else:\n",
    "    print(\"There is no significant difference between the mean weight loss of the three diets.\")\n"
   ]
  },
  {
   "cell_type": "markdown",
   "id": "0512d47b-6c01-40bf-8802-289bb62898d5",
   "metadata": {},
   "source": [
    "# Q10. A company wants to know if there are any significant differences in the average time it takes to complete a task using three different software programs: Program A, Program B, and Program C. They randomly assign 30 employees to one of the programs and record the time it takes each employee to complete the task. Conduct a two-way ANOVA using Python to determine if there are any main effects or interaction effects between the software programs and employee experience level (novice vs. experienced). Report the F-statistics and p-values, and interpret the results."
   ]
  },
  {
   "cell_type": "code",
   "execution_count": 8,
   "id": "01f2eba5-994f-4892-b7f5-6d4971724fdc",
   "metadata": {},
   "outputs": [],
   "source": [
    "#pip install statsmodels\n"
   ]
  },
  {
   "cell_type": "code",
   "execution_count": 9,
   "id": "c624b580-0d2d-4a11-8d9c-6001329efad8",
   "metadata": {},
   "outputs": [
    {
     "name": "stdout",
     "output_type": "stream",
     "text": [
      "                          sum_sq    df           F        PR(>F)\n",
      "Software             1670.742908   2.0  159.586024  1.330837e-12\n",
      "Experience                   NaN   1.0         NaN           NaN\n",
      "Software:Experience    95.203333   2.0    9.093632  5.667015e-03\n",
      "Residual              136.100000  26.0         NaN           NaN\n"
     ]
    },
    {
     "name": "stderr",
     "output_type": "stream",
     "text": [
      "C:\\Users\\jigar\\anaconda3\\lib\\site-packages\\statsmodels\\base\\model.py:1871: ValueWarning: covariance of constraints does not have full rank. The number of constraints is 2, but rank is 1\n",
      "  warnings.warn('covariance of constraints does not have full '\n",
      "C:\\Users\\jigar\\anaconda3\\lib\\site-packages\\statsmodels\\base\\model.py:1871: ValueWarning: covariance of constraints does not have full rank. The number of constraints is 1, but rank is 0\n",
      "  warnings.warn('covariance of constraints does not have full '\n",
      "C:\\Users\\jigar\\anaconda3\\lib\\site-packages\\statsmodels\\base\\model.py:1900: RuntimeWarning: invalid value encountered in divide\n",
      "  F /= J\n",
      "C:\\Users\\jigar\\anaconda3\\lib\\site-packages\\statsmodels\\base\\model.py:1871: ValueWarning: covariance of constraints does not have full rank. The number of constraints is 2, but rank is 1\n",
      "  warnings.warn('covariance of constraints does not have full '\n"
     ]
    }
   ],
   "source": [
    "import pandas as pd\n",
    "import statsmodels.api as sm\n",
    "from statsmodels.formula.api import ols\n",
    "\n",
    "# Sample data in a DataFrame\n",
    "data = pd.DataFrame({\n",
    "    'Software': ['A'] * 10 + ['B'] * 10 + ['C'] * 10,\n",
    "    'Experience': ['Novice'] * 15 + ['Experienced'] * 15,\n",
    "    'Time': [20, 25, 22, 19, 21, 24, 18, 23, 26, 20,\n",
    "             30, 32, 28, 29, 31, 27, 33, 29, 31, 30,\n",
    "             15, 18, 17, 16, 19, 20, 18, 21, 22, 19]\n",
    "})\n",
    "\n",
    "# Perform two-way ANOVA\n",
    "model = ols('Time ~ Software + Experience + Software:Experience', data=data).fit()\n",
    "anova_table = sm.stats.anova_lm(model, typ=2)\n",
    "\n",
    "# Report the results\n",
    "print(anova_table)\n"
   ]
  },
  {
   "cell_type": "markdown",
   "id": "68432abe-a2a1-4e23-a619-ed9d19d889fb",
   "metadata": {},
   "source": [
    "# Q11. An educational researcher is interested in whether a new teaching method improves student test scores. They randomly assign 100 students to either the control group (traditional teaching method) or the experimental group (new teaching method) and administer a test at the end of the semester. Conduct a two-sample t-test using Python to determine if there are any significant differences in test scores between the two groups. If the results are significant, follow up with a post-hoc test to determine which group(s) differ significantly from each other."
   ]
  },
  {
   "cell_type": "code",
   "execution_count": 10,
   "id": "b338c731-f936-4db9-9ee9-0a85e5991829",
   "metadata": {},
   "outputs": [
    {
     "name": "stdout",
     "output_type": "stream",
     "text": [
      "T-Statistic: -7.113582731185638\n",
      "p-value: 1.8890074887517523e-09\n",
      "There is a significant difference in test scores between the two groups.\n",
      "  Multiple Comparison of Means - Tukey HSD, FWER=0.05   \n",
      "========================================================\n",
      " group1    group2    meandiff p-adj lower  upper  reject\n",
      "--------------------------------------------------------\n",
      "Control Experimental      7.8   0.0 5.6051 9.9949   True\n",
      "--------------------------------------------------------\n"
     ]
    }
   ],
   "source": [
    "import numpy as np\n",
    "from scipy.stats import ttest_ind\n",
    "from statsmodels.stats.multicomp import MultiComparison\n",
    "\n",
    "# Test scores data for the control group (traditional teaching method)\n",
    "control_group = np.array([75, 82, 88, 79, 90, 72, 85, 78, 80, 83,\n",
    "                          77, 86, 81, 73, 79, 84, 77, 82, 80, 76,\n",
    "                          75, 85, 81, 83, 79, 78, 74, 80, 88, 82])\n",
    "\n",
    "# Test scores data for the experimental group (new teaching method)\n",
    "experimental_group = np.array([85, 92, 78, 89, 94, 92, 87, 90, 96, 88,\n",
    "                               82, 91, 84, 89, 90, 83, 88, 86, 93, 85,\n",
    "                               88, 90, 89, 84, 92, 86, 85, 88, 90, 92])\n",
    "\n",
    "# Perform two-sample t-test\n",
    "t_statistic, p_value = ttest_ind(control_group, experimental_group)\n",
    "\n",
    "# Report the results\n",
    "print(\"T-Statistic:\", t_statistic)\n",
    "print(\"p-value:\", p_value)\n",
    "\n",
    "# Interpret the results\n",
    "alpha = 0.05\n",
    "if p_value < alpha:\n",
    "    print(\"There is a significant difference in test scores between the two groups.\")\n",
    "    # Follow up with post-hoc test (Tukey's HSD)\n",
    "    data = np.concatenate([control_group, experimental_group])\n",
    "    group_labels = ['Control'] * len(control_group) + ['Experimental'] * len(experimental_group)\n",
    "    mc = MultiComparison(data, group_labels)\n",
    "    result = mc.tukeyhsd()\n",
    "    print(result)\n",
    "else:\n",
    "    print(\"There is no significant difference in test scores between the two groups.\")\n"
   ]
  },
  {
   "cell_type": "markdown",
   "id": "5a2faad5-f393-414f-90ce-f74a2543aff8",
   "metadata": {},
   "source": [
    "# Q12. A researcher wants to know if there are any significant differences in the average daily sales of three retail stores: Store A, Store B, and Store C. They randomly select 30 days and record the sales for each store on those days. Conduct a repeated measures ANOVA using Python to determine if there are any significant differences in sales between the three stores. If the results are significant, follow up with a post\u0002hoc test to determine which store(s) differ significantly from each other."
   ]
  },
  {
   "cell_type": "code",
   "execution_count": 15,
   "id": "d6c5da09-dae2-49ee-b26d-05e999a5f140",
   "metadata": {},
   "outputs": [
    {
     "name": "stdout",
     "output_type": "stream",
     "text": [
      "F-Statistic: 2.722321779588673\n",
      "p-value: 0.07132327308922878\n",
      "There is no significant difference in daily sales between the three stores.\n"
     ]
    }
   ],
   "source": [
    "import numpy as np\n",
    "from scipy.stats import f_oneway\n",
    "from statsmodels.stats.multicomp import MultiComparison\n",
    "\n",
    "# Sample data for daily sales of three stores (30 days each)\n",
    "store_A_sales = np.array([100, 105, 98, 110, 115, 102, 108, 112, 105, 100,\n",
    "                          90, 95, 92, 88, 85, 93, 99, 105, 102, 97,\n",
    "                          120, 115, 112, 125, 130, 128, 132, 125, 120, 125])\n",
    "\n",
    "store_B_sales = np.array([80, 85, 82, 88, 85, 78, 82, 90, 85, 80,\n",
    "                          200, 198, 202, 210, 215, 212, 208, 205, 209, 198,\n",
    "                          90, 95, 92, 88, 85, 82, 88, 85, 78, 82])\n",
    "\n",
    "store_C_sales = np.array([120, 125, 130, 128, 132, 125, 120, 125, 130, 122,\n",
    "                          90, 95, 92, 88, 85, 82, 88, 85, 78, 82,\n",
    "                          100, 102, 98, 105, 110, 108, 112, 105, 100, 105])\n",
    "\n",
    "# Perform one-way ANOVA\n",
    "f_statistic, p_value = f_oneway(store_A_sales, store_B_sales, store_C_sales)\n",
    "\n",
    "# Report the results\n",
    "print(\"F-Statistic:\", f_statistic)\n",
    "print(\"p-value:\", p_value)\n",
    "\n",
    "# Interpret the results\n",
    "alpha = 0.05\n",
    "if p_value < alpha:\n",
    "    print(\"There is a significant difference in daily sales between the three stores.\")\n",
    "    # Follow up with post-hoc test (Tukey's HSD)\n",
    "    data = np.concatenate([store_A_sales, store_B_sales, store_C_sales])\n",
    "    group_labels = ['Store A'] * len(store_A_sales) + ['Store B'] * len(store_B_sales) + ['Store C'] * len(store_C_sales)\n",
    "    mc = MultiComparison(data, group_labels)\n",
    "    result = mc.tukeyhsd()\n",
    "    print(result)\n",
    "else:\n",
    "    print(\"There is no significant difference in daily sales between the three stores.\")\n"
   ]
  },
  {
   "cell_type": "code",
   "execution_count": null,
   "id": "066d807d-713c-476d-8259-01b3ea13e272",
   "metadata": {},
   "outputs": [],
   "source": []
  },
  {
   "cell_type": "code",
   "execution_count": null,
   "id": "b9c01179-c012-46b5-822f-f485aaf10581",
   "metadata": {},
   "outputs": [],
   "source": []
  }
 ],
 "metadata": {
  "kernelspec": {
   "display_name": "Python 3 (ipykernel)",
   "language": "python",
   "name": "python3"
  },
  "language_info": {
   "codemirror_mode": {
    "name": "ipython",
    "version": 3
   },
   "file_extension": ".py",
   "mimetype": "text/x-python",
   "name": "python",
   "nbconvert_exporter": "python",
   "pygments_lexer": "ipython3",
   "version": "3.10.9"
  }
 },
 "nbformat": 4,
 "nbformat_minor": 5
}
