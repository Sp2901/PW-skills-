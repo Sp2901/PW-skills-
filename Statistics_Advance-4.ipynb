{
 "cells": [
  {
   "cell_type": "markdown",
   "id": "931a1d99-423f-44d8-8a51-97c04cb21d2c",
   "metadata": {},
   "source": [
    "# Q1: What is the difference between a t-test and a z-test? Provide an example scenario where you would use each type of test."
   ]
  },
  {
   "cell_type": "markdown",
   "id": "55301dc9-8166-4af5-96a6-2090f0118a23",
   "metadata": {},
   "source": [
    "### T-test:\n",
    "\n",
    "- The t-test is used when the sample size is small (typically less than 30) or when the population standard deviation is unknown.\n",
    "- It is appropriate for testing hypotheses about the mean of a single sample or the difference between the means of two independent samples.\n",
    "### The test statistic follows a t-distribution.\n",
    "- Example scenario: Suppose you want to compare the average test scores of students from two different schools (School A and School B). You collect a random sample of 20 students from each school and want to determine if there is a significant difference in their average scores.\n",
    "### Z-test:\n",
    "\n",
    "- The z-test is used when the sample size is large (typically greater than 30) and the population standard deviation is known or when the sample size is large enough for the Central Limit Theorem to apply.\n",
    "- It is appropriate for testing hypotheses about the mean of a single sample or the difference between the means of two independent samples when the sample size is large.\n",
    "- The test statistic follows a standard normal distribution (z-distribution).\n",
    "- Example scenario: Suppose you have access to the heights of 500 randomly selected adult males in a city. You want to test if the average height of adult males in the city is significantly different from the national average height, which is 175 cm."
   ]
  },
  {
   "cell_type": "markdown",
   "id": "11fa5feb-7726-4c75-bfd7-655d4f874404",
   "metadata": {},
   "source": [
    "# Q2: Differentiate between one-tailed and two-tailed tests."
   ]
  },
  {
   "cell_type": "markdown",
   "id": "fb5b0387-4623-4f6a-b590-53c8e389078a",
   "metadata": {},
   "source": [
    "### One-tailed test:\n",
    "\n",
    "- In a one-tailed test, the alternative hypothesis is directional, meaning it specifies that the population parameter is greater than or less than a certain value.\n",
    "- The critical region for the test is on one side of the sampling distribution.\n",
    "- One-tailed tests are used when there is a clear directional expectation or hypothesis.\n",
    "- Example: Testing whether a new drug treatment increases the average lifespan of patients (one-tailed alternative hypothesis: the drug increases lifespan).\n",
    "### Two-tailed test:\n",
    "\n",
    "- In a two-tailed test, the alternative hypothesis is non-directional, and it specifies that the population parameter is not equal to a certain value.\n",
    "- The critical region for the test is on both sides of the sampling distribution.\n",
    "- Two-tailed tests are used when there is no specific directional expectation or when you want to detect any significant difference, whether it's an increase or decrease.\n",
    "- Example: Testing whether a coin is biased (two-tailed alternative hypothesis: the coin's probability of landing heads is not equal to 0.5)."
   ]
  },
  {
   "cell_type": "markdown",
   "id": "71559333-9aa6-46e6-8c7b-1d51aeabfdbe",
   "metadata": {},
   "source": [
    "# Q3: Explain the concept of Type 1 and Type 2 errors in hypothesis testing. Provide an example scenario for each type of error."
   ]
  },
  {
   "cell_type": "markdown",
   "id": "c4c1d4ad-21e6-45b7-8e1b-d96d74325bf2",
   "metadata": {},
   "source": [
    "### Type 1 error (False Positive):\n",
    "\n",
    "- A Type 1 error occurs when you reject a true null hypothesis.\n",
    "- In other words, you conclude that there is a significant effect or difference when, in reality, there is no such effect or difference in the population.\n",
    "- The probability of making a Type 1 error is denoted by the symbol alpha (α), which is the significance level set before conducting the test.\n",
    "- Example scenario for Type 1 error: A pharmaceutical company conducts a clinical trial for a new drug and erroneously concludes that the drug is effective in treating a disease when it actually has no effect.\n",
    "\n",
    "### Type 2 error (False Negative):\n",
    "\n",
    "- A Type 2 error occurs when you fail to reject a false null hypothesis.\n",
    "- In other words, you conclude that there is no significant effect or difference when, in reality, there is such an effect or difference in the population.\n",
    "- The probability of making a Type 2 error is denoted by the symbol beta (β).\n",
    "- Example scenario for Type 2 error: A medical test for a specific disease yields a negative result for a patient who actually has the disease, leading to the incorrect conclusion that the patient is healthy."
   ]
  },
  {
   "cell_type": "markdown",
   "id": "c515a1b5-a55f-4e57-bf69-970ced109550",
   "metadata": {},
   "source": [
    "# Q4:  Explain Bayes's theorem with an example."
   ]
  },
  {
   "cell_type": "markdown",
   "id": "92d29052-dce2-46c4-94fa-1549175f2727",
   "metadata": {},
   "source": [
    " Bayes's Theorem is a mathematical formula used to update the probability of an event occurring based on new evidence. It is expressed as:\n",
    "\n",
    "P(A|B) = (P(B|A) * P(A)) / P(B)\n",
    "\n",
    "Where:\n",
    "P(A|B) is the probability of event A occurring given the evidence B.\n",
    "P(B|A) is the probability of evidence B given that event A has occurred.\n",
    "P(A) is the prior probability of event A (before considering any evidence).\n",
    "P(B) is the prior probability of evidence B (before considering any evidence).\n",
    "\n",
    "Example scenario: Suppose there is a rare disease that affects 1 in every 10,000 people. A diagnostic test for this disease is known to be 99% accurate, meaning it correctly identifies a person with the disease 99% of the time and correctly identifies a healthy person 99% of the time.\n",
    "\n",
    "Let:\n",
    "A = The event that a person has the disease.\n",
    "B = The event that the test result is positive.\n",
    "\n",
    "We want to calculate the probability that a person has the disease given that the test result is positive (P(A|B)).\n",
    "\n",
    "P(A) = 1/10,000 (prior probability of having the disease)\n",
    "P(B|A) = 0.99 (probability of a positive test result given the person has the disease)\n",
    "P(B|¬A) = 0.01 (probability of a positive test result given the person does not have the disease)\n",
    "\n",
    "Now, we can calculate P(B) using the law of total probability:\n",
    "\n",
    "P(B) = P(B|A) * P(A) + P(B|¬A) * P(¬A)\n",
    "P(B) = 0.99 * (1/10,000) + 0.01 * (1 - 1/10,000)\n",
    "P(B) = 0.000099 + 0.9999 ≈ 1\n",
    "\n",
    "Now, we can apply Bayes's Theorem:\n",
    "\n",
    "P(A|B) = (P(B|A) * P(A)) / P(B)\n",
    "P(A|B) = (0.99 * 0.0001) / 1\n",
    "P(A|B) ≈ 0.000099 / 1 ≈ 0.000099\n",
    "\n",
    "So, given a positive test result, the probability that a person actually has the disease is approximately 0.0099% (0.000099 or 0.0099%)."
   ]
  },
  {
   "cell_type": "markdown",
   "id": "9dc00527-7608-4924-b04d-d648967633ab",
   "metadata": {},
   "source": [
    "# Q5: What is a confidence interval? How to calculate the confidence interval, explain with an example."
   ]
  },
  {
   "cell_type": "markdown",
   "id": "ca6557ca-1aae-44a6-9969-ae020fbb9ac0",
   "metadata": {},
   "source": [
    " A confidence interval is a range of values within which the true population parameter is likely to fall with a certain level of confidence. It provides a measure of the uncertainty associated with estimating a population parameter from a sample.\n",
    "\n",
    "To calculate a confidence interval for a population mean, you need the following information:\n",
    "\n",
    "Sample mean (x̄)\n",
    "Sample standard deviation (s) or the standard error of the mean (SE)\n",
    "Sample size (n)\n",
    "Desired confidence level (typically expressed as a percentage, e.g., 95%)\n",
    "The formula for the confidence interval of a population mean (assuming a large sample or when the population standard deviation is known) is:\n",
    "\n",
    "Confidence Interval = x̄ ± Z * (σ/√n)\n",
    "\n",
    "Where:\n",
    "x̄ is the sample mean\n",
    "Z is the critical value from the standard normal distribution corresponding to the desired confidence level (e.g., 1.96 for a 95% confidence level)\n",
    "σ is the population standard deviation (or sample standard deviation if the population standard deviation is unknown)\n",
    "n is the sample size\n",
    "\n",
    "Example:\n",
    "Suppose we have a sample of 100 students, and we want to calculate a 95% confidence interval for their average height. The sample mean height is 165 cm, and the sample standard deviation is 8 cm.\n",
    "\n",
    "Confidence Interval = 165 ± 1.96 * (8/√100)\n",
    "\n",
    "Calculations:\n",
    "Confidence Interval = 165 ± 1.96 * 0.8\n",
    "Confidence Interval = 165 ± 1.568\n",
    "\n",
    "Lower bound of the confidence interval = 165 - 1.568 ≈ 163.432\n",
    "Upper bound of the confidence interval = 165 + 1.568 ≈ 166.568\n",
    "\n",
    "Interpretation: We can be 95% confident that the true average height of the population of students lies between approximately 163.4 cm and 166.6 cm."
   ]
  },
  {
   "cell_type": "markdown",
   "id": "80f580d1-8bac-40dd-be0b-b8e281fd0ebb",
   "metadata": {},
   "source": [
    "# Q6. Use Bayes' Theorem to calculate the probability of an event occurring given prior knowledge of the event's probability and new evidence. Provide a sample problem and solution.\n"
   ]
  },
  {
   "cell_type": "markdown",
   "id": "75003877-1c62-4d94-b6c6-7e7c5fe73820",
   "metadata": {},
   "source": [
    "Suppose we have the following information:\n",
    "\n",
    "The prior probability of event A (P(A)) is 0.3 (30%).\n",
    "The probability of observing evidence B given that event A has occurred (P(B|A)) is 0.8 (80%).\n",
    "The probability of observing evidence B given that event A has not occurred (P(B|¬A)) is 0.2 (20%).\n",
    "We want to calculate the probability of event A occurring given the new evidence B (P(A|B)).\n",
    "\n",
    "Using Bayes's Theorem:\n",
    "\n",
    "P(A|B) = (P(B|A) * P(A)) / P(B)\n",
    "\n",
    "Substitute the given values:\n",
    "\n",
    "P(A|B) = (0.8 * 0.3) / P(B)\n",
    "\n",
    "To calculate P(B), we use the law of total probability:\n",
    "\n",
    "P(B) = P(B|A) * P(A) + P(B|¬A) * P(¬A)\n",
    "P(B) = 0.8 * 0.3 + 0.2 * (1 - 0.3)\n",
    "P(B) = 0.24 + 0.14\n",
    "P(B) = 0.38\n",
    "\n",
    "Now, we can find P(A|B):\n",
    "\n",
    "P(A|B) = (0.8 * 0.3) / 0.38\n",
    "P(A|B) = 0.24 / 0.38\n",
    "P(A|B) ≈ 0.6316\n",
    "\n",
    "So, the probability of event A occurring given the new evidence B is approximately 63.16%"
   ]
  },
  {
   "cell_type": "markdown",
   "id": "68e24c01-cc98-44a1-93bf-8bda6aa4b98f",
   "metadata": {},
   "source": [
    "# Q7. Calculate the 95% confidence interval for a sample of data with a mean of 50 and a standard deviation of 5. Interpret the results."
   ]
  },
  {
   "cell_type": "markdown",
   "id": "06ee5d20-8fbc-4563-8b19-077c2ecffa2e",
   "metadata": {},
   "source": [
    "Given:\n",
    "Sample mean (x̄) = 50\n",
    "Sample standard deviation (s) = 5\n",
    "Sample size (n) = The sample size is not provided, but we'll assume it's large enough for a z-test (e.g., n ≥ 30)\n",
    "\n",
    "Confidence Interval = x̄ ± Z * (s/√n)\n",
    "\n",
    "Since the sample size is not provided, we can't determine the exact value of Z for a 95% confidence level. However, the critical value for a 95% confidence level is approximately 1.96 for a large sample (z-score at 95% confidence).\n",
    "\n",
    "Let's assume the sample size is 100 (just for illustration purposes):\n",
    "\n",
    "Confidence Interval = 50 ± 1.96 * (5/√100)\n",
    "\n",
    "Calculations:\n",
    "Confidence Interval = 50 ± 1.96 * (0.5)\n",
    "Confidence Interval = 50 ± 0.98\n",
    "\n",
    "Lower bound of the confidence interval = 50 - 0.98 ≈ 49.02\n",
    "Upper bound of the confidence interval = 50 + 0.98 ≈ 50.98\n",
    "\n",
    "Interpretation: We can be 95% confident that the true population mean lies between approximately 49.02 and 50.98."
   ]
  },
  {
   "cell_type": "markdown",
   "id": "3db855b2-c9d2-4431-b087-a5a6c874e6a0",
   "metadata": {},
   "source": [
    "# Q8. What is the margin of error in a confidence interval? How does sample size affect the margin of error? Provide an example of a scenario where a larger sample size would result in a smaller margin of error."
   ]
  },
  {
   "cell_type": "markdown",
   "id": "c3a04b30-e929-4eab-8ef5-61e7bf6e5808",
   "metadata": {},
   "source": [
    "The margin of error (MOE) in a confidence interval represents the range of values around the sample estimate (e.g., sample mean or proportion) within which the true population parameter is likely to fall with a certain level of confidence. It quantifies the uncertainty associated with estimating the population parameter from a sample.\n",
    "\n",
    "A larger sample size generally results in a smaller margin of error. This is because as the sample size increases, the sample estimate becomes more precise and closer to the true population parameter. With a larger sample, the sampling distribution becomes narrower, which reduces the spread of the confidence interval and thus decreases the margin of error.\n",
    "\n",
    "Example scenario: Suppose you want to estimate the average height of students in a school. You collect two samples: Sample X with 50 students and Sample Y with 500 students. Assuming all other conditions are the same, the confidence interval for the population mean height in Sample Y will have a smaller margin of error compared to the confidence interval for the population mean height in Sample X."
   ]
  },
  {
   "cell_type": "markdown",
   "id": "fd60751e-a58f-4fb0-a1a2-e3cf8fb3a3de",
   "metadata": {},
   "source": [
    "# Q9. Calculate the z-score for a data point with a value of 75, a population mean of 70, and a population standard deviation of 5. Interpret the results."
   ]
  },
  {
   "cell_type": "markdown",
   "id": "41ecd5b9-700a-4b87-a1a7-7066c7d14c57",
   "metadata": {},
   "source": [
    "The z-score measures how many standard deviations a data point is away from the population mean. The formula for calculating the z-score is:\n",
    "\n",
    "z = (X - μ) / σ\n",
    "\n",
    "Where:\n",
    "X = The data point's value (75 in this case)\n",
    "μ = The population mean (70 in this case)\n",
    "σ = The population standard deviation (5 in this case)\n",
    "\n",
    "Calculations:\n",
    "z = (75 - 70) / 5\n",
    "z = 1\n",
    "\n",
    "Interpretation: The z-score of 1 indicates that the data point (75) is 1 standard deviation above the population mean (70)."
   ]
  },
  {
   "cell_type": "markdown",
   "id": "cf433ffd-8d72-4ef8-b779-1f54909d8436",
   "metadata": {},
   "source": [
    "# Q10. In a study of the effectiveness of a new weight loss drug, a sample of 50 participants lost an average of 6 pounds with a standard deviation of 2.5 pounds. Conduct a hypothesis test to determine if the drug is significantly effective at a 95% confidence level using a t-test."
   ]
  },
  {
   "cell_type": "markdown",
   "id": "3d2572ed-c52c-4372-bf24-f4e796beb244",
   "metadata": {},
   "source": [
    "Null Hypothesis (H0): The new weight loss drug has no significant effect on weight loss (μ = 0).\n",
    "Alternative Hypothesis (Ha): The new weight loss drug is significantly effective (μ < 0, one-tailed test).\n",
    "\n",
    "Given:\n",
    "Sample size (n) = 50\n",
    "Sample mean (x̄) = 6 pounds\n",
    "Sample standard deviation (s) = 2.5 pounds\n",
    "\n",
    "Assumptions: The population is approximately normally distributed.\n",
    "\n",
    "Test statistic for t-test:\n",
    "t = (x̄ - μ) / (s/√n)\n",
    "\n",
    "Calculations:\n",
    "t = (6 - 0) / (2.5/√50)\n",
    "t = 6 / (2.5/√50)\n",
    "t ≈ 6 / (2.5/7.07)\n",
    "t ≈ 6 / 0.354\n",
    "t ≈ 16.95\n",
    "\n",
    "Degrees of freedom (df) = n - 1 = 50 - 1 = 49\n",
    "\n",
    "Critical value for a one-tailed t-test at 95% confidence level with df = 49 is approximately -1.676.\n",
    "\n",
    "Conclusion: The calculated t-value (16.95) is much larger than the critical value (-1.676). Therefore, we reject the null hypothesis (H0) and conclude that the new weight loss drug is significantly effective at the 95% confidence level in helping participants lose weight."
   ]
  },
  {
   "cell_type": "markdown",
   "id": "a848cfbc-3344-43b8-bb90-80856b98ea5e",
   "metadata": {},
   "source": [
    "# Q11. In a survey of 500 people, 65% reported being satisfied with their current job. Calculate the 95% confidence interval for the true proportion of people who are satisfied with their job."
   ]
  },
  {
   "cell_type": "markdown",
   "id": "af08fa23-6aef-43d1-947b-c4610bed9040",
   "metadata": {},
   "source": [
    "Given:\n",
    "Sample proportion (p̂) = 65% = 0.65\n",
    "Sample size (n) = 500\n",
    "\n",
    "The formula for the confidence interval of a proportion is:\n",
    "\n",
    "Confidence Interval = p̂ ± Z * √(p̂(1-p̂)/n)\n",
    "\n",
    "Where:\n",
    "Z is the critical value from the standard normal distribution corresponding to the desired confidence level (e.g., 1.96 for a 95% confidence level)\n",
    "\n",
    "Calculations:\n",
    "Confidence Interval = 0.65 ± 1.96 * √(0.65 * (1 - 0.65) / 500)\n",
    "\n",
    "Confidence Interval = 0.65 ± 1.96 * √(0.65 * 0.35 / 500)\n",
    "\n",
    "Confidence Interval = 0.65 ± 1.96 * √(0.2275 / 500)\n",
    "\n",
    "Confidence Interval = 0.65 ± 1.96 * 0.021342\n",
    "\n",
    "Lower bound of the confidence interval = 0.65 - 0.0418 ≈ 0.6082\n",
    "Upper bound of the confidence interval = 0.65 + 0.0418 ≈ 0.6918\n",
    "\n",
    "Interpretation: We can be 95% confident that the true proportion of people who are satisfied with their job lies between approximately 60.82% and 69.18%."
   ]
  },
  {
   "cell_type": "markdown",
   "id": "32070cbd-3cf0-4b4b-94f9-a5e728cc611c",
   "metadata": {},
   "source": [
    "# Q12. A researcher is testing the effectiveness of two different teaching methods on student performance. Sample A has a mean score of 85 with a standard deviation of 6, while sample B has a mean score of 82 with a standard deviation of 5. Conduct a hypothesis test to determine if the two teaching methods have a significant difference in student performance using a t-test with a significance level of 0.01."
   ]
  },
  {
   "cell_type": "markdown",
   "id": "a5503eff-166c-4673-8fbd-fe903a23d708",
   "metadata": {},
   "source": [
    "Null Hypothesis (H0): There is no significant difference in student performance between the two teaching methods (μ1 - μ2 = 0).\n",
    "Alternative Hypothesis (Ha): There is a significant difference in student performance between the two teaching methods (μ1 - μ2 ≠ 0, two-tailed test).\n",
    "\n",
    "Given:\n",
    "Sample A mean (x̄1) = 85\n",
    "Sample A standard deviation (s1) = 6\n",
    "Sample A size (n1) = The sample size for Sample A is not provided, but we'll assume it's large enough for a t-test (e.g., n1 ≥ 30)\n",
    "\n",
    "Sample B mean (x̄2) = 82\n",
    "Sample B standard deviation (s2) = 5\n",
    "Sample B size (n2) = The sample size for Sample B is not provided, but we'll assume it's large enough for a t-test (e.g., n2 ≥ 30)\n",
    "\n",
    "Assumptions: The populations are approximately normally distributed, and the samples are independent.\n",
    "\n",
    "Pooled standard deviation (sp) for the two samples:\n",
    "sp = √[((n1-1) * s1^2 + (n2-1) * s2^2) / (n1 + n2 - 2)]\n",
    "sp = √[((n1-1) * 6^2 + (n2-1) * 5^2) / (n1 + n2 - 2)]\n",
    "\n",
    "Calculate the degrees of freedom (df) for the t-test:\n",
    "df = n1 + n2 - 2\n",
    "\n",
    "Test statistic for t-test:\n",
    "t = (x̄1 - x̄2) / (sp * √(1/n1 + 1/n2))\n",
    "\n",
    "Calculate the critical value for a t-test at a 0.01 significance level and df = df (from above).\n",
    "\n",
    "Compare the calculated t-value with the critical value to make a decision about the null hypothesis.\n",
    "\n",
    "Note: The sample sizes for both samples are required to complete the calculations, but they are not provided in the given information.\n",
    "\n"
   ]
  },
  {
   "cell_type": "markdown",
   "id": "11d2ef1e-4c3a-459f-bc22-01617e55b422",
   "metadata": {},
   "source": [
    "# Q13. A population has a mean of 60 and a standard deviation of 8. A sample of 50 observations has a mean of 65. Calculate the 90% confidence interval for the true population mean."
   ]
  },
  {
   "cell_type": "markdown",
   "id": "e428cc96-7df6-4657-85ce-fa89c18e5b63",
   "metadata": {},
   "source": [
    "Given:\n",
    "Population mean (μ) = 60\n",
    "Population standard deviation (σ) = 8\n",
    "Sample size (n) = 50\n",
    "Desired confidence level = 90% (corresponding Z-score is approximately 1.645)\n",
    "\n",
    "The formula for the confidence interval of a population mean (assuming a large sample or when the population standard deviation is known) is:\n",
    "\n",
    "Confidence Interval = x̄ ± Z * (σ/√n)\n",
    "\n",
    "Calculations:\n",
    "Confidence Interval = 65 ± 1.645 * (8/√50)\n",
    "\n",
    "Confidence Interval = 65 ± 1.645 * (8/7.07)\n",
    "\n",
    "Confidence Interval = 65 ± 1.645 * 1.1314\n",
    "\n",
    "Lower bound of the confidence interval = 65 - 1.8607 ≈ 63.14\n",
    "Upper bound of the confidence interval = 65 + 1.8607 ≈ 66.86\n",
    "\n",
    "Interpretation: We can be 90% confident that the true population mean lies between approximately 63.14 and 66.86."
   ]
  },
  {
   "cell_type": "markdown",
   "id": "bcacf05b-9631-4067-ae0f-2fd11cae911c",
   "metadata": {},
   "source": [
    "# Q14. In a study of the effects of caffeine on reaction time, a sample of 30 participants had an average reaction time of 0.25 seconds with a standard deviation of 0.05 seconds. Conduct a hypothesis test to determine if the caffeine has a significant effect on reaction time at a 90% confidence level using a t-test."
   ]
  },
  {
   "cell_type": "markdown",
   "id": "76fcb2e8-ab73-409d-b406-8962bd0ae85f",
   "metadata": {},
   "source": [
    "Null Hypothesis (H0): Caffeine has no significant effect on reaction time (μ = 0).\n",
    "Alternative Hypothesis (Ha): Caffeine has a significant effect on reaction time (μ ≠ 0, two-tailed test).\n",
    "\n",
    "Given:\n",
    "Sample mean (x̄) = 0.25 seconds\n",
    "Sample standard deviation (s) = 0.05 seconds\n",
    "Sample size (n) = 30\n",
    "\n",
    "Assumptions: The population is approximately normally distributed, and the sample is a random sample.\n",
    "\n",
    "Test statistic for t-test:\n",
    "t = (x̄ - μ) / (s/√n)\n",
    "\n",
    "Calculations:\n",
    "t = (0.25 - 0) / (0.05/√30)\n",
    "t = 0.25 / (0.05/√30)\n",
    "t ≈ 0.25 / (0.05/5.48)\n",
    "t ≈ 0.25 / 0.0091\n",
    "t ≈ 27.47\n",
    "\n",
    "Degrees of freedom (df) = n - 1 = 30 - 1 = 29\n",
    "\n",
    "Critical value for a two-tailed t-test at 90% confidence level with df = 29 is approximately ±1.699.\n",
    "\n",
    "Conclusion: The calculated t-value (27.47) is much larger than the critical value (±1.699). Therefore, we reject the null hypothesis (H0) and conclude that caffeine has a significant effect on reaction time at the 90% confidence level."
   ]
  }
 ],
 "metadata": {
  "kernelspec": {
   "display_name": "Python 3 (ipykernel)",
   "language": "python",
   "name": "python3"
  },
  "language_info": {
   "codemirror_mode": {
    "name": "ipython",
    "version": 3
   },
   "file_extension": ".py",
   "mimetype": "text/x-python",
   "name": "python",
   "nbconvert_exporter": "python",
   "pygments_lexer": "ipython3",
   "version": "3.10.9"
  }
 },
 "nbformat": 4,
 "nbformat_minor": 5
}
