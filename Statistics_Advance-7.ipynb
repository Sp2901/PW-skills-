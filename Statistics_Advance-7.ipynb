{
 "cells": [
  {
   "cell_type": "markdown",
   "id": "10e78088-04a1-4da2-9335-406f3307f2b9",
   "metadata": {},
   "source": [
    "# Q1. Write a Python function that takes in two arrays of data and calculates the F-value for a variance ratio test. The function should return the F-value and the corresponding p-value for the test."
   ]
  },
  {
   "cell_type": "code",
   "execution_count": 1,
   "id": "657b1f4f-9e12-43e0-bb0c-7c8fb9ec6ca7",
   "metadata": {},
   "outputs": [
    {
     "name": "stdout",
     "output_type": "stream",
     "text": [
      "F-value: 0.26881720430107525\n",
      "p-value: 1.7687202683818697\n"
     ]
    }
   ],
   "source": [
    "import numpy as np\n",
    "from scipy.stats import f\n",
    "\n",
    "def variance_ratio_test(data1, data2):\n",
    "    # Calculate the sample variances\n",
    "    variance1 = np.var(data1, ddof=1)\n",
    "    variance2 = np.var(data2, ddof=1)\n",
    "    \n",
    "    # Calculate the F-value and p-value\n",
    "    f_value = variance1 / variance2\n",
    "    df1 = len(data1) - 1\n",
    "    df2 = len(data2) - 1\n",
    "    p_value = f.sf(f_value, df1, df2) * 2  # Two-tailed test\n",
    "    \n",
    "    return f_value, p_value\n",
    "\n",
    "# Example usage:\n",
    "data1 = [4, 5, 6, 7, 8]\n",
    "data2 = [7, 9, 10, 12, 15]\n",
    "f_value, p_value = variance_ratio_test(data1, data2)\n",
    "print(\"F-value:\", f_value)\n",
    "print(\"p-value:\", p_value)\n"
   ]
  },
  {
   "cell_type": "markdown",
   "id": "1ef59e0b-0e8d-4881-b7b1-920ce8c1a10f",
   "metadata": {},
   "source": [
    "# Q2. Given a significance level of 0.05 and the degrees of freedom for the numerator and denominator of an F-distribution, write a Python function that returns the critical F-value for a two-tailed test."
   ]
  },
  {
   "cell_type": "code",
   "execution_count": 2,
   "id": "61bfae5b-63dc-45fc-a097-2aa6fc855abb",
   "metadata": {},
   "outputs": [
    {
     "name": "stdout",
     "output_type": "stream",
     "text": [
      "Critical F-Value: 4.236085668188633\n"
     ]
    }
   ],
   "source": [
    "from scipy.stats import f\n",
    "\n",
    "def critical_f_value(alpha, df1, df2):\n",
    "    return f.ppf(1 - alpha / 2, df1, df2)\n",
    "\n",
    "# Example usage:\n",
    "alpha = 0.05\n",
    "df1 = 5\n",
    "df2 = 10\n",
    "crit_f_value = critical_f_value(alpha, df1, df2)\n",
    "print(\"Critical F-Value:\", crit_f_value)\n"
   ]
  },
  {
   "cell_type": "markdown",
   "id": "ccc906a0-85ca-49a4-8153-4cc00a9a7f84",
   "metadata": {},
   "source": [
    "# Q3. Write a Python program that generates random samples from two normal distributions with known variances and uses an F-test to determine if the variances are equal. The program should output the F\u0002value, degrees of freedom, and p-value for the test.\n"
   ]
  },
  {
   "cell_type": "code",
   "execution_count": 3,
   "id": "c7be6351-6c44-49ea-b990-f6bc7e6fbd54",
   "metadata": {},
   "outputs": [
    {
     "name": "stdout",
     "output_type": "stream",
     "text": [
      "F-value: 0.9343218779991281\n",
      "Degrees of Freedom (Numerator): 29\n",
      "Degrees of Freedom (Denominator): 29\n",
      "p-value: 1.1438926662158264\n"
     ]
    }
   ],
   "source": [
    "import numpy as np\n",
    "from scipy.stats import f\n",
    "\n",
    "def equal_variances_f_test(data1, data2):\n",
    "    # Calculate the sample variances\n",
    "    variance1 = np.var(data1, ddof=1)\n",
    "    variance2 = np.var(data2, ddof=1)\n",
    "    \n",
    "    # Calculate the F-value and p-value\n",
    "    f_value = variance1 / variance2\n",
    "    df1 = len(data1) - 1\n",
    "    df2 = len(data2) - 1\n",
    "    p_value = f.sf(f_value, df1, df2) * 2  # Two-tailed test\n",
    "    \n",
    "    return f_value, df1, df2, p_value\n",
    "\n",
    "# Example usage:\n",
    "np.random.seed(42)\n",
    "data1 = np.random.normal(loc=10, scale=3, size=30)\n",
    "data2 = np.random.normal(loc=12, scale=3, size=30)\n",
    "f_value, df1, df2, p_value = equal_variances_f_test(data1, data2)\n",
    "print(\"F-value:\", f_value)\n",
    "print(\"Degrees of Freedom (Numerator):\", df1)\n",
    "print(\"Degrees of Freedom (Denominator):\", df2)\n",
    "print(\"p-value:\", p_value)\n"
   ]
  },
  {
   "cell_type": "markdown",
   "id": "b6f34e66-66fb-41c5-b2b9-974f9c3f5052",
   "metadata": {},
   "source": [
    "# Q4.The variances of two populations are known to be 10 and 15. A sample of 12 observations is taken from each population. Conduct an F-test at the 5% significance level to determine if the variances are significantly different."
   ]
  },
  {
   "cell_type": "code",
   "execution_count": 4,
   "id": "1b30bbb9-9199-4d62-9726-d4430882edff",
   "metadata": {},
   "outputs": [
    {
     "name": "stdout",
     "output_type": "stream",
     "text": [
      "There is no significant difference in variances.\n"
     ]
    }
   ],
   "source": [
    "from scipy.stats import f\n",
    "\n",
    "# Given data\n",
    "variance1 = 10\n",
    "variance2 = 15\n",
    "sample_size = 12\n",
    "\n",
    "# Calculate the F-value and p-value\n",
    "f_value = variance1 / variance2\n",
    "df1 = sample_size - 1\n",
    "df2 = sample_size - 1\n",
    "p_value = f.sf(f_value, df1, df2)\n",
    "\n",
    "# Test the significance level\n",
    "alpha = 0.05\n",
    "if p_value < alpha:\n",
    "    print(\"The variances are significantly different.\")\n",
    "else:\n",
    "    print(\"There is no significant difference in variances.\")\n"
   ]
  },
  {
   "cell_type": "markdown",
   "id": "dc906bda-dc00-4ba1-a954-36fba360cbdb",
   "metadata": {},
   "source": [
    "# Q5. A manufacturer claims that the variance of the diameter of a certain product is 0.005. A sample of 25 products is taken, and the sample variance is found to be 0.006. Conduct an F-test at the 1% significance level to determine if the claim is justified"
   ]
  },
  {
   "cell_type": "code",
   "execution_count": 5,
   "id": "2b183275-201e-4498-9911-4904053085dd",
   "metadata": {},
   "outputs": [
    {
     "name": "stdout",
     "output_type": "stream",
     "text": [
      "The claim is justified. There is no significant difference in variances.\n"
     ]
    }
   ],
   "source": [
    "from scipy.stats import f\n",
    "\n",
    "# Given data\n",
    "sample_size = 25\n",
    "sample_variance = 0.006\n",
    "population_variance = 0.005\n",
    "\n",
    "# Calculate the F-value and p-value\n",
    "f_value = sample_variance / population_variance\n",
    "df1 = sample_size - 1\n",
    "df2 = sample_size - 1\n",
    "p_value = f.sf(f_value, df1, df2)\n",
    "\n",
    "# Test the significance level\n",
    "alpha = 0.01\n",
    "if p_value < alpha:\n",
    "    print(\"The claim is not justified. The variance is significantly different.\")\n",
    "else:\n",
    "    print(\"The claim is justified. There is no significant difference in variances.\")\n"
   ]
  },
  {
   "cell_type": "markdown",
   "id": "3c0a18b8-fdd3-4b64-9e4c-790deff9eb74",
   "metadata": {},
   "source": [
    "# Q6. Write a Python function that takes in the degrees of freedom for the numerator and denominator of an F-distribution and calculates the mean and variance of the distribution. The function should return the mean and variance as a tuple."
   ]
  },
  {
   "cell_type": "code",
   "execution_count": 6,
   "id": "c645a0b6-6feb-44e6-9890-052df328f267",
   "metadata": {},
   "outputs": [
    {
     "name": "stdout",
     "output_type": "stream",
     "text": [
      "Mean of F-distribution: 1.25\n",
      "Variance of F-distribution: 1.3541666666666667\n"
     ]
    }
   ],
   "source": [
    "def f_distribution_mean_variance(df1, df2):\n",
    "    # Calculate the mean and variance of the F-distribution\n",
    "    if df2 <= 2:\n",
    "        raise ValueError(\"The denominator degrees of freedom (df2) must be greater than 2.\")\n",
    "    \n",
    "    mean = df2 / (df2 - 2)\n",
    "    variance = (2 * df2**2 * (df1 + df2 - 2)) / (df1 * (df2 - 2)**2 * (df2 - 4))\n",
    "    \n",
    "    return mean, variance\n",
    "\n",
    "# Example usage:\n",
    "df1 = 5\n",
    "df2 = 10\n",
    "mean, variance = f_distribution_mean_variance(df1, df2)\n",
    "print(\"Mean of F-distribution:\", mean)\n",
    "print(\"Variance of F-distribution:\", variance)\n"
   ]
  },
  {
   "cell_type": "markdown",
   "id": "8ce10111-f9d0-40a7-b89b-51ad21366f0b",
   "metadata": {},
   "source": [
    "# Q7. A random sample of 10 measurements is taken from a normal population with unknown variance. The sample variance is found to be 25. Another random sample of 15 measurements is taken from another normal population with unknown variance, and the sample variance is found to be 20. Conduct an F-test at the 10% significance level to determine if the variances are significantly different."
   ]
  },
  {
   "cell_type": "code",
   "execution_count": 7,
   "id": "7446e099-827e-4993-9b0d-6c69d4379f7c",
   "metadata": {},
   "outputs": [
    {
     "name": "stdout",
     "output_type": "stream",
     "text": [
      "There is no significant difference in variances.\n"
     ]
    }
   ],
   "source": [
    "from scipy.stats import f\n",
    "\n",
    "# Given data\n",
    "sample_size1 = 10\n",
    "sample_variance1 = 25\n",
    "sample_size2 = 15\n",
    "sample_variance2 = 20\n",
    "\n",
    "# Calculate the F-value and p-value\n",
    "f_value = sample_variance1 / sample_variance2\n",
    "df1 = sample_size1 - 1\n",
    "df2 = sample_size2 - 1\n",
    "p_value = f.sf(f_value, df1, df2)\n",
    "\n",
    "# Test the significance level\n",
    "alpha = 0.10\n",
    "if p_value < alpha:\n",
    "    print(\"The variances are significantly different.\")\n",
    "else:\n",
    "    print(\"There is no significant difference in variances.\")\n"
   ]
  },
  {
   "cell_type": "markdown",
   "id": "4d450e91-e353-4953-9fa5-5c5fc7be77f7",
   "metadata": {},
   "source": [
    "# Q8. The following data represent the waiting times in minutes at two different restaurants on a Saturday night: Restaurant A: 24, 25, 28, 23, 22, 20, 27; Restaurant B: 31, 33, 35, 30, 32, 36. Conduct an F-test at the 5% significance level to determine if the variances are significantly different."
   ]
  },
  {
   "cell_type": "code",
   "execution_count": 8,
   "id": "8c99771c-703c-46da-958c-dfc4d36b46ef",
   "metadata": {},
   "outputs": [
    {
     "name": "stdout",
     "output_type": "stream",
     "text": [
      "There is no significant difference in variances.\n"
     ]
    }
   ],
   "source": [
    "from scipy.stats import f\n",
    "\n",
    "# Waiting times at Restaurant A and B\n",
    "restaurant_A = [24, 25, 28, 23, 22, 20, 27]\n",
    "restaurant_B = [31, 33, 35, 30, 32, 36]\n",
    "\n",
    "# Calculate the sample variances\n",
    "sample_variance_A = np.var(restaurant_A, ddof=1)\n",
    "sample_variance_B = np.var(restaurant_B, ddof=1)\n",
    "\n",
    "# Calculate the F-value and p-value\n",
    "f_value = sample_variance_A / sample_variance_B\n",
    "df1 = len(restaurant_A) - 1\n",
    "df2 = len(restaurant_B) - 1\n",
    "p_value = f.sf(f_value, df1, df2)\n",
    "\n",
    "# Test the significance level\n",
    "alpha = 0.05\n",
    "if p_value < alpha:\n",
    "    print(\"The variances are significantly different.\")\n",
    "else:\n",
    "    print(\"There is no significant difference in variances.\")\n"
   ]
  },
  {
   "cell_type": "markdown",
   "id": "852a22af-56a1-43da-99ce-efdc5a11d5ac",
   "metadata": {},
   "source": [
    "# Q9. The following data represent the test scores of two groups of students: Group A: 80, 85, 90, 92, 87, 83; Group B: 75, 78, 82, 79, 81, 84. Conduct an F-test at the 1% significance level to determine if the variances are significantly different."
   ]
  },
  {
   "cell_type": "code",
   "execution_count": 9,
   "id": "e9f40add-9e12-4d39-b1cd-206cd4c22b3f",
   "metadata": {},
   "outputs": [
    {
     "name": "stdout",
     "output_type": "stream",
     "text": [
      "There is no significant difference in variances.\n"
     ]
    }
   ],
   "source": [
    "from scipy.stats import f\n",
    "\n",
    "# Test scores of two groups (Group A and Group B)\n",
    "group_A_scores = [80, 85, 90, 92, 87, 83]\n",
    "group_B_scores = [75, 78, 82, 79, 81, 84]\n",
    "\n",
    "# Calculate the sample variances\n",
    "sample_variance_A = np.var(group_A_scores, ddof=1)\n",
    "sample_variance_B = np.var(group_B_scores, ddof=1)\n",
    "\n",
    "# Calculate the F-value and p-value\n",
    "f_value = sample_variance_A / sample_variance_B\n",
    "df1 = len(group_A_scores) - 1\n",
    "df2 = len(group_B_scores) - 1\n",
    "p_value = f.sf(f_value, df1, df2)\n",
    "\n",
    "# Test the significance level\n",
    "alpha = 0.01\n",
    "if p_value < alpha:\n",
    "    print(\"The variances are significantly different.\")\n",
    "else:\n",
    "    print(\"There is no significant difference in variances.\")\n"
   ]
  },
  {
   "cell_type": "code",
   "execution_count": null,
   "id": "92078f41-99b4-4008-b768-d91588ee4cf6",
   "metadata": {},
   "outputs": [],
   "source": []
  },
  {
   "cell_type": "code",
   "execution_count": null,
   "id": "c34cebeb-8248-44c0-9a64-3c10b14c73b2",
   "metadata": {},
   "outputs": [],
   "source": []
  }
 ],
 "metadata": {
  "kernelspec": {
   "display_name": "Python 3 (ipykernel)",
   "language": "python",
   "name": "python3"
  },
  "language_info": {
   "codemirror_mode": {
    "name": "ipython",
    "version": 3
   },
   "file_extension": ".py",
   "mimetype": "text/x-python",
   "name": "python",
   "nbconvert_exporter": "python",
   "pygments_lexer": "ipython3",
   "version": "3.10.9"
  }
 },
 "nbformat": 4,
 "nbformat_minor": 5
}
